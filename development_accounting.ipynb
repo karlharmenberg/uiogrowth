{
 "cells": [
  {
   "cell_type": "markdown",
   "metadata": {},
   "source": [
    "# Intro to Development Accounting\n",
    "In this note, we produce some results which conceptually replicates [Caselli 2005](https://personal.lse.ac.uk/casellif/papers/handbook.pdf) (see also [Caselli 2016](https://documents1.worldbank.org/curated/ru/199521487336202705/pdf/112882-WP-PUBLIC-WDR17BPAccountingforCrossCountryDifferencesTenYearsLater.pdf)). However, we use Penn World Table 10 with a different and improved treatment of both capital and human capital.\n",
    "\n",
    "## Loading modules\n",
    "\n",
    "First, we load Python modules (informally: collections of functions and capabilities):"
   ]
  },
  {
   "cell_type": "code",
   "execution_count": 1,
   "metadata": {},
   "outputs": [],
   "source": [
    "import numpy as np #numerical stuff (i.e., taking logarithms)\n",
    "import pandas as pd #good for handling datasets\n",
    "import plotly.express as px #good for plotting\n",
    "import plotly.graph_objects as go"
   ]
  },
  {
   "cell_type": "markdown",
   "metadata": {},
   "source": [
    "## Loading the dataset and constructing variables\n",
    "\n",
    "Then we load the dataset from the website."
   ]
  },
  {
   "cell_type": "code",
   "execution_count": 2,
   "metadata": {},
   "outputs": [],
   "source": [
    "# Download data from Penn World Table\n",
    "url = \"https://www.rug.nl/ggdc/docs/pwt100.xlsx\"\n",
    "data_in = pd.read_excel(url, sheet_name='Data')"
   ]
  },
  {
   "cell_type": "markdown",
   "metadata": {},
   "source": [
    "What does the dataset look like?"
   ]
  },
  {
   "cell_type": "code",
   "execution_count": 3,
   "metadata": {},
   "outputs": [
    {
     "data": {
      "text/html": [
       "<div>\n",
       "<style scoped>\n",
       "    .dataframe tbody tr th:only-of-type {\n",
       "        vertical-align: middle;\n",
       "    }\n",
       "\n",
       "    .dataframe tbody tr th {\n",
       "        vertical-align: top;\n",
       "    }\n",
       "\n",
       "    .dataframe thead th {\n",
       "        text-align: right;\n",
       "    }\n",
       "</style>\n",
       "<table border=\"1\" class=\"dataframe\">\n",
       "  <thead>\n",
       "    <tr style=\"text-align: right;\">\n",
       "      <th></th>\n",
       "      <th>countrycode</th>\n",
       "      <th>country</th>\n",
       "      <th>currency_unit</th>\n",
       "      <th>year</th>\n",
       "      <th>rgdpe</th>\n",
       "      <th>rgdpo</th>\n",
       "      <th>pop</th>\n",
       "      <th>emp</th>\n",
       "      <th>avh</th>\n",
       "      <th>hc</th>\n",
       "      <th>...</th>\n",
       "      <th>csh_x</th>\n",
       "      <th>csh_m</th>\n",
       "      <th>csh_r</th>\n",
       "      <th>pl_c</th>\n",
       "      <th>pl_i</th>\n",
       "      <th>pl_g</th>\n",
       "      <th>pl_x</th>\n",
       "      <th>pl_m</th>\n",
       "      <th>pl_n</th>\n",
       "      <th>pl_k</th>\n",
       "    </tr>\n",
       "  </thead>\n",
       "  <tbody>\n",
       "    <tr>\n",
       "      <th>0</th>\n",
       "      <td>ABW</td>\n",
       "      <td>Aruba</td>\n",
       "      <td>Aruban Guilder</td>\n",
       "      <td>1950</td>\n",
       "      <td>NaN</td>\n",
       "      <td>NaN</td>\n",
       "      <td>NaN</td>\n",
       "      <td>NaN</td>\n",
       "      <td>NaN</td>\n",
       "      <td>NaN</td>\n",
       "      <td>...</td>\n",
       "      <td>NaN</td>\n",
       "      <td>NaN</td>\n",
       "      <td>NaN</td>\n",
       "      <td>NaN</td>\n",
       "      <td>NaN</td>\n",
       "      <td>NaN</td>\n",
       "      <td>NaN</td>\n",
       "      <td>NaN</td>\n",
       "      <td>NaN</td>\n",
       "      <td>NaN</td>\n",
       "    </tr>\n",
       "    <tr>\n",
       "      <th>1</th>\n",
       "      <td>ABW</td>\n",
       "      <td>Aruba</td>\n",
       "      <td>Aruban Guilder</td>\n",
       "      <td>1951</td>\n",
       "      <td>NaN</td>\n",
       "      <td>NaN</td>\n",
       "      <td>NaN</td>\n",
       "      <td>NaN</td>\n",
       "      <td>NaN</td>\n",
       "      <td>NaN</td>\n",
       "      <td>...</td>\n",
       "      <td>NaN</td>\n",
       "      <td>NaN</td>\n",
       "      <td>NaN</td>\n",
       "      <td>NaN</td>\n",
       "      <td>NaN</td>\n",
       "      <td>NaN</td>\n",
       "      <td>NaN</td>\n",
       "      <td>NaN</td>\n",
       "      <td>NaN</td>\n",
       "      <td>NaN</td>\n",
       "    </tr>\n",
       "    <tr>\n",
       "      <th>2</th>\n",
       "      <td>ABW</td>\n",
       "      <td>Aruba</td>\n",
       "      <td>Aruban Guilder</td>\n",
       "      <td>1952</td>\n",
       "      <td>NaN</td>\n",
       "      <td>NaN</td>\n",
       "      <td>NaN</td>\n",
       "      <td>NaN</td>\n",
       "      <td>NaN</td>\n",
       "      <td>NaN</td>\n",
       "      <td>...</td>\n",
       "      <td>NaN</td>\n",
       "      <td>NaN</td>\n",
       "      <td>NaN</td>\n",
       "      <td>NaN</td>\n",
       "      <td>NaN</td>\n",
       "      <td>NaN</td>\n",
       "      <td>NaN</td>\n",
       "      <td>NaN</td>\n",
       "      <td>NaN</td>\n",
       "      <td>NaN</td>\n",
       "    </tr>\n",
       "    <tr>\n",
       "      <th>3</th>\n",
       "      <td>ABW</td>\n",
       "      <td>Aruba</td>\n",
       "      <td>Aruban Guilder</td>\n",
       "      <td>1953</td>\n",
       "      <td>NaN</td>\n",
       "      <td>NaN</td>\n",
       "      <td>NaN</td>\n",
       "      <td>NaN</td>\n",
       "      <td>NaN</td>\n",
       "      <td>NaN</td>\n",
       "      <td>...</td>\n",
       "      <td>NaN</td>\n",
       "      <td>NaN</td>\n",
       "      <td>NaN</td>\n",
       "      <td>NaN</td>\n",
       "      <td>NaN</td>\n",
       "      <td>NaN</td>\n",
       "      <td>NaN</td>\n",
       "      <td>NaN</td>\n",
       "      <td>NaN</td>\n",
       "      <td>NaN</td>\n",
       "    </tr>\n",
       "    <tr>\n",
       "      <th>4</th>\n",
       "      <td>ABW</td>\n",
       "      <td>Aruba</td>\n",
       "      <td>Aruban Guilder</td>\n",
       "      <td>1954</td>\n",
       "      <td>NaN</td>\n",
       "      <td>NaN</td>\n",
       "      <td>NaN</td>\n",
       "      <td>NaN</td>\n",
       "      <td>NaN</td>\n",
       "      <td>NaN</td>\n",
       "      <td>...</td>\n",
       "      <td>NaN</td>\n",
       "      <td>NaN</td>\n",
       "      <td>NaN</td>\n",
       "      <td>NaN</td>\n",
       "      <td>NaN</td>\n",
       "      <td>NaN</td>\n",
       "      <td>NaN</td>\n",
       "      <td>NaN</td>\n",
       "      <td>NaN</td>\n",
       "      <td>NaN</td>\n",
       "    </tr>\n",
       "    <tr>\n",
       "      <th>...</th>\n",
       "      <td>...</td>\n",
       "      <td>...</td>\n",
       "      <td>...</td>\n",
       "      <td>...</td>\n",
       "      <td>...</td>\n",
       "      <td>...</td>\n",
       "      <td>...</td>\n",
       "      <td>...</td>\n",
       "      <td>...</td>\n",
       "      <td>...</td>\n",
       "      <td>...</td>\n",
       "      <td>...</td>\n",
       "      <td>...</td>\n",
       "      <td>...</td>\n",
       "      <td>...</td>\n",
       "      <td>...</td>\n",
       "      <td>...</td>\n",
       "      <td>...</td>\n",
       "      <td>...</td>\n",
       "      <td>...</td>\n",
       "      <td>...</td>\n",
       "    </tr>\n",
       "    <tr>\n",
       "      <th>12805</th>\n",
       "      <td>ZWE</td>\n",
       "      <td>Zimbabwe</td>\n",
       "      <td>US Dollar</td>\n",
       "      <td>2015</td>\n",
       "      <td>40141.617188</td>\n",
       "      <td>39798.644531</td>\n",
       "      <td>13.814629</td>\n",
       "      <td>6.393752</td>\n",
       "      <td>NaN</td>\n",
       "      <td>2.584653</td>\n",
       "      <td>...</td>\n",
       "      <td>0.140172</td>\n",
       "      <td>-0.287693</td>\n",
       "      <td>-0.051930</td>\n",
       "      <td>0.479228</td>\n",
       "      <td>0.651287</td>\n",
       "      <td>0.541446</td>\n",
       "      <td>0.616689</td>\n",
       "      <td>0.533235</td>\n",
       "      <td>0.422764</td>\n",
       "      <td>1.533909</td>\n",
       "    </tr>\n",
       "    <tr>\n",
       "      <th>12806</th>\n",
       "      <td>ZWE</td>\n",
       "      <td>Zimbabwe</td>\n",
       "      <td>US Dollar</td>\n",
       "      <td>2016</td>\n",
       "      <td>41875.203125</td>\n",
       "      <td>40963.191406</td>\n",
       "      <td>14.030331</td>\n",
       "      <td>6.504374</td>\n",
       "      <td>NaN</td>\n",
       "      <td>2.616257</td>\n",
       "      <td>...</td>\n",
       "      <td>0.131920</td>\n",
       "      <td>-0.251232</td>\n",
       "      <td>-0.016258</td>\n",
       "      <td>0.470640</td>\n",
       "      <td>0.651027</td>\n",
       "      <td>0.539631</td>\n",
       "      <td>0.619789</td>\n",
       "      <td>0.519718</td>\n",
       "      <td>0.416510</td>\n",
       "      <td>1.491724</td>\n",
       "    </tr>\n",
       "    <tr>\n",
       "      <th>12807</th>\n",
       "      <td>ZWE</td>\n",
       "      <td>Zimbabwe</td>\n",
       "      <td>US Dollar</td>\n",
       "      <td>2017</td>\n",
       "      <td>44672.175781</td>\n",
       "      <td>44316.742188</td>\n",
       "      <td>14.236595</td>\n",
       "      <td>6.611773</td>\n",
       "      <td>NaN</td>\n",
       "      <td>2.648248</td>\n",
       "      <td>...</td>\n",
       "      <td>0.126722</td>\n",
       "      <td>-0.202827</td>\n",
       "      <td>-0.039897</td>\n",
       "      <td>0.473560</td>\n",
       "      <td>0.639560</td>\n",
       "      <td>0.519956</td>\n",
       "      <td>0.619739</td>\n",
       "      <td>0.552042</td>\n",
       "      <td>0.415592</td>\n",
       "      <td>1.514525</td>\n",
       "    </tr>\n",
       "    <tr>\n",
       "      <th>12808</th>\n",
       "      <td>ZWE</td>\n",
       "      <td>Zimbabwe</td>\n",
       "      <td>US Dollar</td>\n",
       "      <td>2018</td>\n",
       "      <td>44325.109375</td>\n",
       "      <td>43420.898438</td>\n",
       "      <td>14.438802</td>\n",
       "      <td>6.714952</td>\n",
       "      <td>NaN</td>\n",
       "      <td>2.680630</td>\n",
       "      <td>...</td>\n",
       "      <td>0.144485</td>\n",
       "      <td>-0.263658</td>\n",
       "      <td>-0.020791</td>\n",
       "      <td>0.543757</td>\n",
       "      <td>0.655473</td>\n",
       "      <td>0.529867</td>\n",
       "      <td>0.641361</td>\n",
       "      <td>0.561526</td>\n",
       "      <td>0.425143</td>\n",
       "      <td>1.590120</td>\n",
       "    </tr>\n",
       "    <tr>\n",
       "      <th>12809</th>\n",
       "      <td>ZWE</td>\n",
       "      <td>Zimbabwe</td>\n",
       "      <td>US Dollar</td>\n",
       "      <td>2019</td>\n",
       "      <td>42296.062500</td>\n",
       "      <td>40826.570312</td>\n",
       "      <td>14.645468</td>\n",
       "      <td>6.831017</td>\n",
       "      <td>NaN</td>\n",
       "      <td>2.713408</td>\n",
       "      <td>...</td>\n",
       "      <td>0.213562</td>\n",
       "      <td>-0.270959</td>\n",
       "      <td>-0.089798</td>\n",
       "      <td>0.494755</td>\n",
       "      <td>0.652439</td>\n",
       "      <td>0.500927</td>\n",
       "      <td>0.487763</td>\n",
       "      <td>0.430082</td>\n",
       "      <td>0.420675</td>\n",
       "      <td>1.384068</td>\n",
       "    </tr>\n",
       "  </tbody>\n",
       "</table>\n",
       "<p>12810 rows × 52 columns</p>\n",
       "</div>"
      ],
      "text/plain": [
       "      countrycode   country   currency_unit  year         rgdpe         rgdpo  \\\n",
       "0             ABW     Aruba  Aruban Guilder  1950           NaN           NaN   \n",
       "1             ABW     Aruba  Aruban Guilder  1951           NaN           NaN   \n",
       "2             ABW     Aruba  Aruban Guilder  1952           NaN           NaN   \n",
       "3             ABW     Aruba  Aruban Guilder  1953           NaN           NaN   \n",
       "4             ABW     Aruba  Aruban Guilder  1954           NaN           NaN   \n",
       "...           ...       ...             ...   ...           ...           ...   \n",
       "12805         ZWE  Zimbabwe       US Dollar  2015  40141.617188  39798.644531   \n",
       "12806         ZWE  Zimbabwe       US Dollar  2016  41875.203125  40963.191406   \n",
       "12807         ZWE  Zimbabwe       US Dollar  2017  44672.175781  44316.742188   \n",
       "12808         ZWE  Zimbabwe       US Dollar  2018  44325.109375  43420.898438   \n",
       "12809         ZWE  Zimbabwe       US Dollar  2019  42296.062500  40826.570312   \n",
       "\n",
       "             pop       emp  avh        hc  ...     csh_x     csh_m     csh_r  \\\n",
       "0            NaN       NaN  NaN       NaN  ...       NaN       NaN       NaN   \n",
       "1            NaN       NaN  NaN       NaN  ...       NaN       NaN       NaN   \n",
       "2            NaN       NaN  NaN       NaN  ...       NaN       NaN       NaN   \n",
       "3            NaN       NaN  NaN       NaN  ...       NaN       NaN       NaN   \n",
       "4            NaN       NaN  NaN       NaN  ...       NaN       NaN       NaN   \n",
       "...          ...       ...  ...       ...  ...       ...       ...       ...   \n",
       "12805  13.814629  6.393752  NaN  2.584653  ...  0.140172 -0.287693 -0.051930   \n",
       "12806  14.030331  6.504374  NaN  2.616257  ...  0.131920 -0.251232 -0.016258   \n",
       "12807  14.236595  6.611773  NaN  2.648248  ...  0.126722 -0.202827 -0.039897   \n",
       "12808  14.438802  6.714952  NaN  2.680630  ...  0.144485 -0.263658 -0.020791   \n",
       "12809  14.645468  6.831017  NaN  2.713408  ...  0.213562 -0.270959 -0.089798   \n",
       "\n",
       "           pl_c      pl_i      pl_g      pl_x      pl_m      pl_n      pl_k  \n",
       "0           NaN       NaN       NaN       NaN       NaN       NaN       NaN  \n",
       "1           NaN       NaN       NaN       NaN       NaN       NaN       NaN  \n",
       "2           NaN       NaN       NaN       NaN       NaN       NaN       NaN  \n",
       "3           NaN       NaN       NaN       NaN       NaN       NaN       NaN  \n",
       "4           NaN       NaN       NaN       NaN       NaN       NaN       NaN  \n",
       "...         ...       ...       ...       ...       ...       ...       ...  \n",
       "12805  0.479228  0.651287  0.541446  0.616689  0.533235  0.422764  1.533909  \n",
       "12806  0.470640  0.651027  0.539631  0.619789  0.519718  0.416510  1.491724  \n",
       "12807  0.473560  0.639560  0.519956  0.619739  0.552042  0.415592  1.514525  \n",
       "12808  0.543757  0.655473  0.529867  0.641361  0.561526  0.425143  1.590120  \n",
       "12809  0.494755  0.652439  0.500927  0.487763  0.430082  0.420675  1.384068  \n",
       "\n",
       "[12810 rows x 52 columns]"
      ]
     },
     "execution_count": 3,
     "metadata": {},
     "output_type": "execute_result"
    }
   ],
   "source": [
    "data = data_in.copy()\n",
    "data"
   ]
  },
  {
   "cell_type": "markdown",
   "metadata": {},
   "source": [
    "## Development accounting\n",
    "\n",
    "As organizing framework for our development accounting exercise, we employ an aggregate production function $Y=AK^\\alpha(hL)^{1-\\alpha}$ where $Y$ is real output, $K$ is the stock of capital, $L$ is the number of workers,$h$ is a measure of the human capital of the workers and $A$ is total-factor productivity. Dividing by $L$, we express the production function in per capita terms, arriving at\n",
    "$$ y = Ak^\\alpha h^{1-\\alpha}.$$\n",
    "\n",
    "To perform our accounting exercise, we need cross-country comparable measures of $y$, $k$, and $h$, as well as a calibrated value for $\\alpha$. The Penn World Table provides us with $y$, $k$, and $h$. We set $\\alpha=1/3$, to match the capital share in, e.g., the US.\n",
    "\n",
    "_Note that our approach here is dangerous. We are using someone else's data set and crossing our fingers that whatever they did to construct $y$, $k$, and $h$ is the best we can do. Research on development accounting is all about figuring out conceptual problems with our ways of measuring variables, and on improving on estimates or at the very least cast some doubt on previous estimates._\n",
    "\n",
    "### Constructing our per capita variables for 2015\n",
    "\n",
    "First, we choose `country` as our index and restrict our data to 2015. For this sample, we choose our variables for output, capital, human capital (per capita), and the labor force."
   ]
  },
  {
   "cell_type": "code",
   "execution_count": 4,
   "metadata": {},
   "outputs": [
    {
     "name": "stderr",
     "output_type": "stream",
     "text": [
      "/var/folders/s0/3g1gb_9s56x9hxnb2d1npjc80000gn/T/ipykernel_53630/3891126883.py:5: SettingWithCopyWarning: \n",
      "A value is trying to be set on a copy of a slice from a DataFrame.\n",
      "Try using .loc[row_indexer,col_indexer] = value instead\n",
      "\n",
      "See the caveats in the documentation: https://pandas.pydata.org/pandas-docs/stable/user_guide/indexing.html#returning-a-view-versus-a-copy\n",
      "  data['output'] = data['cgdpo']\n",
      "/var/folders/s0/3g1gb_9s56x9hxnb2d1npjc80000gn/T/ipykernel_53630/3891126883.py:6: SettingWithCopyWarning: \n",
      "A value is trying to be set on a copy of a slice from a DataFrame.\n",
      "Try using .loc[row_indexer,col_indexer] = value instead\n",
      "\n",
      "See the caveats in the documentation: https://pandas.pydata.org/pandas-docs/stable/user_guide/indexing.html#returning-a-view-versus-a-copy\n",
      "  data['capital'] = data['cn']\n",
      "/var/folders/s0/3g1gb_9s56x9hxnb2d1npjc80000gn/T/ipykernel_53630/3891126883.py:7: SettingWithCopyWarning: \n",
      "A value is trying to be set on a copy of a slice from a DataFrame.\n",
      "Try using .loc[row_indexer,col_indexer] = value instead\n",
      "\n",
      "See the caveats in the documentation: https://pandas.pydata.org/pandas-docs/stable/user_guide/indexing.html#returning-a-view-versus-a-copy\n",
      "  data['human_capital_per_capita'] = data['hc']#*data['avh']\n",
      "/var/folders/s0/3g1gb_9s56x9hxnb2d1npjc80000gn/T/ipykernel_53630/3891126883.py:8: SettingWithCopyWarning: \n",
      "A value is trying to be set on a copy of a slice from a DataFrame.\n",
      "Try using .loc[row_indexer,col_indexer] = value instead\n",
      "\n",
      "See the caveats in the documentation: https://pandas.pydata.org/pandas-docs/stable/user_guide/indexing.html#returning-a-view-versus-a-copy\n",
      "  data['labor'] = data['emp']\n"
     ]
    }
   ],
   "source": [
    "data.index = data['country']\n",
    "restriction = (data['year']==2015)\n",
    "data = data[restriction]\n",
    "\n",
    "data['output'] = data['cgdpo']\n",
    "data['capital'] = data['cn']\n",
    "data['human_capital_per_capita'] = data['hc']#*data['avh']\n",
    "data['labor'] = data['emp']"
   ]
  },
  {
   "cell_type": "markdown",
   "metadata": {},
   "source": [
    "With this variable definitions, we construct our per capita measures and back out total-factor productivity relative to the US. For this, we need our calibrated value of $\\alpha$."
   ]
  },
  {
   "cell_type": "code",
   "execution_count": 5,
   "metadata": {},
   "outputs": [
    {
     "name": "stderr",
     "output_type": "stream",
     "text": [
      "/var/folders/s0/3g1gb_9s56x9hxnb2d1npjc80000gn/T/ipykernel_53630/1483562494.py:2: SettingWithCopyWarning: \n",
      "A value is trying to be set on a copy of a slice from a DataFrame.\n",
      "Try using .loc[row_indexer,col_indexer] = value instead\n",
      "\n",
      "See the caveats in the documentation: https://pandas.pydata.org/pandas-docs/stable/user_guide/indexing.html#returning-a-view-versus-a-copy\n",
      "  data['output_per_capita'] = data['output']/data['emp']\n",
      "/var/folders/s0/3g1gb_9s56x9hxnb2d1npjc80000gn/T/ipykernel_53630/1483562494.py:3: SettingWithCopyWarning: \n",
      "A value is trying to be set on a copy of a slice from a DataFrame.\n",
      "Try using .loc[row_indexer,col_indexer] = value instead\n",
      "\n",
      "See the caveats in the documentation: https://pandas.pydata.org/pandas-docs/stable/user_guide/indexing.html#returning-a-view-versus-a-copy\n",
      "  data['capital_per_capita'] = data['capital']/data['emp']\n",
      "/var/folders/s0/3g1gb_9s56x9hxnb2d1npjc80000gn/T/ipykernel_53630/1483562494.py:4: SettingWithCopyWarning: \n",
      "A value is trying to be set on a copy of a slice from a DataFrame.\n",
      "Try using .loc[row_indexer,col_indexer] = value instead\n",
      "\n",
      "See the caveats in the documentation: https://pandas.pydata.org/pandas-docs/stable/user_guide/indexing.html#returning-a-view-versus-a-copy\n",
      "  data['output_per_capita_implied'] = data['capital_per_capita']**alpha*data['human_capital_per_capita']**(1-alpha)\n",
      "/var/folders/s0/3g1gb_9s56x9hxnb2d1npjc80000gn/T/ipykernel_53630/1483562494.py:5: SettingWithCopyWarning: \n",
      "A value is trying to be set on a copy of a slice from a DataFrame.\n",
      "Try using .loc[row_indexer,col_indexer] = value instead\n",
      "\n",
      "See the caveats in the documentation: https://pandas.pydata.org/pandas-docs/stable/user_guide/indexing.html#returning-a-view-versus-a-copy\n",
      "  data['TFP'] = data['output_per_capita']/data['output_per_capita_implied']\n",
      "/var/folders/s0/3g1gb_9s56x9hxnb2d1npjc80000gn/T/ipykernel_53630/1483562494.py:6: SettingWithCopyWarning: \n",
      "A value is trying to be set on a copy of a slice from a DataFrame.\n",
      "Try using .loc[row_indexer,col_indexer] = value instead\n",
      "\n",
      "See the caveats in the documentation: https://pandas.pydata.org/pandas-docs/stable/user_guide/indexing.html#returning-a-view-versus-a-copy\n",
      "  data['TFP_rel_US'] = data['TFP']/data['TFP'].loc['United States']\n",
      "/var/folders/s0/3g1gb_9s56x9hxnb2d1npjc80000gn/T/ipykernel_53630/1483562494.py:7: SettingWithCopyWarning: \n",
      "A value is trying to be set on a copy of a slice from a DataFrame.\n",
      "Try using .loc[row_indexer,col_indexer] = value instead\n",
      "\n",
      "See the caveats in the documentation: https://pandas.pydata.org/pandas-docs/stable/user_guide/indexing.html#returning-a-view-versus-a-copy\n",
      "  data['TFP_rel_DE'] = data['TFP']/data['TFP'].loc['Germany']\n"
     ]
    }
   ],
   "source": [
    "alpha = 0.33\n",
    "data['output_per_capita'] = data['output']/data['emp']\n",
    "data['capital_per_capita'] = data['capital']/data['emp']\n",
    "data['output_per_capita_implied'] = data['capital_per_capita']**alpha*data['human_capital_per_capita']**(1-alpha)\n",
    "data['TFP'] = data['output_per_capita']/data['output_per_capita_implied']\n",
    "data['TFP_rel_US'] = data['TFP']/data['TFP'].loc['United States']\n",
    "data['TFP_rel_DE'] = data['TFP']/data['TFP'].loc['Germany']"
   ]
  },
  {
   "cell_type": "markdown",
   "metadata": {},
   "source": [
    "Just like with growth accounting, \"this is it\". After having chosen our measures of capital, human capital, etc., the analysis is very simple.\n",
    "\n",
    "Below, we plot output per capita relative to the US and total-factor productivity relative to the US. The main takeaway is that TFP lines up well with GDP per capita. I.e., high income countries have higher TFP and that GDP per capita."
   ]
  },
  {
   "cell_type": "code",
   "execution_count": 6,
   "metadata": {},
   "outputs": [
    {
     "name": "stderr",
     "output_type": "stream",
     "text": [
      "/var/folders/s0/3g1gb_9s56x9hxnb2d1npjc80000gn/T/ipykernel_53630/3916804488.py:1: SettingWithCopyWarning: \n",
      "A value is trying to be set on a copy of a slice from a DataFrame.\n",
      "Try using .loc[row_indexer,col_indexer] = value instead\n",
      "\n",
      "See the caveats in the documentation: https://pandas.pydata.org/pandas-docs/stable/user_guide/indexing.html#returning-a-view-versus-a-copy\n",
      "  data['output_per_capita_rel_US'] = data['output_per_capita']/data['output_per_capita'].loc['United States']\n",
      "/var/folders/s0/3g1gb_9s56x9hxnb2d1npjc80000gn/T/ipykernel_53630/3916804488.py:2: SettingWithCopyWarning: \n",
      "A value is trying to be set on a copy of a slice from a DataFrame.\n",
      "Try using .loc[row_indexer,col_indexer] = value instead\n",
      "\n",
      "See the caveats in the documentation: https://pandas.pydata.org/pandas-docs/stable/user_guide/indexing.html#returning-a-view-versus-a-copy\n",
      "  data['output_per_capita_implied_rel_US'] = data['output_per_capita_implied']/data['output_per_capita_implied'].loc['United States']\n",
      "/var/folders/s0/3g1gb_9s56x9hxnb2d1npjc80000gn/T/ipykernel_53630/3916804488.py:4: SettingWithCopyWarning: \n",
      "A value is trying to be set on a copy of a slice from a DataFrame.\n",
      "Try using .loc[row_indexer,col_indexer] = value instead\n",
      "\n",
      "See the caveats in the documentation: https://pandas.pydata.org/pandas-docs/stable/user_guide/indexing.html#returning-a-view-versus-a-copy\n",
      "  data['output_per_capita_rel_DE'] = data['output_per_capita']/data['output_per_capita'].loc['Germany']\n",
      "/var/folders/s0/3g1gb_9s56x9hxnb2d1npjc80000gn/T/ipykernel_53630/3916804488.py:5: SettingWithCopyWarning: \n",
      "A value is trying to be set on a copy of a slice from a DataFrame.\n",
      "Try using .loc[row_indexer,col_indexer] = value instead\n",
      "\n",
      "See the caveats in the documentation: https://pandas.pydata.org/pandas-docs/stable/user_guide/indexing.html#returning-a-view-versus-a-copy\n",
      "  data['output_per_capita_implied_rel_DE'] = data['output_per_capita_implied']/data['output_per_capita_implied'].loc['Germany']\n"
     ]
    },
    {
     "data": {
      "application/vnd.plotly.v1+json": {
       "config": {
        "plotlyServerURL": "https://plot.ly"
       },
       "data": [
        {
         "hovertemplate": "output_per_capita_rel_US=%{x}<br>TFP_rel_US=%{y}<br>index=%{text}<extra></extra>",
         "legendgroup": "",
         "marker": {
          "color": "#636efa",
          "symbol": "circle"
         },
         "mode": "text",
         "name": "",
         "orientation": "v",
         "showlegend": false,
         "text": [
          "Aruba",
          "Angola",
          "Anguilla",
          "Albania",
          "United Arab Emirates",
          "Argentina",
          "Armenia",
          "Antigua and Barbuda",
          "Australia",
          "Austria",
          "Azerbaijan",
          "Burundi",
          "Belgium",
          "Benin",
          "Burkina Faso",
          "Bangladesh",
          "Bulgaria",
          "Bahrain",
          "Bahamas",
          "Bosnia and Herzegovina",
          "Belarus",
          "Belize",
          "Bermuda",
          "Bolivia (Plurinational State of)",
          "Brazil",
          "Barbados",
          "Brunei Darussalam",
          "Bhutan",
          "Botswana",
          "Central African Republic",
          "Canada",
          "Switzerland",
          "Chile",
          "China",
          "Côte d'Ivoire",
          "Cameroon",
          "D.R. of the Congo",
          "Congo",
          "Colombia",
          "Comoros",
          "Cabo Verde",
          "Costa Rica",
          "Curaçao",
          "Cayman Islands",
          "Cyprus",
          "Czech Republic",
          "Germany",
          "Djibouti",
          "Dominica",
          "Denmark",
          "Dominican Republic",
          "Algeria",
          "Ecuador",
          "Egypt",
          "Spain",
          "Estonia",
          "Ethiopia",
          "Finland",
          "Fiji",
          "France",
          "Gabon",
          "United Kingdom",
          "Georgia",
          "Ghana",
          "Guinea",
          "Gambia",
          "Guinea-Bissau",
          "Equatorial Guinea",
          "Greece",
          "Grenada",
          "Guatemala",
          "Guyana",
          "China, Hong Kong SAR",
          "Honduras",
          "Croatia",
          "Haiti",
          "Hungary",
          "Indonesia",
          "India",
          "Ireland",
          "Iran (Islamic Republic of)",
          "Iraq",
          "Iceland",
          "Israel",
          "Italy",
          "Jamaica",
          "Jordan",
          "Japan",
          "Kazakhstan",
          "Kenya",
          "Kyrgyzstan",
          "Cambodia",
          "Saint Kitts and Nevis",
          "Republic of Korea",
          "Kuwait",
          "Lao People's DR",
          "Lebanon",
          "Liberia",
          "Saint Lucia",
          "Sri Lanka",
          "Lesotho",
          "Lithuania",
          "Luxembourg",
          "Latvia",
          "China, Macao SAR",
          "Morocco",
          "Republic of Moldova",
          "Madagascar",
          "Maldives",
          "Mexico",
          "North Macedonia",
          "Mali",
          "Malta",
          "Myanmar",
          "Montenegro",
          "Mongolia",
          "Mozambique",
          "Mauritania",
          "Montserrat",
          "Mauritius",
          "Malawi",
          "Malaysia",
          "Namibia",
          "Niger",
          "Nigeria",
          "Nicaragua",
          "Netherlands",
          "Norway",
          "Nepal",
          "New Zealand",
          "Oman",
          "Pakistan",
          "Panama",
          "Peru",
          "Philippines",
          "Poland",
          "Portugal",
          "Paraguay",
          "State of Palestine",
          "Qatar",
          "Romania",
          "Russian Federation",
          "Rwanda",
          "Saudi Arabia",
          "Sudan",
          "Senegal",
          "Singapore",
          "Sierra Leone",
          "El Salvador",
          "Serbia",
          "Sao Tome and Principe",
          "Suriname",
          "Slovakia",
          "Slovenia",
          "Sweden",
          "Eswatini",
          "Sint Maarten (Dutch part)",
          "Seychelles",
          "Syrian Arab Republic",
          "Turks and Caicos Islands",
          "Chad",
          "Togo",
          "Thailand",
          "Tajikistan",
          "Turkmenistan",
          "Trinidad and Tobago",
          "Tunisia",
          "Turkey",
          "Taiwan",
          "U.R. of Tanzania: Mainland",
          "Uganda",
          "Ukraine",
          "Uruguay",
          "United States",
          "Uzbekistan",
          "St. Vincent and the Grenadines",
          "Venezuela (Bolivarian Republic of)",
          "British Virgin Islands",
          "Viet Nam",
          "Yemen",
          "South Africa",
          "Zambia",
          "Zimbabwe"
         ],
         "type": "scatter",
         "x": [
          0.6788986272030396,
          0.1235566792686275,
          null,
          0.28907590621171064,
          0.991788686275516,
          0.36446124178256173,
          0.24139468979496373,
          null,
          0.7795927653916536,
          0.8015607208395366,
          0.23314588754693844,
          0.015784385208857714,
          0.8348608280274592,
          0.06857238977084873,
          0.04047829690918007,
          0.07853869268018077,
          0.3153449729918552,
          0.752091398295177,
          0.48267226705129135,
          0.5198555742851939,
          0.3341255875365955,
          0.1355563733863239,
          0.7067599757536898,
          0.12663001503300428,
          0.2656178191223799,
          0.22331472564281057,
          1.192136549806335,
          0.19295639662453648,
          0.3006708393695937,
          0.01808880635009509,
          0.7333171813695593,
          0.9892164811403067,
          0.4279874706581148,
          0.18124013869567235,
          0.12547557208506321,
          0.06796730559045695,
          0.026066996059144032,
          0.10188253348316834,
          0.24717260501969812,
          0.10316296401587625,
          0.13751362120529642,
          0.29789190714298736,
          0.48535187202502167,
          0.742049212915386,
          0.604466375406033,
          0.5279457808575887,
          0.7374749555869121,
          0.10047894835020249,
          null,
          0.7601135281418616,
          0.2750027853045165,
          0.36874699602789546,
          0.1919694846081458,
          0.37742371930905333,
          0.7252149748439944,
          0.46608616995088076,
          0.027812120128460707,
          0.7186339424186269,
          0.2884224979768545,
          0.7937485620322919,
          0.40983429123433945,
          0.7088082117878439,
          0.28571208294913397,
          0.10206779722540589,
          0.04581688024336941,
          0.06285769647181551,
          0.03295958682543947,
          0.5910005880873612,
          0.5530584031322957,
          0.18339855461896976,
          0.1623805043473346,
          0.2695415702635539,
          0.7804952296909562,
          0.10428705411309432,
          0.4449753125238836,
          0.03965394101668484,
          0.45666759125891687,
          0.18029933324202893,
          0.1229061396493552,
          1.4327085644962922,
          0.3758672635463105,
          0.365492751865836,
          0.6831178617680592,
          0.6094203869302721,
          0.7330435181851653,
          0.1628747959739758,
          0.34759946094566074,
          0.6137639596742012,
          0.3900262321375741,
          0.061790129890603895,
          0.09018113610479432,
          0.05451457979418111,
          null,
          0.5975578716664709,
          0.7653026269521489,
          0.10623816274023405,
          0.4255865704477477,
          0.026053761691206073,
          0.2276854524578677,
          0.2565962214944977,
          0.08783848283007753,
          0.4675283126012678,
          0.9197618213889548,
          0.4352209931272547,
          1.1983006239248502,
          0.18750861749452544,
          0.17476746161573287,
          0.025927616254187557,
          0.4228370332094642,
          0.3551684010785291,
          0.3105543079268579,
          0.04742081080368103,
          0.6053593444745061,
          0.09223468167370028,
          0.4014482794279933,
          0.19550930207977646,
          0.02958944123969099,
          0.14240730104759022,
          0.22668631137712447,
          0.3571861886636276,
          0.021542008396387778,
          0.4005015633683881,
          0.29412161766040057,
          0.025093924816787162,
          0.13403287712491863,
          0.10359823188108849,
          0.794085384095823,
          1.0832672095432532,
          0.044907810380787824,
          0.5750197148196582,
          0.5147240237541911,
          0.12923694737007474,
          0.4553918495029242,
          0.1784625625994112,
          0.14958266884826774,
          0.5192227888815952,
          0.5135707486639617,
          0.2072668838408064,
          0.24374102223788907,
          1.161769540710839,
          0.40072478011252627,
          0.40556711179911165,
          0.04024107784037639,
          1.1854655948640413,
          0.13787857728276817,
          0.06715182570300013,
          0.9241978863286039,
          0.0458779809832544,
          0.13835082778062752,
          0.33721349543049745,
          0.11591842112829168,
          0.3096197855226199,
          0.5196575700607848,
          0.5164856801481674,
          0.8103366490580781,
          0.2700784397855746,
          null,
          0.3648900857265964,
          0.16706771859161526,
          null,
          0.0420724437924111,
          0.03982841049361182,
          0.22469660208811354,
          0.08976622744847132,
          0.33014312742631063,
          0.5136052132698506,
          0.266787647232334,
          0.6068204406044342,
          0.7405793099245616,
          0.047581406571560673,
          0.04815534642718459,
          0.22195830993516305,
          0.3408896149688663,
          1,
          0.18345238789570076,
          0.2390898509402017,
          0.09762623360407247,
          0.6021031090337264,
          0.08722584305425764,
          0.11078098329431162,
          0.32008450675471106,
          0.09023261735994058,
          0.04938177336040082
         ],
         "xaxis": "x",
         "y": [
          null,
          0.4009105603145511,
          null,
          0.42044198633053925,
          1.0294575342805408,
          0.5852784643686588,
          0.48454847480450886,
          null,
          0.778678304474528,
          0.7626916111091622,
          null,
          0.15594924233513685,
          0.7976617924346419,
          0.32096283690538335,
          0.2956170204097831,
          0.2773299239964729,
          0.530216137064043,
          1.0661893292281197,
          null,
          null,
          null,
          0.28087921369202135,
          null,
          0.35119476484777157,
          0.4541447735006397,
          0.350319249587,
          1.1739490502240237,
          null,
          0.47228400153079986,
          0.09776090425589833,
          0.726718242809767,
          0.8901981585419265,
          0.6047979769644476,
          0.3805258558835391,
          0.516210400192246,
          0.2868116661676132,
          0.14682998128795222,
          0.26655189057578066,
          0.5267890184622236,
          null,
          null,
          0.6021396669328164,
          null,
          null,
          0.6406829076497613,
          0.5351908891435371,
          0.7259347855589269,
          null,
          null,
          0.7519387130382285,
          0.5178245055322546,
          0.6394062275930983,
          0.35481545430393313,
          0.8987515353104579,
          0.7711787863691876,
          0.5384666383343365,
          0.2031145061928868,
          0.7307330687622443,
          0.6234552845107633,
          0.7964237200196873,
          0.6219500068998137,
          0.6820017239483678,
          null,
          0.26264174413847147,
          null,
          0.30448588844985786,
          null,
          null,
          0.5494661656862948,
          null,
          0.47704147058522417,
          null,
          0.7546210871000344,
          0.2867249648121672,
          0.5045165093269467,
          0.1497489980862234,
          0.5503898447734703,
          0.37284829632406447,
          0.3499566874172018,
          1.3998898642513913,
          0.5942655133811415,
          0.830866039800964,
          0.7496712066397715,
          0.6955591325442503,
          0.6993748684463544,
          0.3052056368276652,
          0.5893142817835613,
          0.6513176772864789,
          0.6683642398649581,
          0.24200574884406872,
          0.2507095036005434,
          0.24829564028358656,
          null,
          0.6413431695220052,
          1.2318077845277022,
          0.36786841323319347,
          null,
          0.13975168906473606,
          null,
          0.529372487090276,
          0.30219997261184606,
          0.6119233792924205,
          0.8555911798307294,
          0.4840658014834193,
          1.421953366146231,
          0.45177512821152743,
          0.34223792390388186,
          0.1625979345234963,
          0.8177707061602213,
          0.567771161768986,
          null,
          0.3581710456624776,
          0.7954579432436026,
          0.3823308437955954,
          null,
          0.3480657970874156,
          0.21838779749601492,
          0.39669271511884985,
          null,
          0.6342463018760724,
          0.1635449295677227,
          0.5896237774846493,
          0.6189502981065813,
          0.16542039677278103,
          0.42099671595852883,
          0.30509807731711514,
          0.80109352597567,
          0.9880691167437521,
          0.212223265502251,
          0.7283262082574856,
          null,
          0.5257116637770325,
          0.7198363068670582,
          0.3889186448128624,
          0.3663505531494909,
          0.7468823180363675,
          0.6160946906227672,
          0.4517704912083669,
          null,
          1.2552548143976598,
          0.5818846367734669,
          0.5156641330176001,
          0.25149781981766706,
          1.4131806891289267,
          0.5641755803763187,
          0.3071342088024,
          0.8700106467953027,
          0.3006213349734006,
          0.39254895661851,
          0.4554562522985519,
          null,
          null,
          0.5763605147692688,
          0.5204277067786383,
          0.8083601011958875,
          0.6156734490601632,
          null,
          null,
          0.3721441358688193,
          null,
          null,
          0.1962429134443486,
          0.4026336821721865,
          0.15139970644795295,
          null,
          0.829754478998135,
          0.5278446180930726,
          0.8932024127737377,
          0.8558982734303122,
          0.23237200772623423,
          0.20780279406221316,
          0.27620383147651273,
          0.568670240391838,
          1,
          null,
          null,
          0.17538216258203634,
          null,
          0.26935186252650645,
          0.26768985169927645,
          0.5553303626346995,
          0.2296510934626191,
          0.22135608957423408
         ],
         "yaxis": "y"
        }
       ],
       "layout": {
        "height": 600,
        "legend": {
         "tracegroupgap": 0
        },
        "margin": {
         "t": 60
        },
        "template": {
         "data": {
          "bar": [
           {
            "error_x": {
             "color": "rgb(36,36,36)"
            },
            "error_y": {
             "color": "rgb(36,36,36)"
            },
            "marker": {
             "line": {
              "color": "white",
              "width": 0.5
             },
             "pattern": {
              "fillmode": "overlay",
              "size": 10,
              "solidity": 0.2
             }
            },
            "type": "bar"
           }
          ],
          "barpolar": [
           {
            "marker": {
             "line": {
              "color": "white",
              "width": 0.5
             },
             "pattern": {
              "fillmode": "overlay",
              "size": 10,
              "solidity": 0.2
             }
            },
            "type": "barpolar"
           }
          ],
          "carpet": [
           {
            "aaxis": {
             "endlinecolor": "rgb(36,36,36)",
             "gridcolor": "white",
             "linecolor": "white",
             "minorgridcolor": "white",
             "startlinecolor": "rgb(36,36,36)"
            },
            "baxis": {
             "endlinecolor": "rgb(36,36,36)",
             "gridcolor": "white",
             "linecolor": "white",
             "minorgridcolor": "white",
             "startlinecolor": "rgb(36,36,36)"
            },
            "type": "carpet"
           }
          ],
          "choropleth": [
           {
            "colorbar": {
             "outlinewidth": 1,
             "tickcolor": "rgb(36,36,36)",
             "ticks": "outside"
            },
            "type": "choropleth"
           }
          ],
          "contour": [
           {
            "colorbar": {
             "outlinewidth": 1,
             "tickcolor": "rgb(36,36,36)",
             "ticks": "outside"
            },
            "colorscale": [
             [
              0,
              "#440154"
             ],
             [
              0.1111111111111111,
              "#482878"
             ],
             [
              0.2222222222222222,
              "#3e4989"
             ],
             [
              0.3333333333333333,
              "#31688e"
             ],
             [
              0.4444444444444444,
              "#26828e"
             ],
             [
              0.5555555555555556,
              "#1f9e89"
             ],
             [
              0.6666666666666666,
              "#35b779"
             ],
             [
              0.7777777777777778,
              "#6ece58"
             ],
             [
              0.8888888888888888,
              "#b5de2b"
             ],
             [
              1,
              "#fde725"
             ]
            ],
            "type": "contour"
           }
          ],
          "contourcarpet": [
           {
            "colorbar": {
             "outlinewidth": 1,
             "tickcolor": "rgb(36,36,36)",
             "ticks": "outside"
            },
            "type": "contourcarpet"
           }
          ],
          "heatmap": [
           {
            "colorbar": {
             "outlinewidth": 1,
             "tickcolor": "rgb(36,36,36)",
             "ticks": "outside"
            },
            "colorscale": [
             [
              0,
              "#440154"
             ],
             [
              0.1111111111111111,
              "#482878"
             ],
             [
              0.2222222222222222,
              "#3e4989"
             ],
             [
              0.3333333333333333,
              "#31688e"
             ],
             [
              0.4444444444444444,
              "#26828e"
             ],
             [
              0.5555555555555556,
              "#1f9e89"
             ],
             [
              0.6666666666666666,
              "#35b779"
             ],
             [
              0.7777777777777778,
              "#6ece58"
             ],
             [
              0.8888888888888888,
              "#b5de2b"
             ],
             [
              1,
              "#fde725"
             ]
            ],
            "type": "heatmap"
           }
          ],
          "heatmapgl": [
           {
            "colorbar": {
             "outlinewidth": 1,
             "tickcolor": "rgb(36,36,36)",
             "ticks": "outside"
            },
            "colorscale": [
             [
              0,
              "#440154"
             ],
             [
              0.1111111111111111,
              "#482878"
             ],
             [
              0.2222222222222222,
              "#3e4989"
             ],
             [
              0.3333333333333333,
              "#31688e"
             ],
             [
              0.4444444444444444,
              "#26828e"
             ],
             [
              0.5555555555555556,
              "#1f9e89"
             ],
             [
              0.6666666666666666,
              "#35b779"
             ],
             [
              0.7777777777777778,
              "#6ece58"
             ],
             [
              0.8888888888888888,
              "#b5de2b"
             ],
             [
              1,
              "#fde725"
             ]
            ],
            "type": "heatmapgl"
           }
          ],
          "histogram": [
           {
            "marker": {
             "line": {
              "color": "white",
              "width": 0.6
             }
            },
            "type": "histogram"
           }
          ],
          "histogram2d": [
           {
            "colorbar": {
             "outlinewidth": 1,
             "tickcolor": "rgb(36,36,36)",
             "ticks": "outside"
            },
            "colorscale": [
             [
              0,
              "#440154"
             ],
             [
              0.1111111111111111,
              "#482878"
             ],
             [
              0.2222222222222222,
              "#3e4989"
             ],
             [
              0.3333333333333333,
              "#31688e"
             ],
             [
              0.4444444444444444,
              "#26828e"
             ],
             [
              0.5555555555555556,
              "#1f9e89"
             ],
             [
              0.6666666666666666,
              "#35b779"
             ],
             [
              0.7777777777777778,
              "#6ece58"
             ],
             [
              0.8888888888888888,
              "#b5de2b"
             ],
             [
              1,
              "#fde725"
             ]
            ],
            "type": "histogram2d"
           }
          ],
          "histogram2dcontour": [
           {
            "colorbar": {
             "outlinewidth": 1,
             "tickcolor": "rgb(36,36,36)",
             "ticks": "outside"
            },
            "colorscale": [
             [
              0,
              "#440154"
             ],
             [
              0.1111111111111111,
              "#482878"
             ],
             [
              0.2222222222222222,
              "#3e4989"
             ],
             [
              0.3333333333333333,
              "#31688e"
             ],
             [
              0.4444444444444444,
              "#26828e"
             ],
             [
              0.5555555555555556,
              "#1f9e89"
             ],
             [
              0.6666666666666666,
              "#35b779"
             ],
             [
              0.7777777777777778,
              "#6ece58"
             ],
             [
              0.8888888888888888,
              "#b5de2b"
             ],
             [
              1,
              "#fde725"
             ]
            ],
            "type": "histogram2dcontour"
           }
          ],
          "mesh3d": [
           {
            "colorbar": {
             "outlinewidth": 1,
             "tickcolor": "rgb(36,36,36)",
             "ticks": "outside"
            },
            "type": "mesh3d"
           }
          ],
          "parcoords": [
           {
            "line": {
             "colorbar": {
              "outlinewidth": 1,
              "tickcolor": "rgb(36,36,36)",
              "ticks": "outside"
             }
            },
            "type": "parcoords"
           }
          ],
          "pie": [
           {
            "automargin": true,
            "type": "pie"
           }
          ],
          "scatter": [
           {
            "fillpattern": {
             "fillmode": "overlay",
             "size": 10,
             "solidity": 0.2
            },
            "type": "scatter"
           }
          ],
          "scatter3d": [
           {
            "line": {
             "colorbar": {
              "outlinewidth": 1,
              "tickcolor": "rgb(36,36,36)",
              "ticks": "outside"
             }
            },
            "marker": {
             "colorbar": {
              "outlinewidth": 1,
              "tickcolor": "rgb(36,36,36)",
              "ticks": "outside"
             }
            },
            "type": "scatter3d"
           }
          ],
          "scattercarpet": [
           {
            "marker": {
             "colorbar": {
              "outlinewidth": 1,
              "tickcolor": "rgb(36,36,36)",
              "ticks": "outside"
             }
            },
            "type": "scattercarpet"
           }
          ],
          "scattergeo": [
           {
            "marker": {
             "colorbar": {
              "outlinewidth": 1,
              "tickcolor": "rgb(36,36,36)",
              "ticks": "outside"
             }
            },
            "type": "scattergeo"
           }
          ],
          "scattergl": [
           {
            "marker": {
             "colorbar": {
              "outlinewidth": 1,
              "tickcolor": "rgb(36,36,36)",
              "ticks": "outside"
             }
            },
            "type": "scattergl"
           }
          ],
          "scattermapbox": [
           {
            "marker": {
             "colorbar": {
              "outlinewidth": 1,
              "tickcolor": "rgb(36,36,36)",
              "ticks": "outside"
             }
            },
            "type": "scattermapbox"
           }
          ],
          "scatterpolar": [
           {
            "marker": {
             "colorbar": {
              "outlinewidth": 1,
              "tickcolor": "rgb(36,36,36)",
              "ticks": "outside"
             }
            },
            "type": "scatterpolar"
           }
          ],
          "scatterpolargl": [
           {
            "marker": {
             "colorbar": {
              "outlinewidth": 1,
              "tickcolor": "rgb(36,36,36)",
              "ticks": "outside"
             }
            },
            "type": "scatterpolargl"
           }
          ],
          "scatterternary": [
           {
            "marker": {
             "colorbar": {
              "outlinewidth": 1,
              "tickcolor": "rgb(36,36,36)",
              "ticks": "outside"
             }
            },
            "type": "scatterternary"
           }
          ],
          "surface": [
           {
            "colorbar": {
             "outlinewidth": 1,
             "tickcolor": "rgb(36,36,36)",
             "ticks": "outside"
            },
            "colorscale": [
             [
              0,
              "#440154"
             ],
             [
              0.1111111111111111,
              "#482878"
             ],
             [
              0.2222222222222222,
              "#3e4989"
             ],
             [
              0.3333333333333333,
              "#31688e"
             ],
             [
              0.4444444444444444,
              "#26828e"
             ],
             [
              0.5555555555555556,
              "#1f9e89"
             ],
             [
              0.6666666666666666,
              "#35b779"
             ],
             [
              0.7777777777777778,
              "#6ece58"
             ],
             [
              0.8888888888888888,
              "#b5de2b"
             ],
             [
              1,
              "#fde725"
             ]
            ],
            "type": "surface"
           }
          ],
          "table": [
           {
            "cells": {
             "fill": {
              "color": "rgb(237,237,237)"
             },
             "line": {
              "color": "white"
             }
            },
            "header": {
             "fill": {
              "color": "rgb(217,217,217)"
             },
             "line": {
              "color": "white"
             }
            },
            "type": "table"
           }
          ]
         },
         "layout": {
          "annotationdefaults": {
           "arrowhead": 0,
           "arrowwidth": 1
          },
          "autotypenumbers": "strict",
          "coloraxis": {
           "colorbar": {
            "outlinewidth": 1,
            "tickcolor": "rgb(36,36,36)",
            "ticks": "outside"
           }
          },
          "colorscale": {
           "diverging": [
            [
             0,
             "rgb(103,0,31)"
            ],
            [
             0.1,
             "rgb(178,24,43)"
            ],
            [
             0.2,
             "rgb(214,96,77)"
            ],
            [
             0.3,
             "rgb(244,165,130)"
            ],
            [
             0.4,
             "rgb(253,219,199)"
            ],
            [
             0.5,
             "rgb(247,247,247)"
            ],
            [
             0.6,
             "rgb(209,229,240)"
            ],
            [
             0.7,
             "rgb(146,197,222)"
            ],
            [
             0.8,
             "rgb(67,147,195)"
            ],
            [
             0.9,
             "rgb(33,102,172)"
            ],
            [
             1,
             "rgb(5,48,97)"
            ]
           ],
           "sequential": [
            [
             0,
             "#440154"
            ],
            [
             0.1111111111111111,
             "#482878"
            ],
            [
             0.2222222222222222,
             "#3e4989"
            ],
            [
             0.3333333333333333,
             "#31688e"
            ],
            [
             0.4444444444444444,
             "#26828e"
            ],
            [
             0.5555555555555556,
             "#1f9e89"
            ],
            [
             0.6666666666666666,
             "#35b779"
            ],
            [
             0.7777777777777778,
             "#6ece58"
            ],
            [
             0.8888888888888888,
             "#b5de2b"
            ],
            [
             1,
             "#fde725"
            ]
           ],
           "sequentialminus": [
            [
             0,
             "#440154"
            ],
            [
             0.1111111111111111,
             "#482878"
            ],
            [
             0.2222222222222222,
             "#3e4989"
            ],
            [
             0.3333333333333333,
             "#31688e"
            ],
            [
             0.4444444444444444,
             "#26828e"
            ],
            [
             0.5555555555555556,
             "#1f9e89"
            ],
            [
             0.6666666666666666,
             "#35b779"
            ],
            [
             0.7777777777777778,
             "#6ece58"
            ],
            [
             0.8888888888888888,
             "#b5de2b"
            ],
            [
             1,
             "#fde725"
            ]
           ]
          },
          "colorway": [
           "#1F77B4",
           "#FF7F0E",
           "#2CA02C",
           "#D62728",
           "#9467BD",
           "#8C564B",
           "#E377C2",
           "#7F7F7F",
           "#BCBD22",
           "#17BECF"
          ],
          "font": {
           "color": "rgb(36,36,36)"
          },
          "geo": {
           "bgcolor": "white",
           "lakecolor": "white",
           "landcolor": "white",
           "showlakes": true,
           "showland": true,
           "subunitcolor": "white"
          },
          "hoverlabel": {
           "align": "left"
          },
          "hovermode": "closest",
          "mapbox": {
           "style": "light"
          },
          "paper_bgcolor": "white",
          "plot_bgcolor": "white",
          "polar": {
           "angularaxis": {
            "gridcolor": "rgb(232,232,232)",
            "linecolor": "rgb(36,36,36)",
            "showgrid": false,
            "showline": true,
            "ticks": "outside"
           },
           "bgcolor": "white",
           "radialaxis": {
            "gridcolor": "rgb(232,232,232)",
            "linecolor": "rgb(36,36,36)",
            "showgrid": false,
            "showline": true,
            "ticks": "outside"
           }
          },
          "scene": {
           "xaxis": {
            "backgroundcolor": "white",
            "gridcolor": "rgb(232,232,232)",
            "gridwidth": 2,
            "linecolor": "rgb(36,36,36)",
            "showbackground": true,
            "showgrid": false,
            "showline": true,
            "ticks": "outside",
            "zeroline": false,
            "zerolinecolor": "rgb(36,36,36)"
           },
           "yaxis": {
            "backgroundcolor": "white",
            "gridcolor": "rgb(232,232,232)",
            "gridwidth": 2,
            "linecolor": "rgb(36,36,36)",
            "showbackground": true,
            "showgrid": false,
            "showline": true,
            "ticks": "outside",
            "zeroline": false,
            "zerolinecolor": "rgb(36,36,36)"
           },
           "zaxis": {
            "backgroundcolor": "white",
            "gridcolor": "rgb(232,232,232)",
            "gridwidth": 2,
            "linecolor": "rgb(36,36,36)",
            "showbackground": true,
            "showgrid": false,
            "showline": true,
            "ticks": "outside",
            "zeroline": false,
            "zerolinecolor": "rgb(36,36,36)"
           }
          },
          "shapedefaults": {
           "fillcolor": "black",
           "line": {
            "width": 0
           },
           "opacity": 0.3
          },
          "ternary": {
           "aaxis": {
            "gridcolor": "rgb(232,232,232)",
            "linecolor": "rgb(36,36,36)",
            "showgrid": false,
            "showline": true,
            "ticks": "outside"
           },
           "baxis": {
            "gridcolor": "rgb(232,232,232)",
            "linecolor": "rgb(36,36,36)",
            "showgrid": false,
            "showline": true,
            "ticks": "outside"
           },
           "bgcolor": "white",
           "caxis": {
            "gridcolor": "rgb(232,232,232)",
            "linecolor": "rgb(36,36,36)",
            "showgrid": false,
            "showline": true,
            "ticks": "outside"
           }
          },
          "title": {
           "x": 0.05
          },
          "xaxis": {
           "automargin": true,
           "gridcolor": "rgb(232,232,232)",
           "linecolor": "rgb(36,36,36)",
           "showgrid": false,
           "showline": true,
           "ticks": "outside",
           "title": {
            "standoff": 15
           },
           "zeroline": false,
           "zerolinecolor": "rgb(36,36,36)"
          },
          "yaxis": {
           "automargin": true,
           "gridcolor": "rgb(232,232,232)",
           "linecolor": "rgb(36,36,36)",
           "showgrid": false,
           "showline": true,
           "ticks": "outside",
           "title": {
            "standoff": 15
           },
           "zeroline": false,
           "zerolinecolor": "rgb(36,36,36)"
          }
         }
        },
        "title": {
         "text": "TFP is higher in rich countries"
        },
        "width": 800,
        "xaxis": {
         "anchor": "y",
         "domain": [
          0,
          1
         ],
         "ticktext": [
          "1/32",
          "1/16",
          "1/8",
          "1/4",
          "1/2",
          "1"
         ],
         "tickvals": [
          0.03125,
          0.0625,
          0.125,
          0.25,
          0.5,
          1
         ],
         "title": {
          "text": "GDP per capita"
         },
         "type": "log"
        },
        "yaxis": {
         "anchor": "x",
         "domain": [
          0,
          1
         ],
         "ticktext": [
          "1/32",
          "1/16",
          "1/8",
          "1/4",
          "1/2",
          "1"
         ],
         "tickvals": [
          0.03125,
          0.0625,
          0.125,
          0.25,
          0.5,
          1
         ],
         "title": {
          "text": "TFP"
         },
         "type": "log"
        }
       }
      }
     },
     "metadata": {},
     "output_type": "display_data"
    }
   ],
   "source": [
    "\n",
    "data['output_per_capita_rel_US'] = data['output_per_capita']/data['output_per_capita'].loc['United States']\n",
    "data['output_per_capita_implied_rel_US'] = data['output_per_capita_implied']/data['output_per_capita_implied'].loc['United States']\n",
    "\n",
    "data['output_per_capita_rel_DE'] = data['output_per_capita']/data['output_per_capita'].loc['Germany']\n",
    "data['output_per_capita_implied_rel_DE'] = data['output_per_capita_implied']/data['output_per_capita_implied'].loc['Germany']\n",
    "\n",
    "fig = px.scatter(data, 'output_per_capita_rel_US', 'TFP_rel_US', text = data.index,\n",
    "                 log_x = True, log_y=True)\n",
    "fig.update_traces(mode='text')\n",
    "#fig2 = px.line(x=[1/32,1.4],y=[1/32,1.4], log_x = True, log_y=True)\n",
    "#fig = go.Figure(data = fig1.data + fig2.data, log_x=True)\n",
    "\n",
    "fig.update_layout(template = 'simple_white',\n",
    "                  width = 800, height = 600,\n",
    "                  xaxis_title = 'GDP per capita',\n",
    "                  yaxis_title = 'TFP',\n",
    "                  title = 'TFP is higher in rich countries')\n",
    "\n",
    "fig.update_xaxes(tickvals = [1/32, 1/16, 1/8, 1/4, 1/2, 1],\n",
    "                 ticktext = [\"1/32\", \"1/16\", \"1/8\", \"1/4\", \"1/2\", \"1\"])\n",
    "fig.update_yaxes(tickvals = [1/32, 1/16, 1/8, 1/4, 1/2, 1],\n",
    "                 ticktext = [\"1/32\", \"1/16\", \"1/8\", \"1/4\", \"1/2\", \"1\"])\n"
   ]
  },
  {
   "cell_type": "markdown",
   "metadata": {},
   "source": [
    "For the poorer countries, TFP is closer to the US than GDP per capita, indicative of the fact that also a shortage of capital and human capital goes some way to account for the income differences with the US. Part of this is, arguably, mechanical since higher productivity, in itself, leads to greater capital accumulation. Following Klenow and Rodriguez-Clare (1997) and Hall and Jones (1999), we can rewrite the accounting identity as\n",
    "$$ y = (k/y)^{\\alpha/(1-\\alpha)}h A^{1/(1-\\alpha)}. $$\n",
    "Setting $A$ constant across countries with this accounting identity assumes that the capital-output ratio remains stable in the thought experiment, something which is consistent with, e.g the Solow model. This formulation takes into account that an increase in productivity endogenously leads to an increase in the capital stock."
   ]
  },
  {
   "cell_type": "code",
   "execution_count": 7,
   "metadata": {},
   "outputs": [
    {
     "name": "stderr",
     "output_type": "stream",
     "text": [
      "/var/folders/s0/3g1gb_9s56x9hxnb2d1npjc80000gn/T/ipykernel_53630/2410153740.py:1: SettingWithCopyWarning:\n",
      "\n",
      "\n",
      "A value is trying to be set on a copy of a slice from a DataFrame.\n",
      "Try using .loc[row_indexer,col_indexer] = value instead\n",
      "\n",
      "See the caveats in the documentation: https://pandas.pydata.org/pandas-docs/stable/user_guide/indexing.html#returning-a-view-versus-a-copy\n",
      "\n",
      "/var/folders/s0/3g1gb_9s56x9hxnb2d1npjc80000gn/T/ipykernel_53630/2410153740.py:2: SettingWithCopyWarning:\n",
      "\n",
      "\n",
      "A value is trying to be set on a copy of a slice from a DataFrame.\n",
      "Try using .loc[row_indexer,col_indexer] = value instead\n",
      "\n",
      "See the caveats in the documentation: https://pandas.pydata.org/pandas-docs/stable/user_guide/indexing.html#returning-a-view-versus-a-copy\n",
      "\n"
     ]
    }
   ],
   "source": [
    "data['capital_to_output'] = data['capital']/data['output']\n",
    "data['output_per_capita_implied_KR'] = data['capital_to_output']**(alpha/(1-alpha))*data['human_capital_per_capita']\n"
   ]
  },
  {
   "cell_type": "markdown",
   "metadata": {},
   "source": [
    "\n",
    "To quantify how large share of the variation is accounted for by factor inputs, following Table 1 in Caselli 2005, we compute the variance in log GDP per capita and the variance in log GDP per capita which would result if all countries kept their factor inputs but total-factor productivity was equalized across countries."
   ]
  },
  {
   "cell_type": "code",
   "execution_count": 8,
   "metadata": {},
   "outputs": [
    {
     "name": "stderr",
     "output_type": "stream",
     "text": [
      "/Users/kalle/opt/anaconda3/lib/python3.8/site-packages/pandas/core/arraylike.py:397: RuntimeWarning:\n",
      "\n",
      "invalid value encountered in log\n",
      "\n"
     ]
    },
    {
     "data": {
      "text/html": [
       "<div>\n",
       "<style scoped>\n",
       "    .dataframe tbody tr th:only-of-type {\n",
       "        vertical-align: middle;\n",
       "    }\n",
       "\n",
       "    .dataframe tbody tr th {\n",
       "        vertical-align: top;\n",
       "    }\n",
       "\n",
       "    .dataframe thead th {\n",
       "        text-align: right;\n",
       "    }\n",
       "</style>\n",
       "<table border=\"1\" class=\"dataframe\">\n",
       "  <thead>\n",
       "    <tr style=\"text-align: right;\">\n",
       "      <th></th>\n",
       "      <th>var[log(y)]</th>\n",
       "      <th>var[log(y_KH)]</th>\n",
       "      <th>success_1</th>\n",
       "    </tr>\n",
       "  </thead>\n",
       "  <tbody>\n",
       "    <tr>\n",
       "      <th>Baseline success of the factor-only model</th>\n",
       "      <td>1.081702</td>\n",
       "      <td>0.366579</td>\n",
       "      <td>0.338891</td>\n",
       "    </tr>\n",
       "  </tbody>\n",
       "</table>\n",
       "</div>"
      ],
      "text/plain": [
       "                                           var[log(y)]  var[log(y_KH)]  \\\n",
       "Baseline success of the factor-only model     1.081702        0.366579   \n",
       "\n",
       "                                           success_1  \n",
       "Baseline success of the factor-only model   0.338891  "
      ]
     },
     "execution_count": 8,
     "metadata": {},
     "output_type": "execute_result"
    }
   ],
   "source": [
    "table = pd.DataFrame([np.var(np.log(data['output_per_capita'])), np.var(np.log(data['output_per_capita_implied'])), np.var(np.log(data['output_per_capita_implied']))/np.var(np.log(data['output_per_capita']))]).transpose()\n",
    "table.columns = ['var[log(y)]', 'var[log(y_KH)]', 'success_1']\n",
    "table.index = ['Baseline success of the factor-only model']\n",
    "table"
   ]
  },
  {
   "cell_type": "markdown",
   "metadata": {},
   "source": [
    "The factor-only model is only able to account for 34 percent of the variation in GDP per capita. If we use Klenow and Rodriguez-Clare's formulation, the success of the factor-only model is even poorer. See Caselli for the intuition behind this result."
   ]
  },
  {
   "cell_type": "code",
   "execution_count": 9,
   "metadata": {},
   "outputs": [
    {
     "name": "stderr",
     "output_type": "stream",
     "text": [
      "/Users/kalle/opt/anaconda3/lib/python3.8/site-packages/pandas/core/arraylike.py:397: RuntimeWarning:\n",
      "\n",
      "invalid value encountered in log\n",
      "\n"
     ]
    },
    {
     "data": {
      "text/html": [
       "<div>\n",
       "<style scoped>\n",
       "    .dataframe tbody tr th:only-of-type {\n",
       "        vertical-align: middle;\n",
       "    }\n",
       "\n",
       "    .dataframe tbody tr th {\n",
       "        vertical-align: top;\n",
       "    }\n",
       "\n",
       "    .dataframe thead th {\n",
       "        text-align: right;\n",
       "    }\n",
       "</style>\n",
       "<table border=\"1\" class=\"dataframe\">\n",
       "  <thead>\n",
       "    <tr style=\"text-align: right;\">\n",
       "      <th></th>\n",
       "      <th>var[log(y)]</th>\n",
       "      <th>var[log(y_KH)]</th>\n",
       "      <th>success_1</th>\n",
       "    </tr>\n",
       "  </thead>\n",
       "  <tbody>\n",
       "    <tr>\n",
       "      <th>Baseline success of the factor-only model with Klenow-Rodriguez-Clare formulation</th>\n",
       "      <td>1.081702</td>\n",
       "      <td>0.185329</td>\n",
       "      <td>0.171331</td>\n",
       "    </tr>\n",
       "  </tbody>\n",
       "</table>\n",
       "</div>"
      ],
      "text/plain": [
       "                                                    var[log(y)]  \\\n",
       "Baseline success of the factor-only model with ...     1.081702   \n",
       "\n",
       "                                                    var[log(y_KH)]  success_1  \n",
       "Baseline success of the factor-only model with ...        0.185329   0.171331  "
      ]
     },
     "execution_count": 9,
     "metadata": {},
     "output_type": "execute_result"
    }
   ],
   "source": [
    "table = pd.DataFrame([np.var(np.log(data['output_per_capita'])), np.var(np.log(data['output_per_capita_implied_KR'])), np.var(np.log(data['output_per_capita_implied_KR']))/np.var(np.log(data['output_per_capita']))]).transpose()\n",
    "table.columns = ['var[log(y)]', 'var[log(y_KH)]', 'success_1']\n",
    "table.index = ['Baseline success of the factor-only model with Klenow-Rodriguez-Clare formulation']\n",
    "table"
   ]
  },
  {
   "cell_type": "markdown",
   "metadata": {},
   "source": [
    "## Focusing on the EU\n",
    "\n",
    "One may be interested in a more narrow question. Rather than studying the global dispersion of income, we now focus on the European Union."
   ]
  },
  {
   "cell_type": "code",
   "execution_count": 10,
   "metadata": {},
   "outputs": [
    {
     "data": {
      "application/vnd.plotly.v1+json": {
       "config": {
        "plotlyServerURL": "https://plot.ly"
       },
       "data": [
        {
         "hovertemplate": "output_per_capita_rel_DE=%{x}<br>TFP_rel_DE=%{y}<br>text=%{text}<extra></extra>",
         "legendgroup": "",
         "marker": {
          "color": "#636efa",
          "symbol": "circle"
         },
         "mode": "text",
         "name": "",
         "orientation": "v",
         "showlegend": false,
         "text": [
          "Austria",
          "Belgium",
          "Bulgaria",
          "Croatia",
          "Cyprus",
          "Czech Republic",
          "Denmark",
          "Estonia",
          "Finland",
          "France",
          "Germany",
          "Greece",
          "Hungary",
          "Italy",
          "Latvia",
          "Lithuania",
          "Luxembourg",
          "Malta",
          "Netherlands",
          "Poland",
          "Portugal",
          "Romania",
          "Slovakia",
          "Slovenia",
          "Spain",
          "Sweden"
         ],
         "type": "scatter",
         "x": [
          1.0868989038436192,
          1.1320531249268575,
          0.42760092475396816,
          0.6033768457530255,
          0.8196432581564407,
          0.7158829962400937,
          1.0306974120049037,
          0.6320027092715992,
          0.9744519959280641,
          1.0763057864122247,
          1,
          0.7499351658554284,
          0.6192313214154948,
          0.9939910672651655,
          0.590150200803617,
          0.6339582233395168,
          1.247177025363487,
          0.8208541047915816,
          1.0767625098046318,
          0.7040548088421212,
          0.6963907652365517,
          0.5433740862340382,
          0.704644362664791,
          0.7003433489305781,
          0.9833757327621239,
          1.0987988716351456
         ],
         "xaxis": "x",
         "y": [
          1.0506337845787823,
          1.0988064056201543,
          0.7303908665236478,
          0.6949887501788453,
          0.8825626218703287,
          0.7372437576902611,
          1.0358212996492242,
          0.7417562142579365,
          1.0066097992530048,
          1.0971009185163763,
          1,
          0.7569084394588397,
          0.758180838998785,
          0.9634128056115634,
          0.6668172005433206,
          0.8429453877475724,
          1.1786061184159604,
          1.0957705279698742,
          1.1035337359662072,
          1.0288559425641963,
          0.8486915117980063,
          0.8015659923576334,
          0.7939563253268063,
          0.716906968961323,
          1.0623251588301084,
          1.1135436919082173
         ],
         "yaxis": "y"
        }
       ],
       "layout": {
        "height": 600,
        "legend": {
         "tracegroupgap": 0
        },
        "margin": {
         "t": 60
        },
        "template": {
         "data": {
          "bar": [
           {
            "error_x": {
             "color": "rgb(36,36,36)"
            },
            "error_y": {
             "color": "rgb(36,36,36)"
            },
            "marker": {
             "line": {
              "color": "white",
              "width": 0.5
             },
             "pattern": {
              "fillmode": "overlay",
              "size": 10,
              "solidity": 0.2
             }
            },
            "type": "bar"
           }
          ],
          "barpolar": [
           {
            "marker": {
             "line": {
              "color": "white",
              "width": 0.5
             },
             "pattern": {
              "fillmode": "overlay",
              "size": 10,
              "solidity": 0.2
             }
            },
            "type": "barpolar"
           }
          ],
          "carpet": [
           {
            "aaxis": {
             "endlinecolor": "rgb(36,36,36)",
             "gridcolor": "white",
             "linecolor": "white",
             "minorgridcolor": "white",
             "startlinecolor": "rgb(36,36,36)"
            },
            "baxis": {
             "endlinecolor": "rgb(36,36,36)",
             "gridcolor": "white",
             "linecolor": "white",
             "minorgridcolor": "white",
             "startlinecolor": "rgb(36,36,36)"
            },
            "type": "carpet"
           }
          ],
          "choropleth": [
           {
            "colorbar": {
             "outlinewidth": 1,
             "tickcolor": "rgb(36,36,36)",
             "ticks": "outside"
            },
            "type": "choropleth"
           }
          ],
          "contour": [
           {
            "colorbar": {
             "outlinewidth": 1,
             "tickcolor": "rgb(36,36,36)",
             "ticks": "outside"
            },
            "colorscale": [
             [
              0,
              "#440154"
             ],
             [
              0.1111111111111111,
              "#482878"
             ],
             [
              0.2222222222222222,
              "#3e4989"
             ],
             [
              0.3333333333333333,
              "#31688e"
             ],
             [
              0.4444444444444444,
              "#26828e"
             ],
             [
              0.5555555555555556,
              "#1f9e89"
             ],
             [
              0.6666666666666666,
              "#35b779"
             ],
             [
              0.7777777777777778,
              "#6ece58"
             ],
             [
              0.8888888888888888,
              "#b5de2b"
             ],
             [
              1,
              "#fde725"
             ]
            ],
            "type": "contour"
           }
          ],
          "contourcarpet": [
           {
            "colorbar": {
             "outlinewidth": 1,
             "tickcolor": "rgb(36,36,36)",
             "ticks": "outside"
            },
            "type": "contourcarpet"
           }
          ],
          "heatmap": [
           {
            "colorbar": {
             "outlinewidth": 1,
             "tickcolor": "rgb(36,36,36)",
             "ticks": "outside"
            },
            "colorscale": [
             [
              0,
              "#440154"
             ],
             [
              0.1111111111111111,
              "#482878"
             ],
             [
              0.2222222222222222,
              "#3e4989"
             ],
             [
              0.3333333333333333,
              "#31688e"
             ],
             [
              0.4444444444444444,
              "#26828e"
             ],
             [
              0.5555555555555556,
              "#1f9e89"
             ],
             [
              0.6666666666666666,
              "#35b779"
             ],
             [
              0.7777777777777778,
              "#6ece58"
             ],
             [
              0.8888888888888888,
              "#b5de2b"
             ],
             [
              1,
              "#fde725"
             ]
            ],
            "type": "heatmap"
           }
          ],
          "heatmapgl": [
           {
            "colorbar": {
             "outlinewidth": 1,
             "tickcolor": "rgb(36,36,36)",
             "ticks": "outside"
            },
            "colorscale": [
             [
              0,
              "#440154"
             ],
             [
              0.1111111111111111,
              "#482878"
             ],
             [
              0.2222222222222222,
              "#3e4989"
             ],
             [
              0.3333333333333333,
              "#31688e"
             ],
             [
              0.4444444444444444,
              "#26828e"
             ],
             [
              0.5555555555555556,
              "#1f9e89"
             ],
             [
              0.6666666666666666,
              "#35b779"
             ],
             [
              0.7777777777777778,
              "#6ece58"
             ],
             [
              0.8888888888888888,
              "#b5de2b"
             ],
             [
              1,
              "#fde725"
             ]
            ],
            "type": "heatmapgl"
           }
          ],
          "histogram": [
           {
            "marker": {
             "line": {
              "color": "white",
              "width": 0.6
             }
            },
            "type": "histogram"
           }
          ],
          "histogram2d": [
           {
            "colorbar": {
             "outlinewidth": 1,
             "tickcolor": "rgb(36,36,36)",
             "ticks": "outside"
            },
            "colorscale": [
             [
              0,
              "#440154"
             ],
             [
              0.1111111111111111,
              "#482878"
             ],
             [
              0.2222222222222222,
              "#3e4989"
             ],
             [
              0.3333333333333333,
              "#31688e"
             ],
             [
              0.4444444444444444,
              "#26828e"
             ],
             [
              0.5555555555555556,
              "#1f9e89"
             ],
             [
              0.6666666666666666,
              "#35b779"
             ],
             [
              0.7777777777777778,
              "#6ece58"
             ],
             [
              0.8888888888888888,
              "#b5de2b"
             ],
             [
              1,
              "#fde725"
             ]
            ],
            "type": "histogram2d"
           }
          ],
          "histogram2dcontour": [
           {
            "colorbar": {
             "outlinewidth": 1,
             "tickcolor": "rgb(36,36,36)",
             "ticks": "outside"
            },
            "colorscale": [
             [
              0,
              "#440154"
             ],
             [
              0.1111111111111111,
              "#482878"
             ],
             [
              0.2222222222222222,
              "#3e4989"
             ],
             [
              0.3333333333333333,
              "#31688e"
             ],
             [
              0.4444444444444444,
              "#26828e"
             ],
             [
              0.5555555555555556,
              "#1f9e89"
             ],
             [
              0.6666666666666666,
              "#35b779"
             ],
             [
              0.7777777777777778,
              "#6ece58"
             ],
             [
              0.8888888888888888,
              "#b5de2b"
             ],
             [
              1,
              "#fde725"
             ]
            ],
            "type": "histogram2dcontour"
           }
          ],
          "mesh3d": [
           {
            "colorbar": {
             "outlinewidth": 1,
             "tickcolor": "rgb(36,36,36)",
             "ticks": "outside"
            },
            "type": "mesh3d"
           }
          ],
          "parcoords": [
           {
            "line": {
             "colorbar": {
              "outlinewidth": 1,
              "tickcolor": "rgb(36,36,36)",
              "ticks": "outside"
             }
            },
            "type": "parcoords"
           }
          ],
          "pie": [
           {
            "automargin": true,
            "type": "pie"
           }
          ],
          "scatter": [
           {
            "fillpattern": {
             "fillmode": "overlay",
             "size": 10,
             "solidity": 0.2
            },
            "type": "scatter"
           }
          ],
          "scatter3d": [
           {
            "line": {
             "colorbar": {
              "outlinewidth": 1,
              "tickcolor": "rgb(36,36,36)",
              "ticks": "outside"
             }
            },
            "marker": {
             "colorbar": {
              "outlinewidth": 1,
              "tickcolor": "rgb(36,36,36)",
              "ticks": "outside"
             }
            },
            "type": "scatter3d"
           }
          ],
          "scattercarpet": [
           {
            "marker": {
             "colorbar": {
              "outlinewidth": 1,
              "tickcolor": "rgb(36,36,36)",
              "ticks": "outside"
             }
            },
            "type": "scattercarpet"
           }
          ],
          "scattergeo": [
           {
            "marker": {
             "colorbar": {
              "outlinewidth": 1,
              "tickcolor": "rgb(36,36,36)",
              "ticks": "outside"
             }
            },
            "type": "scattergeo"
           }
          ],
          "scattergl": [
           {
            "marker": {
             "colorbar": {
              "outlinewidth": 1,
              "tickcolor": "rgb(36,36,36)",
              "ticks": "outside"
             }
            },
            "type": "scattergl"
           }
          ],
          "scattermapbox": [
           {
            "marker": {
             "colorbar": {
              "outlinewidth": 1,
              "tickcolor": "rgb(36,36,36)",
              "ticks": "outside"
             }
            },
            "type": "scattermapbox"
           }
          ],
          "scatterpolar": [
           {
            "marker": {
             "colorbar": {
              "outlinewidth": 1,
              "tickcolor": "rgb(36,36,36)",
              "ticks": "outside"
             }
            },
            "type": "scatterpolar"
           }
          ],
          "scatterpolargl": [
           {
            "marker": {
             "colorbar": {
              "outlinewidth": 1,
              "tickcolor": "rgb(36,36,36)",
              "ticks": "outside"
             }
            },
            "type": "scatterpolargl"
           }
          ],
          "scatterternary": [
           {
            "marker": {
             "colorbar": {
              "outlinewidth": 1,
              "tickcolor": "rgb(36,36,36)",
              "ticks": "outside"
             }
            },
            "type": "scatterternary"
           }
          ],
          "surface": [
           {
            "colorbar": {
             "outlinewidth": 1,
             "tickcolor": "rgb(36,36,36)",
             "ticks": "outside"
            },
            "colorscale": [
             [
              0,
              "#440154"
             ],
             [
              0.1111111111111111,
              "#482878"
             ],
             [
              0.2222222222222222,
              "#3e4989"
             ],
             [
              0.3333333333333333,
              "#31688e"
             ],
             [
              0.4444444444444444,
              "#26828e"
             ],
             [
              0.5555555555555556,
              "#1f9e89"
             ],
             [
              0.6666666666666666,
              "#35b779"
             ],
             [
              0.7777777777777778,
              "#6ece58"
             ],
             [
              0.8888888888888888,
              "#b5de2b"
             ],
             [
              1,
              "#fde725"
             ]
            ],
            "type": "surface"
           }
          ],
          "table": [
           {
            "cells": {
             "fill": {
              "color": "rgb(237,237,237)"
             },
             "line": {
              "color": "white"
             }
            },
            "header": {
             "fill": {
              "color": "rgb(217,217,217)"
             },
             "line": {
              "color": "white"
             }
            },
            "type": "table"
           }
          ]
         },
         "layout": {
          "annotationdefaults": {
           "arrowhead": 0,
           "arrowwidth": 1
          },
          "autotypenumbers": "strict",
          "coloraxis": {
           "colorbar": {
            "outlinewidth": 1,
            "tickcolor": "rgb(36,36,36)",
            "ticks": "outside"
           }
          },
          "colorscale": {
           "diverging": [
            [
             0,
             "rgb(103,0,31)"
            ],
            [
             0.1,
             "rgb(178,24,43)"
            ],
            [
             0.2,
             "rgb(214,96,77)"
            ],
            [
             0.3,
             "rgb(244,165,130)"
            ],
            [
             0.4,
             "rgb(253,219,199)"
            ],
            [
             0.5,
             "rgb(247,247,247)"
            ],
            [
             0.6,
             "rgb(209,229,240)"
            ],
            [
             0.7,
             "rgb(146,197,222)"
            ],
            [
             0.8,
             "rgb(67,147,195)"
            ],
            [
             0.9,
             "rgb(33,102,172)"
            ],
            [
             1,
             "rgb(5,48,97)"
            ]
           ],
           "sequential": [
            [
             0,
             "#440154"
            ],
            [
             0.1111111111111111,
             "#482878"
            ],
            [
             0.2222222222222222,
             "#3e4989"
            ],
            [
             0.3333333333333333,
             "#31688e"
            ],
            [
             0.4444444444444444,
             "#26828e"
            ],
            [
             0.5555555555555556,
             "#1f9e89"
            ],
            [
             0.6666666666666666,
             "#35b779"
            ],
            [
             0.7777777777777778,
             "#6ece58"
            ],
            [
             0.8888888888888888,
             "#b5de2b"
            ],
            [
             1,
             "#fde725"
            ]
           ],
           "sequentialminus": [
            [
             0,
             "#440154"
            ],
            [
             0.1111111111111111,
             "#482878"
            ],
            [
             0.2222222222222222,
             "#3e4989"
            ],
            [
             0.3333333333333333,
             "#31688e"
            ],
            [
             0.4444444444444444,
             "#26828e"
            ],
            [
             0.5555555555555556,
             "#1f9e89"
            ],
            [
             0.6666666666666666,
             "#35b779"
            ],
            [
             0.7777777777777778,
             "#6ece58"
            ],
            [
             0.8888888888888888,
             "#b5de2b"
            ],
            [
             1,
             "#fde725"
            ]
           ]
          },
          "colorway": [
           "#1F77B4",
           "#FF7F0E",
           "#2CA02C",
           "#D62728",
           "#9467BD",
           "#8C564B",
           "#E377C2",
           "#7F7F7F",
           "#BCBD22",
           "#17BECF"
          ],
          "font": {
           "color": "rgb(36,36,36)"
          },
          "geo": {
           "bgcolor": "white",
           "lakecolor": "white",
           "landcolor": "white",
           "showlakes": true,
           "showland": true,
           "subunitcolor": "white"
          },
          "hoverlabel": {
           "align": "left"
          },
          "hovermode": "closest",
          "mapbox": {
           "style": "light"
          },
          "paper_bgcolor": "white",
          "plot_bgcolor": "white",
          "polar": {
           "angularaxis": {
            "gridcolor": "rgb(232,232,232)",
            "linecolor": "rgb(36,36,36)",
            "showgrid": false,
            "showline": true,
            "ticks": "outside"
           },
           "bgcolor": "white",
           "radialaxis": {
            "gridcolor": "rgb(232,232,232)",
            "linecolor": "rgb(36,36,36)",
            "showgrid": false,
            "showline": true,
            "ticks": "outside"
           }
          },
          "scene": {
           "xaxis": {
            "backgroundcolor": "white",
            "gridcolor": "rgb(232,232,232)",
            "gridwidth": 2,
            "linecolor": "rgb(36,36,36)",
            "showbackground": true,
            "showgrid": false,
            "showline": true,
            "ticks": "outside",
            "zeroline": false,
            "zerolinecolor": "rgb(36,36,36)"
           },
           "yaxis": {
            "backgroundcolor": "white",
            "gridcolor": "rgb(232,232,232)",
            "gridwidth": 2,
            "linecolor": "rgb(36,36,36)",
            "showbackground": true,
            "showgrid": false,
            "showline": true,
            "ticks": "outside",
            "zeroline": false,
            "zerolinecolor": "rgb(36,36,36)"
           },
           "zaxis": {
            "backgroundcolor": "white",
            "gridcolor": "rgb(232,232,232)",
            "gridwidth": 2,
            "linecolor": "rgb(36,36,36)",
            "showbackground": true,
            "showgrid": false,
            "showline": true,
            "ticks": "outside",
            "zeroline": false,
            "zerolinecolor": "rgb(36,36,36)"
           }
          },
          "shapedefaults": {
           "fillcolor": "black",
           "line": {
            "width": 0
           },
           "opacity": 0.3
          },
          "ternary": {
           "aaxis": {
            "gridcolor": "rgb(232,232,232)",
            "linecolor": "rgb(36,36,36)",
            "showgrid": false,
            "showline": true,
            "ticks": "outside"
           },
           "baxis": {
            "gridcolor": "rgb(232,232,232)",
            "linecolor": "rgb(36,36,36)",
            "showgrid": false,
            "showline": true,
            "ticks": "outside"
           },
           "bgcolor": "white",
           "caxis": {
            "gridcolor": "rgb(232,232,232)",
            "linecolor": "rgb(36,36,36)",
            "showgrid": false,
            "showline": true,
            "ticks": "outside"
           }
          },
          "title": {
           "x": 0.05
          },
          "xaxis": {
           "automargin": true,
           "gridcolor": "rgb(232,232,232)",
           "linecolor": "rgb(36,36,36)",
           "showgrid": false,
           "showline": true,
           "ticks": "outside",
           "title": {
            "standoff": 15
           },
           "zeroline": false,
           "zerolinecolor": "rgb(36,36,36)"
          },
          "yaxis": {
           "automargin": true,
           "gridcolor": "rgb(232,232,232)",
           "linecolor": "rgb(36,36,36)",
           "showgrid": false,
           "showline": true,
           "ticks": "outside",
           "title": {
            "standoff": 15
           },
           "zeroline": false,
           "zerolinecolor": "rgb(36,36,36)"
          }
         }
        },
        "title": {
         "text": "European Union excluding Ireland"
        },
        "width": 800,
        "xaxis": {
         "anchor": "y",
         "domain": [
          0,
          1
         ],
         "title": {
          "text": "GDP per capita"
         },
         "type": "log"
        },
        "yaxis": {
         "anchor": "x",
         "domain": [
          0,
          1
         ],
         "title": {
          "text": "TFP"
         },
         "type": "log"
        }
       }
      }
     },
     "metadata": {},
     "output_type": "display_data"
    }
   ],
   "source": [
    "eu = ['Austria', 'Belgium', 'Bulgaria', 'Croatia', 'Cyprus', 'Czech Republic', \n",
    "      'Denmark', 'Estonia', 'Finland', 'France', 'Germany', 'Greece', 'Hungary', \n",
    "       'Italy', 'Latvia', 'Lithuania', 'Luxembourg', 'Malta', 'Netherlands',\n",
    "      'Poland', 'Portugal', 'Romania', 'Slovakia', 'Slovenia', 'Spain', \n",
    "        'Sweden']\n",
    "\n",
    "eu_90s = ['Austria', 'Belgium', 'Denmark', 'Finland', 'France', 'Germany', 'Greece',\n",
    "          'Ireland', 'Italy', 'Luxembourg', 'Netherlands', 'Portugal', 'Spain', 'Sweden']\n",
    "\n",
    "\n",
    "fig = px.scatter(data.loc[eu], 'output_per_capita_rel_DE', 'TFP_rel_DE', text = data.loc[eu].index,\n",
    "                 log_x = True, log_y=True)\n",
    "fig.update_traces(mode='text')\n",
    "\n",
    "\n",
    "fig.update_layout(template = 'simple_white',\n",
    "                  width = 800, height = 600,\n",
    "                  xaxis_title = 'GDP per capita',\n",
    "                  yaxis_title = 'TFP',\n",
    "                  title = 'European Union excluding Ireland')\n",
    "\n",
    "\n"
   ]
  },
  {
   "cell_type": "markdown",
   "metadata": {},
   "source": [
    "Again, we compute how much the variance of log income is decreased if all countries have the same TFP:"
   ]
  },
  {
   "cell_type": "code",
   "execution_count": 11,
   "metadata": {},
   "outputs": [
    {
     "data": {
      "text/html": [
       "<div>\n",
       "<style scoped>\n",
       "    .dataframe tbody tr th:only-of-type {\n",
       "        vertical-align: middle;\n",
       "    }\n",
       "\n",
       "    .dataframe tbody tr th {\n",
       "        vertical-align: top;\n",
       "    }\n",
       "\n",
       "    .dataframe thead th {\n",
       "        text-align: right;\n",
       "    }\n",
       "</style>\n",
       "<table border=\"1\" class=\"dataframe\">\n",
       "  <thead>\n",
       "    <tr style=\"text-align: right;\">\n",
       "      <th></th>\n",
       "      <th>var[log(y)]</th>\n",
       "      <th>var[log(y_KH)]</th>\n",
       "      <th>success_1</th>\n",
       "    </tr>\n",
       "  </thead>\n",
       "  <tbody>\n",
       "    <tr>\n",
       "      <th>Baseline success of the factor-only model</th>\n",
       "      <td>0.073353</td>\n",
       "      <td>0.022376</td>\n",
       "      <td>0.305051</td>\n",
       "    </tr>\n",
       "  </tbody>\n",
       "</table>\n",
       "</div>"
      ],
      "text/plain": [
       "                                           var[log(y)]  var[log(y_KH)]  \\\n",
       "Baseline success of the factor-only model     0.073353        0.022376   \n",
       "\n",
       "                                           success_1  \n",
       "Baseline success of the factor-only model   0.305051  "
      ]
     },
     "execution_count": 11,
     "metadata": {},
     "output_type": "execute_result"
    }
   ],
   "source": [
    "table = pd.DataFrame([\n",
    "    np.var(np.log(data.loc[eu]['output_per_capita'])), np.var(np.log(data.loc[eu]['output_per_capita_implied'])), np.var(np.log(data.loc[eu]['output_per_capita_implied']))/np.var(np.log(data.loc[eu]['output_per_capita']))\n",
    "]).transpose()\n",
    "table.columns = ['var[log(y)]', 'var[log(y_KH)]', 'success_1']\n",
    "table.index = ['Baseline success of the factor-only model']\n",
    "table\n",
    "\n"
   ]
  },
  {
   "cell_type": "markdown",
   "metadata": {},
   "source": [
    "## Focusing on the OECD\n",
    "\n",
    "Let's do the same analysis for the OECD because why not?"
   ]
  },
  {
   "cell_type": "code",
   "execution_count": 12,
   "metadata": {},
   "outputs": [
    {
     "data": {
      "application/vnd.plotly.v1+json": {
       "config": {
        "plotlyServerURL": "https://plot.ly"
       },
       "data": [
        {
         "hovertemplate": "output_per_capita_rel_DE=%{x}<br>TFP_rel_DE=%{y}<br>text=%{text}<extra></extra>",
         "legendgroup": "",
         "marker": {
          "color": "#636efa",
          "symbol": "circle"
         },
         "mode": "text",
         "name": "",
         "orientation": "v",
         "showlegend": false,
         "text": [
          "Australia",
          "Austria",
          "Belgium",
          "Canada",
          "Chile",
          "Colombia",
          "Costa Rica",
          "Czech Republic",
          "Denmark",
          "Estonia",
          "Finland",
          "France",
          "Germany",
          "Greece",
          "Hungary",
          "Iceland",
          "Israel",
          "Italy",
          "Japan",
          "Republic of Korea",
          "Latvia",
          "Lithuania",
          "Luxembourg",
          "Mexico",
          "Netherlands",
          "New Zealand",
          "Norway",
          "Poland",
          "Portugal",
          "Slovakia",
          "Slovenia",
          "Spain",
          "Sweden",
          "Switzerland",
          "Turkey",
          "United Kingdom",
          "United States"
         ],
         "type": "scatter",
         "x": [
          1.0571108340502524,
          1.0868989038436192,
          1.1320531249268575,
          0.9943621485911425,
          0.5803417016615909,
          0.3351606765045848,
          0.40393494705988087,
          0.7158829962400937,
          1.0306974120049037,
          0.6320027092715992,
          0.9744519959280641,
          1.0763057864122247,
          1,
          0.7499351658554284,
          0.6192313214154948,
          0.9262929630259873,
          0.8263607900356033,
          0.9939910672651655,
          0.8322505802054568,
          0.810275477342699,
          0.590150200803617,
          0.6339582233395168,
          1.247177025363487,
          0.48160062709637624,
          1.0767625098046318,
          0.7797142268540286,
          1.4688867755260187,
          0.7040548088421212,
          0.6963907652365517,
          0.704644362664791,
          0.7003433489305781,
          0.9833757327621239,
          1.0987988716351456,
          1.3413560333761418,
          0.8228353193655263,
          0.9611285188983075,
          1.3559782504128022
         ],
         "xaxis": "x",
         "y": [
          1.0726560015649227,
          1.0506337845787823,
          1.0988064056201543,
          1.0010792391636625,
          0.8331299022938939,
          0.7256698934142234,
          0.8294679892894297,
          0.7372437576902611,
          1.0358212996492242,
          0.7417562142579365,
          1.0066097992530048,
          1.0971009185163763,
          1,
          0.7569084394588397,
          0.758180838998785,
          1.0326977320181303,
          0.9581564988771145,
          0.9634128056115634,
          0.897212380840798,
          0.8834721551856877,
          0.6668172005433206,
          0.8429453877475724,
          1.1786061184159604,
          0.7821241977429636,
          1.1035337359662072,
          1.0032942665734326,
          1.361099008339981,
          1.0288559425641963,
          0.8486915117980063,
          0.7939563253268063,
          0.716906968961323,
          1.0623251588301084,
          1.1135436919082173,
          1.2262784154316653,
          1.2304168784059917,
          0.9394807047622973,
          1.377534208159014
         ],
         "yaxis": "y"
        },
        {
         "hovertemplate": "<b>OLS trendline</b><br>TFP_rel_DE = 0.592773 * output_per_capita_rel_DE + 0.446918<br>R<sup>2</sup>=0.755488<br><br>output_per_capita_rel_DE=%{x}<br>TFP_rel_DE=%{y} <b>(trend)</b><extra></extra>",
         "legendgroup": "",
         "marker": {
          "color": "#636efa",
          "symbol": "circle"
         },
         "mode": "text",
         "name": "",
         "showlegend": false,
         "type": "scatter",
         "x": [
          0.3351606765045848,
          0.40393494705988087,
          0.48160062709637624,
          0.5803417016615909,
          0.590150200803617,
          0.6192313214154948,
          0.6320027092715992,
          0.6339582233395168,
          0.6963907652365517,
          0.7003433489305781,
          0.7040548088421212,
          0.704644362664791,
          0.7158829962400937,
          0.7499351658554284,
          0.7797142268540286,
          0.810275477342699,
          0.8228353193655263,
          0.8263607900356033,
          0.8322505802054568,
          0.9262929630259873,
          0.9611285188983075,
          0.9744519959280641,
          0.9833757327621239,
          0.9939910672651655,
          0.9943621485911425,
          1,
          1.0306974120049037,
          1.0571108340502524,
          1.0763057864122247,
          1.0767625098046318,
          1.0868989038436192,
          1.0987988716351456,
          1.1320531249268575,
          1.247177025363487,
          1.3413560333761418,
          1.3559782504128022,
          1.4688867755260187
         ],
         "xaxis": "x",
         "y": [
          0.64559175059201,
          0.686359253631473,
          0.7323973405698733,
          0.7909283438790351,
          0.796742553398911,
          0.8139810448196596,
          0.8215515735804595,
          0.8227107487351191,
          0.8597190488013824,
          0.8620620321068964,
          0.8642620838414039,
          0.8646115551925875,
          0.8712735092161081,
          0.8914587022699161,
          0.9091109136270208,
          0.9272267854803605,
          0.9346719156679515,
          0.9367617180765768,
          0.940253024297822,
          0.9959987718938186,
          1.0166483348544952,
          1.0245461269491436,
          1.0298358736170257,
          1.036128353030089,
          1.0363483198717947,
          1.0396902836991222,
          1.0578868683682008,
          1.0735440211787215,
          1.0849222629607247,
          1.0851929960726547,
          1.0912015727025057,
          1.0982555475275897,
          1.1179677576491778,
          1.1862100512143505,
          1.2420367864804485,
          1.2507044360632449,
          1.3176335158421923
         ],
         "yaxis": "y"
        }
       ],
       "layout": {
        "height": 600,
        "legend": {
         "tracegroupgap": 0
        },
        "margin": {
         "t": 60
        },
        "template": {
         "data": {
          "bar": [
           {
            "error_x": {
             "color": "rgb(36,36,36)"
            },
            "error_y": {
             "color": "rgb(36,36,36)"
            },
            "marker": {
             "line": {
              "color": "white",
              "width": 0.5
             },
             "pattern": {
              "fillmode": "overlay",
              "size": 10,
              "solidity": 0.2
             }
            },
            "type": "bar"
           }
          ],
          "barpolar": [
           {
            "marker": {
             "line": {
              "color": "white",
              "width": 0.5
             },
             "pattern": {
              "fillmode": "overlay",
              "size": 10,
              "solidity": 0.2
             }
            },
            "type": "barpolar"
           }
          ],
          "carpet": [
           {
            "aaxis": {
             "endlinecolor": "rgb(36,36,36)",
             "gridcolor": "white",
             "linecolor": "white",
             "minorgridcolor": "white",
             "startlinecolor": "rgb(36,36,36)"
            },
            "baxis": {
             "endlinecolor": "rgb(36,36,36)",
             "gridcolor": "white",
             "linecolor": "white",
             "minorgridcolor": "white",
             "startlinecolor": "rgb(36,36,36)"
            },
            "type": "carpet"
           }
          ],
          "choropleth": [
           {
            "colorbar": {
             "outlinewidth": 1,
             "tickcolor": "rgb(36,36,36)",
             "ticks": "outside"
            },
            "type": "choropleth"
           }
          ],
          "contour": [
           {
            "colorbar": {
             "outlinewidth": 1,
             "tickcolor": "rgb(36,36,36)",
             "ticks": "outside"
            },
            "colorscale": [
             [
              0,
              "#440154"
             ],
             [
              0.1111111111111111,
              "#482878"
             ],
             [
              0.2222222222222222,
              "#3e4989"
             ],
             [
              0.3333333333333333,
              "#31688e"
             ],
             [
              0.4444444444444444,
              "#26828e"
             ],
             [
              0.5555555555555556,
              "#1f9e89"
             ],
             [
              0.6666666666666666,
              "#35b779"
             ],
             [
              0.7777777777777778,
              "#6ece58"
             ],
             [
              0.8888888888888888,
              "#b5de2b"
             ],
             [
              1,
              "#fde725"
             ]
            ],
            "type": "contour"
           }
          ],
          "contourcarpet": [
           {
            "colorbar": {
             "outlinewidth": 1,
             "tickcolor": "rgb(36,36,36)",
             "ticks": "outside"
            },
            "type": "contourcarpet"
           }
          ],
          "heatmap": [
           {
            "colorbar": {
             "outlinewidth": 1,
             "tickcolor": "rgb(36,36,36)",
             "ticks": "outside"
            },
            "colorscale": [
             [
              0,
              "#440154"
             ],
             [
              0.1111111111111111,
              "#482878"
             ],
             [
              0.2222222222222222,
              "#3e4989"
             ],
             [
              0.3333333333333333,
              "#31688e"
             ],
             [
              0.4444444444444444,
              "#26828e"
             ],
             [
              0.5555555555555556,
              "#1f9e89"
             ],
             [
              0.6666666666666666,
              "#35b779"
             ],
             [
              0.7777777777777778,
              "#6ece58"
             ],
             [
              0.8888888888888888,
              "#b5de2b"
             ],
             [
              1,
              "#fde725"
             ]
            ],
            "type": "heatmap"
           }
          ],
          "heatmapgl": [
           {
            "colorbar": {
             "outlinewidth": 1,
             "tickcolor": "rgb(36,36,36)",
             "ticks": "outside"
            },
            "colorscale": [
             [
              0,
              "#440154"
             ],
             [
              0.1111111111111111,
              "#482878"
             ],
             [
              0.2222222222222222,
              "#3e4989"
             ],
             [
              0.3333333333333333,
              "#31688e"
             ],
             [
              0.4444444444444444,
              "#26828e"
             ],
             [
              0.5555555555555556,
              "#1f9e89"
             ],
             [
              0.6666666666666666,
              "#35b779"
             ],
             [
              0.7777777777777778,
              "#6ece58"
             ],
             [
              0.8888888888888888,
              "#b5de2b"
             ],
             [
              1,
              "#fde725"
             ]
            ],
            "type": "heatmapgl"
           }
          ],
          "histogram": [
           {
            "marker": {
             "line": {
              "color": "white",
              "width": 0.6
             }
            },
            "type": "histogram"
           }
          ],
          "histogram2d": [
           {
            "colorbar": {
             "outlinewidth": 1,
             "tickcolor": "rgb(36,36,36)",
             "ticks": "outside"
            },
            "colorscale": [
             [
              0,
              "#440154"
             ],
             [
              0.1111111111111111,
              "#482878"
             ],
             [
              0.2222222222222222,
              "#3e4989"
             ],
             [
              0.3333333333333333,
              "#31688e"
             ],
             [
              0.4444444444444444,
              "#26828e"
             ],
             [
              0.5555555555555556,
              "#1f9e89"
             ],
             [
              0.6666666666666666,
              "#35b779"
             ],
             [
              0.7777777777777778,
              "#6ece58"
             ],
             [
              0.8888888888888888,
              "#b5de2b"
             ],
             [
              1,
              "#fde725"
             ]
            ],
            "type": "histogram2d"
           }
          ],
          "histogram2dcontour": [
           {
            "colorbar": {
             "outlinewidth": 1,
             "tickcolor": "rgb(36,36,36)",
             "ticks": "outside"
            },
            "colorscale": [
             [
              0,
              "#440154"
             ],
             [
              0.1111111111111111,
              "#482878"
             ],
             [
              0.2222222222222222,
              "#3e4989"
             ],
             [
              0.3333333333333333,
              "#31688e"
             ],
             [
              0.4444444444444444,
              "#26828e"
             ],
             [
              0.5555555555555556,
              "#1f9e89"
             ],
             [
              0.6666666666666666,
              "#35b779"
             ],
             [
              0.7777777777777778,
              "#6ece58"
             ],
             [
              0.8888888888888888,
              "#b5de2b"
             ],
             [
              1,
              "#fde725"
             ]
            ],
            "type": "histogram2dcontour"
           }
          ],
          "mesh3d": [
           {
            "colorbar": {
             "outlinewidth": 1,
             "tickcolor": "rgb(36,36,36)",
             "ticks": "outside"
            },
            "type": "mesh3d"
           }
          ],
          "parcoords": [
           {
            "line": {
             "colorbar": {
              "outlinewidth": 1,
              "tickcolor": "rgb(36,36,36)",
              "ticks": "outside"
             }
            },
            "type": "parcoords"
           }
          ],
          "pie": [
           {
            "automargin": true,
            "type": "pie"
           }
          ],
          "scatter": [
           {
            "fillpattern": {
             "fillmode": "overlay",
             "size": 10,
             "solidity": 0.2
            },
            "type": "scatter"
           }
          ],
          "scatter3d": [
           {
            "line": {
             "colorbar": {
              "outlinewidth": 1,
              "tickcolor": "rgb(36,36,36)",
              "ticks": "outside"
             }
            },
            "marker": {
             "colorbar": {
              "outlinewidth": 1,
              "tickcolor": "rgb(36,36,36)",
              "ticks": "outside"
             }
            },
            "type": "scatter3d"
           }
          ],
          "scattercarpet": [
           {
            "marker": {
             "colorbar": {
              "outlinewidth": 1,
              "tickcolor": "rgb(36,36,36)",
              "ticks": "outside"
             }
            },
            "type": "scattercarpet"
           }
          ],
          "scattergeo": [
           {
            "marker": {
             "colorbar": {
              "outlinewidth": 1,
              "tickcolor": "rgb(36,36,36)",
              "ticks": "outside"
             }
            },
            "type": "scattergeo"
           }
          ],
          "scattergl": [
           {
            "marker": {
             "colorbar": {
              "outlinewidth": 1,
              "tickcolor": "rgb(36,36,36)",
              "ticks": "outside"
             }
            },
            "type": "scattergl"
           }
          ],
          "scattermapbox": [
           {
            "marker": {
             "colorbar": {
              "outlinewidth": 1,
              "tickcolor": "rgb(36,36,36)",
              "ticks": "outside"
             }
            },
            "type": "scattermapbox"
           }
          ],
          "scatterpolar": [
           {
            "marker": {
             "colorbar": {
              "outlinewidth": 1,
              "tickcolor": "rgb(36,36,36)",
              "ticks": "outside"
             }
            },
            "type": "scatterpolar"
           }
          ],
          "scatterpolargl": [
           {
            "marker": {
             "colorbar": {
              "outlinewidth": 1,
              "tickcolor": "rgb(36,36,36)",
              "ticks": "outside"
             }
            },
            "type": "scatterpolargl"
           }
          ],
          "scatterternary": [
           {
            "marker": {
             "colorbar": {
              "outlinewidth": 1,
              "tickcolor": "rgb(36,36,36)",
              "ticks": "outside"
             }
            },
            "type": "scatterternary"
           }
          ],
          "surface": [
           {
            "colorbar": {
             "outlinewidth": 1,
             "tickcolor": "rgb(36,36,36)",
             "ticks": "outside"
            },
            "colorscale": [
             [
              0,
              "#440154"
             ],
             [
              0.1111111111111111,
              "#482878"
             ],
             [
              0.2222222222222222,
              "#3e4989"
             ],
             [
              0.3333333333333333,
              "#31688e"
             ],
             [
              0.4444444444444444,
              "#26828e"
             ],
             [
              0.5555555555555556,
              "#1f9e89"
             ],
             [
              0.6666666666666666,
              "#35b779"
             ],
             [
              0.7777777777777778,
              "#6ece58"
             ],
             [
              0.8888888888888888,
              "#b5de2b"
             ],
             [
              1,
              "#fde725"
             ]
            ],
            "type": "surface"
           }
          ],
          "table": [
           {
            "cells": {
             "fill": {
              "color": "rgb(237,237,237)"
             },
             "line": {
              "color": "white"
             }
            },
            "header": {
             "fill": {
              "color": "rgb(217,217,217)"
             },
             "line": {
              "color": "white"
             }
            },
            "type": "table"
           }
          ]
         },
         "layout": {
          "annotationdefaults": {
           "arrowhead": 0,
           "arrowwidth": 1
          },
          "autotypenumbers": "strict",
          "coloraxis": {
           "colorbar": {
            "outlinewidth": 1,
            "tickcolor": "rgb(36,36,36)",
            "ticks": "outside"
           }
          },
          "colorscale": {
           "diverging": [
            [
             0,
             "rgb(103,0,31)"
            ],
            [
             0.1,
             "rgb(178,24,43)"
            ],
            [
             0.2,
             "rgb(214,96,77)"
            ],
            [
             0.3,
             "rgb(244,165,130)"
            ],
            [
             0.4,
             "rgb(253,219,199)"
            ],
            [
             0.5,
             "rgb(247,247,247)"
            ],
            [
             0.6,
             "rgb(209,229,240)"
            ],
            [
             0.7,
             "rgb(146,197,222)"
            ],
            [
             0.8,
             "rgb(67,147,195)"
            ],
            [
             0.9,
             "rgb(33,102,172)"
            ],
            [
             1,
             "rgb(5,48,97)"
            ]
           ],
           "sequential": [
            [
             0,
             "#440154"
            ],
            [
             0.1111111111111111,
             "#482878"
            ],
            [
             0.2222222222222222,
             "#3e4989"
            ],
            [
             0.3333333333333333,
             "#31688e"
            ],
            [
             0.4444444444444444,
             "#26828e"
            ],
            [
             0.5555555555555556,
             "#1f9e89"
            ],
            [
             0.6666666666666666,
             "#35b779"
            ],
            [
             0.7777777777777778,
             "#6ece58"
            ],
            [
             0.8888888888888888,
             "#b5de2b"
            ],
            [
             1,
             "#fde725"
            ]
           ],
           "sequentialminus": [
            [
             0,
             "#440154"
            ],
            [
             0.1111111111111111,
             "#482878"
            ],
            [
             0.2222222222222222,
             "#3e4989"
            ],
            [
             0.3333333333333333,
             "#31688e"
            ],
            [
             0.4444444444444444,
             "#26828e"
            ],
            [
             0.5555555555555556,
             "#1f9e89"
            ],
            [
             0.6666666666666666,
             "#35b779"
            ],
            [
             0.7777777777777778,
             "#6ece58"
            ],
            [
             0.8888888888888888,
             "#b5de2b"
            ],
            [
             1,
             "#fde725"
            ]
           ]
          },
          "colorway": [
           "#1F77B4",
           "#FF7F0E",
           "#2CA02C",
           "#D62728",
           "#9467BD",
           "#8C564B",
           "#E377C2",
           "#7F7F7F",
           "#BCBD22",
           "#17BECF"
          ],
          "font": {
           "color": "rgb(36,36,36)"
          },
          "geo": {
           "bgcolor": "white",
           "lakecolor": "white",
           "landcolor": "white",
           "showlakes": true,
           "showland": true,
           "subunitcolor": "white"
          },
          "hoverlabel": {
           "align": "left"
          },
          "hovermode": "closest",
          "mapbox": {
           "style": "light"
          },
          "paper_bgcolor": "white",
          "plot_bgcolor": "white",
          "polar": {
           "angularaxis": {
            "gridcolor": "rgb(232,232,232)",
            "linecolor": "rgb(36,36,36)",
            "showgrid": false,
            "showline": true,
            "ticks": "outside"
           },
           "bgcolor": "white",
           "radialaxis": {
            "gridcolor": "rgb(232,232,232)",
            "linecolor": "rgb(36,36,36)",
            "showgrid": false,
            "showline": true,
            "ticks": "outside"
           }
          },
          "scene": {
           "xaxis": {
            "backgroundcolor": "white",
            "gridcolor": "rgb(232,232,232)",
            "gridwidth": 2,
            "linecolor": "rgb(36,36,36)",
            "showbackground": true,
            "showgrid": false,
            "showline": true,
            "ticks": "outside",
            "zeroline": false,
            "zerolinecolor": "rgb(36,36,36)"
           },
           "yaxis": {
            "backgroundcolor": "white",
            "gridcolor": "rgb(232,232,232)",
            "gridwidth": 2,
            "linecolor": "rgb(36,36,36)",
            "showbackground": true,
            "showgrid": false,
            "showline": true,
            "ticks": "outside",
            "zeroline": false,
            "zerolinecolor": "rgb(36,36,36)"
           },
           "zaxis": {
            "backgroundcolor": "white",
            "gridcolor": "rgb(232,232,232)",
            "gridwidth": 2,
            "linecolor": "rgb(36,36,36)",
            "showbackground": true,
            "showgrid": false,
            "showline": true,
            "ticks": "outside",
            "zeroline": false,
            "zerolinecolor": "rgb(36,36,36)"
           }
          },
          "shapedefaults": {
           "fillcolor": "black",
           "line": {
            "width": 0
           },
           "opacity": 0.3
          },
          "ternary": {
           "aaxis": {
            "gridcolor": "rgb(232,232,232)",
            "linecolor": "rgb(36,36,36)",
            "showgrid": false,
            "showline": true,
            "ticks": "outside"
           },
           "baxis": {
            "gridcolor": "rgb(232,232,232)",
            "linecolor": "rgb(36,36,36)",
            "showgrid": false,
            "showline": true,
            "ticks": "outside"
           },
           "bgcolor": "white",
           "caxis": {
            "gridcolor": "rgb(232,232,232)",
            "linecolor": "rgb(36,36,36)",
            "showgrid": false,
            "showline": true,
            "ticks": "outside"
           }
          },
          "title": {
           "x": 0.05
          },
          "xaxis": {
           "automargin": true,
           "gridcolor": "rgb(232,232,232)",
           "linecolor": "rgb(36,36,36)",
           "showgrid": false,
           "showline": true,
           "ticks": "outside",
           "title": {
            "standoff": 15
           },
           "zeroline": false,
           "zerolinecolor": "rgb(36,36,36)"
          },
          "yaxis": {
           "automargin": true,
           "gridcolor": "rgb(232,232,232)",
           "linecolor": "rgb(36,36,36)",
           "showgrid": false,
           "showline": true,
           "ticks": "outside",
           "title": {
            "standoff": 15
           },
           "zeroline": false,
           "zerolinecolor": "rgb(36,36,36)"
          }
         }
        },
        "title": {
         "text": "OECD excluding Ireland"
        },
        "width": 800,
        "xaxis": {
         "anchor": "y",
         "domain": [
          0,
          1
         ],
         "title": {
          "text": "GDP per capita"
         }
        },
        "yaxis": {
         "anchor": "x",
         "domain": [
          0,
          1
         ],
         "title": {
          "text": "TFP"
         }
        }
       }
      }
     },
     "metadata": {},
     "output_type": "display_data"
    }
   ],
   "source": [
    "oecd = ['Australia', 'Austria', 'Belgium', 'Canada', 'Chile', 'Colombia', 'Costa Rica', 'Czech Republic', \n",
    "        'Denmark', 'Estonia', 'Finland', 'France', 'Germany', 'Greece', 'Hungary', 'Iceland',  \n",
    "        'Israel', 'Italy', 'Japan', 'Republic of Korea', 'Latvia', 'Lithuania', 'Luxembourg', 'Mexico',\n",
    "        'Netherlands', 'New Zealand', 'Norway', 'Poland', 'Portugal', 'Slovakia', 'Slovenia', 'Spain', \n",
    "        'Sweden', 'Switzerland', 'Turkey', 'United Kingdom', 'United States'] #'Ireland',\n",
    "\n",
    "fig = px.scatter(data.loc[oecd], 'output_per_capita_rel_DE', 'TFP_rel_DE', text = data.loc[oecd].index,\n",
    "                 trendline = \"ols\")\n",
    "fig.update_traces(mode='text')\n",
    "\n",
    "fig.update_layout(template = 'simple_white',\n",
    "                  width = 800, height = 600,\n",
    "                  xaxis_title = 'GDP per capita',\n",
    "                  yaxis_title = 'TFP',\n",
    "                  title = 'OECD excluding Ireland')"
   ]
  },
  {
   "cell_type": "code",
   "execution_count": 13,
   "metadata": {},
   "outputs": [
    {
     "data": {
      "text/html": [
       "<div>\n",
       "<style scoped>\n",
       "    .dataframe tbody tr th:only-of-type {\n",
       "        vertical-align: middle;\n",
       "    }\n",
       "\n",
       "    .dataframe tbody tr th {\n",
       "        vertical-align: top;\n",
       "    }\n",
       "\n",
       "    .dataframe thead th {\n",
       "        text-align: right;\n",
       "    }\n",
       "</style>\n",
       "<table border=\"1\" class=\"dataframe\">\n",
       "  <thead>\n",
       "    <tr style=\"text-align: right;\">\n",
       "      <th></th>\n",
       "      <th>var[log(y)]</th>\n",
       "      <th>var[log(y_KH)]</th>\n",
       "      <th>success_1</th>\n",
       "    </tr>\n",
       "  </thead>\n",
       "  <tbody>\n",
       "    <tr>\n",
       "      <th>Baseline success of the factor-only model</th>\n",
       "      <td>0.105484</td>\n",
       "      <td>0.041043</td>\n",
       "      <td>0.389096</td>\n",
       "    </tr>\n",
       "  </tbody>\n",
       "</table>\n",
       "</div>"
      ],
      "text/plain": [
       "                                           var[log(y)]  var[log(y_KH)]  \\\n",
       "Baseline success of the factor-only model     0.105484        0.041043   \n",
       "\n",
       "                                           success_1  \n",
       "Baseline success of the factor-only model   0.389096  "
      ]
     },
     "execution_count": 13,
     "metadata": {},
     "output_type": "execute_result"
    }
   ],
   "source": [
    "table = pd.DataFrame([\n",
    "    np.var(np.log(data.loc[oecd]['output_per_capita'])), np.var(np.log(data.loc[oecd]['output_per_capita_implied'])), np.var(np.log(data.loc[oecd]['output_per_capita_implied']))/np.var(np.log(data.loc[oecd]['output_per_capita']))]).transpose()\n",
    "table.columns = ['var[log(y)]', 'var[log(y_KH)]', 'success_1']\n",
    "table.index = ['Baseline success of the factor-only model']\n",
    "table"
   ]
  }
 ],
 "metadata": {
  "kernelspec": {
   "display_name": "base",
   "language": "python",
   "name": "python3"
  },
  "language_info": {
   "codemirror_mode": {
    "name": "ipython",
    "version": 3
   },
   "file_extension": ".py",
   "mimetype": "text/x-python",
   "name": "python",
   "nbconvert_exporter": "python",
   "pygments_lexer": "ipython3",
   "version": "3.8.15"
  },
  "orig_nbformat": 4
 },
 "nbformat": 4,
 "nbformat_minor": 2
}
