{
 "cells": [
  {
   "cell_type": "markdown",
   "metadata": {},
   "source": [
    "# Intro to Penn World Tables\n",
    "\n",
    "In the lecture, we saw some scatter plots produced using data from Penn World Tables. In this notebook, we replicate Figures 24, 25, and 26 of Chad Jones' [Facts of Economic Growth](https://web.stanford.edu/~chadj/facts.pdf).\n",
    "\n",
    "The source for those figures is Penn World Tables 8.0.\n",
    "\n",
    "* Let's start by going to [Penn World Table](https://www.rug.nl/ggdc/productivity/pwt/) and see what it is all about.\n",
    "* First thing to notice: the latest dataset is 10.0\n",
    "* We will conduct our analysis with this latest dataset rather than the exact vintage that Jones used (but it would be interesting to replicate his results exactly by using the same dataset).\n",
    "* There is a link to an Excel file. Click on it and open up the Excel file.\n",
    "* After perusing the dataset, we are ready to do some work in Python\n",
    "\n",
    "## Loading modules\n",
    "\n",
    "First, we load three Python modules (informally: collections of functions and capabilities)"
   ]
  },
  {
   "cell_type": "code",
   "execution_count": 1,
   "metadata": {},
   "outputs": [],
   "source": [
    "import numpy as np #numerical stuff (i.e., taking logarithms)\n",
    "import pandas as pd #good for handling datasets\n",
    "import plotly.express as px #good for plotting"
   ]
  },
  {
   "cell_type": "markdown",
   "metadata": {},
   "source": [
    "## Loading the dataset and constructing variables\n",
    "\n",
    "Then we load the dataset from the website."
   ]
  },
  {
   "cell_type": "code",
   "execution_count": 2,
   "metadata": {},
   "outputs": [],
   "source": [
    "# Download data from Penn World Table\n",
    "url = \"https://www.rug.nl/ggdc/docs/pwt100.xlsx\"\n",
    "data_in = pd.read_excel(url, sheet_name='Data')\n",
    "data = data_in.copy()"
   ]
  },
  {
   "cell_type": "markdown",
   "metadata": {},
   "source": [
    "How does the dataset \"look\"?"
   ]
  },
  {
   "cell_type": "code",
   "execution_count": 3,
   "metadata": {},
   "outputs": [
    {
     "data": {
      "text/html": [
       "<div>\n",
       "<style scoped>\n",
       "    .dataframe tbody tr th:only-of-type {\n",
       "        vertical-align: middle;\n",
       "    }\n",
       "\n",
       "    .dataframe tbody tr th {\n",
       "        vertical-align: top;\n",
       "    }\n",
       "\n",
       "    .dataframe thead th {\n",
       "        text-align: right;\n",
       "    }\n",
       "</style>\n",
       "<table border=\"1\" class=\"dataframe\">\n",
       "  <thead>\n",
       "    <tr style=\"text-align: right;\">\n",
       "      <th></th>\n",
       "      <th>countrycode</th>\n",
       "      <th>country</th>\n",
       "      <th>currency_unit</th>\n",
       "      <th>year</th>\n",
       "      <th>rgdpe</th>\n",
       "      <th>rgdpo</th>\n",
       "      <th>pop</th>\n",
       "      <th>emp</th>\n",
       "      <th>avh</th>\n",
       "      <th>hc</th>\n",
       "      <th>...</th>\n",
       "      <th>csh_x</th>\n",
       "      <th>csh_m</th>\n",
       "      <th>csh_r</th>\n",
       "      <th>pl_c</th>\n",
       "      <th>pl_i</th>\n",
       "      <th>pl_g</th>\n",
       "      <th>pl_x</th>\n",
       "      <th>pl_m</th>\n",
       "      <th>pl_n</th>\n",
       "      <th>pl_k</th>\n",
       "    </tr>\n",
       "  </thead>\n",
       "  <tbody>\n",
       "    <tr>\n",
       "      <th>0</th>\n",
       "      <td>ABW</td>\n",
       "      <td>Aruba</td>\n",
       "      <td>Aruban Guilder</td>\n",
       "      <td>1950</td>\n",
       "      <td>NaN</td>\n",
       "      <td>NaN</td>\n",
       "      <td>NaN</td>\n",
       "      <td>NaN</td>\n",
       "      <td>NaN</td>\n",
       "      <td>NaN</td>\n",
       "      <td>...</td>\n",
       "      <td>NaN</td>\n",
       "      <td>NaN</td>\n",
       "      <td>NaN</td>\n",
       "      <td>NaN</td>\n",
       "      <td>NaN</td>\n",
       "      <td>NaN</td>\n",
       "      <td>NaN</td>\n",
       "      <td>NaN</td>\n",
       "      <td>NaN</td>\n",
       "      <td>NaN</td>\n",
       "    </tr>\n",
       "    <tr>\n",
       "      <th>1</th>\n",
       "      <td>ABW</td>\n",
       "      <td>Aruba</td>\n",
       "      <td>Aruban Guilder</td>\n",
       "      <td>1951</td>\n",
       "      <td>NaN</td>\n",
       "      <td>NaN</td>\n",
       "      <td>NaN</td>\n",
       "      <td>NaN</td>\n",
       "      <td>NaN</td>\n",
       "      <td>NaN</td>\n",
       "      <td>...</td>\n",
       "      <td>NaN</td>\n",
       "      <td>NaN</td>\n",
       "      <td>NaN</td>\n",
       "      <td>NaN</td>\n",
       "      <td>NaN</td>\n",
       "      <td>NaN</td>\n",
       "      <td>NaN</td>\n",
       "      <td>NaN</td>\n",
       "      <td>NaN</td>\n",
       "      <td>NaN</td>\n",
       "    </tr>\n",
       "    <tr>\n",
       "      <th>2</th>\n",
       "      <td>ABW</td>\n",
       "      <td>Aruba</td>\n",
       "      <td>Aruban Guilder</td>\n",
       "      <td>1952</td>\n",
       "      <td>NaN</td>\n",
       "      <td>NaN</td>\n",
       "      <td>NaN</td>\n",
       "      <td>NaN</td>\n",
       "      <td>NaN</td>\n",
       "      <td>NaN</td>\n",
       "      <td>...</td>\n",
       "      <td>NaN</td>\n",
       "      <td>NaN</td>\n",
       "      <td>NaN</td>\n",
       "      <td>NaN</td>\n",
       "      <td>NaN</td>\n",
       "      <td>NaN</td>\n",
       "      <td>NaN</td>\n",
       "      <td>NaN</td>\n",
       "      <td>NaN</td>\n",
       "      <td>NaN</td>\n",
       "    </tr>\n",
       "    <tr>\n",
       "      <th>3</th>\n",
       "      <td>ABW</td>\n",
       "      <td>Aruba</td>\n",
       "      <td>Aruban Guilder</td>\n",
       "      <td>1953</td>\n",
       "      <td>NaN</td>\n",
       "      <td>NaN</td>\n",
       "      <td>NaN</td>\n",
       "      <td>NaN</td>\n",
       "      <td>NaN</td>\n",
       "      <td>NaN</td>\n",
       "      <td>...</td>\n",
       "      <td>NaN</td>\n",
       "      <td>NaN</td>\n",
       "      <td>NaN</td>\n",
       "      <td>NaN</td>\n",
       "      <td>NaN</td>\n",
       "      <td>NaN</td>\n",
       "      <td>NaN</td>\n",
       "      <td>NaN</td>\n",
       "      <td>NaN</td>\n",
       "      <td>NaN</td>\n",
       "    </tr>\n",
       "    <tr>\n",
       "      <th>4</th>\n",
       "      <td>ABW</td>\n",
       "      <td>Aruba</td>\n",
       "      <td>Aruban Guilder</td>\n",
       "      <td>1954</td>\n",
       "      <td>NaN</td>\n",
       "      <td>NaN</td>\n",
       "      <td>NaN</td>\n",
       "      <td>NaN</td>\n",
       "      <td>NaN</td>\n",
       "      <td>NaN</td>\n",
       "      <td>...</td>\n",
       "      <td>NaN</td>\n",
       "      <td>NaN</td>\n",
       "      <td>NaN</td>\n",
       "      <td>NaN</td>\n",
       "      <td>NaN</td>\n",
       "      <td>NaN</td>\n",
       "      <td>NaN</td>\n",
       "      <td>NaN</td>\n",
       "      <td>NaN</td>\n",
       "      <td>NaN</td>\n",
       "    </tr>\n",
       "    <tr>\n",
       "      <th>...</th>\n",
       "      <td>...</td>\n",
       "      <td>...</td>\n",
       "      <td>...</td>\n",
       "      <td>...</td>\n",
       "      <td>...</td>\n",
       "      <td>...</td>\n",
       "      <td>...</td>\n",
       "      <td>...</td>\n",
       "      <td>...</td>\n",
       "      <td>...</td>\n",
       "      <td>...</td>\n",
       "      <td>...</td>\n",
       "      <td>...</td>\n",
       "      <td>...</td>\n",
       "      <td>...</td>\n",
       "      <td>...</td>\n",
       "      <td>...</td>\n",
       "      <td>...</td>\n",
       "      <td>...</td>\n",
       "      <td>...</td>\n",
       "      <td>...</td>\n",
       "    </tr>\n",
       "    <tr>\n",
       "      <th>12805</th>\n",
       "      <td>ZWE</td>\n",
       "      <td>Zimbabwe</td>\n",
       "      <td>US Dollar</td>\n",
       "      <td>2015</td>\n",
       "      <td>40141.617188</td>\n",
       "      <td>39798.644531</td>\n",
       "      <td>13.814629</td>\n",
       "      <td>6.393752</td>\n",
       "      <td>NaN</td>\n",
       "      <td>2.584653</td>\n",
       "      <td>...</td>\n",
       "      <td>0.140172</td>\n",
       "      <td>-0.287693</td>\n",
       "      <td>-0.051930</td>\n",
       "      <td>0.479228</td>\n",
       "      <td>0.651287</td>\n",
       "      <td>0.541446</td>\n",
       "      <td>0.616689</td>\n",
       "      <td>0.533235</td>\n",
       "      <td>0.422764</td>\n",
       "      <td>1.533909</td>\n",
       "    </tr>\n",
       "    <tr>\n",
       "      <th>12806</th>\n",
       "      <td>ZWE</td>\n",
       "      <td>Zimbabwe</td>\n",
       "      <td>US Dollar</td>\n",
       "      <td>2016</td>\n",
       "      <td>41875.203125</td>\n",
       "      <td>40963.191406</td>\n",
       "      <td>14.030331</td>\n",
       "      <td>6.504374</td>\n",
       "      <td>NaN</td>\n",
       "      <td>2.616257</td>\n",
       "      <td>...</td>\n",
       "      <td>0.131920</td>\n",
       "      <td>-0.251232</td>\n",
       "      <td>-0.016258</td>\n",
       "      <td>0.470640</td>\n",
       "      <td>0.651027</td>\n",
       "      <td>0.539631</td>\n",
       "      <td>0.619789</td>\n",
       "      <td>0.519718</td>\n",
       "      <td>0.416510</td>\n",
       "      <td>1.491724</td>\n",
       "    </tr>\n",
       "    <tr>\n",
       "      <th>12807</th>\n",
       "      <td>ZWE</td>\n",
       "      <td>Zimbabwe</td>\n",
       "      <td>US Dollar</td>\n",
       "      <td>2017</td>\n",
       "      <td>44672.175781</td>\n",
       "      <td>44316.742188</td>\n",
       "      <td>14.236595</td>\n",
       "      <td>6.611773</td>\n",
       "      <td>NaN</td>\n",
       "      <td>2.648248</td>\n",
       "      <td>...</td>\n",
       "      <td>0.126722</td>\n",
       "      <td>-0.202827</td>\n",
       "      <td>-0.039897</td>\n",
       "      <td>0.473560</td>\n",
       "      <td>0.639560</td>\n",
       "      <td>0.519956</td>\n",
       "      <td>0.619739</td>\n",
       "      <td>0.552042</td>\n",
       "      <td>0.415592</td>\n",
       "      <td>1.514525</td>\n",
       "    </tr>\n",
       "    <tr>\n",
       "      <th>12808</th>\n",
       "      <td>ZWE</td>\n",
       "      <td>Zimbabwe</td>\n",
       "      <td>US Dollar</td>\n",
       "      <td>2018</td>\n",
       "      <td>44325.109375</td>\n",
       "      <td>43420.898438</td>\n",
       "      <td>14.438802</td>\n",
       "      <td>6.714952</td>\n",
       "      <td>NaN</td>\n",
       "      <td>2.680630</td>\n",
       "      <td>...</td>\n",
       "      <td>0.144485</td>\n",
       "      <td>-0.263658</td>\n",
       "      <td>-0.020791</td>\n",
       "      <td>0.543757</td>\n",
       "      <td>0.655473</td>\n",
       "      <td>0.529867</td>\n",
       "      <td>0.641361</td>\n",
       "      <td>0.561526</td>\n",
       "      <td>0.425143</td>\n",
       "      <td>1.590120</td>\n",
       "    </tr>\n",
       "    <tr>\n",
       "      <th>12809</th>\n",
       "      <td>ZWE</td>\n",
       "      <td>Zimbabwe</td>\n",
       "      <td>US Dollar</td>\n",
       "      <td>2019</td>\n",
       "      <td>42296.062500</td>\n",
       "      <td>40826.570312</td>\n",
       "      <td>14.645468</td>\n",
       "      <td>6.831017</td>\n",
       "      <td>NaN</td>\n",
       "      <td>2.713408</td>\n",
       "      <td>...</td>\n",
       "      <td>0.213562</td>\n",
       "      <td>-0.270959</td>\n",
       "      <td>-0.089798</td>\n",
       "      <td>0.494755</td>\n",
       "      <td>0.652439</td>\n",
       "      <td>0.500927</td>\n",
       "      <td>0.487763</td>\n",
       "      <td>0.430082</td>\n",
       "      <td>0.420675</td>\n",
       "      <td>1.384068</td>\n",
       "    </tr>\n",
       "  </tbody>\n",
       "</table>\n",
       "<p>12810 rows × 52 columns</p>\n",
       "</div>"
      ],
      "text/plain": [
       "      countrycode   country   currency_unit  year         rgdpe         rgdpo  \\\n",
       "0             ABW     Aruba  Aruban Guilder  1950           NaN           NaN   \n",
       "1             ABW     Aruba  Aruban Guilder  1951           NaN           NaN   \n",
       "2             ABW     Aruba  Aruban Guilder  1952           NaN           NaN   \n",
       "3             ABW     Aruba  Aruban Guilder  1953           NaN           NaN   \n",
       "4             ABW     Aruba  Aruban Guilder  1954           NaN           NaN   \n",
       "...           ...       ...             ...   ...           ...           ...   \n",
       "12805         ZWE  Zimbabwe       US Dollar  2015  40141.617188  39798.644531   \n",
       "12806         ZWE  Zimbabwe       US Dollar  2016  41875.203125  40963.191406   \n",
       "12807         ZWE  Zimbabwe       US Dollar  2017  44672.175781  44316.742188   \n",
       "12808         ZWE  Zimbabwe       US Dollar  2018  44325.109375  43420.898438   \n",
       "12809         ZWE  Zimbabwe       US Dollar  2019  42296.062500  40826.570312   \n",
       "\n",
       "             pop       emp  avh        hc  ...     csh_x     csh_m     csh_r  \\\n",
       "0            NaN       NaN  NaN       NaN  ...       NaN       NaN       NaN   \n",
       "1            NaN       NaN  NaN       NaN  ...       NaN       NaN       NaN   \n",
       "2            NaN       NaN  NaN       NaN  ...       NaN       NaN       NaN   \n",
       "3            NaN       NaN  NaN       NaN  ...       NaN       NaN       NaN   \n",
       "4            NaN       NaN  NaN       NaN  ...       NaN       NaN       NaN   \n",
       "...          ...       ...  ...       ...  ...       ...       ...       ...   \n",
       "12805  13.814629  6.393752  NaN  2.584653  ...  0.140172 -0.287693 -0.051930   \n",
       "12806  14.030331  6.504374  NaN  2.616257  ...  0.131920 -0.251232 -0.016258   \n",
       "12807  14.236595  6.611773  NaN  2.648248  ...  0.126722 -0.202827 -0.039897   \n",
       "12808  14.438802  6.714952  NaN  2.680630  ...  0.144485 -0.263658 -0.020791   \n",
       "12809  14.645468  6.831017  NaN  2.713408  ...  0.213562 -0.270959 -0.089798   \n",
       "\n",
       "           pl_c      pl_i      pl_g      pl_x      pl_m      pl_n      pl_k  \n",
       "0           NaN       NaN       NaN       NaN       NaN       NaN       NaN  \n",
       "1           NaN       NaN       NaN       NaN       NaN       NaN       NaN  \n",
       "2           NaN       NaN       NaN       NaN       NaN       NaN       NaN  \n",
       "3           NaN       NaN       NaN       NaN       NaN       NaN       NaN  \n",
       "4           NaN       NaN       NaN       NaN       NaN       NaN       NaN  \n",
       "...         ...       ...       ...       ...       ...       ...       ...  \n",
       "12805  0.479228  0.651287  0.541446  0.616689  0.533235  0.422764  1.533909  \n",
       "12806  0.470640  0.651027  0.539631  0.619789  0.519718  0.416510  1.491724  \n",
       "12807  0.473560  0.639560  0.519956  0.619739  0.552042  0.415592  1.514525  \n",
       "12808  0.543757  0.655473  0.529867  0.641361  0.561526  0.425143  1.590120  \n",
       "12809  0.494755  0.652439  0.500927  0.487763  0.430082  0.420675  1.384068  \n",
       "\n",
       "[12810 rows x 52 columns]"
      ]
     },
     "execution_count": 3,
     "metadata": {},
     "output_type": "execute_result"
    }
   ],
   "source": [
    "data"
   ]
  },
  {
   "cell_type": "markdown",
   "metadata": {},
   "source": [
    "Which variables are in the dataset?"
   ]
  },
  {
   "cell_type": "code",
   "execution_count": 4,
   "metadata": {},
   "outputs": [
    {
     "data": {
      "text/plain": [
       "Index(['countrycode', 'country', 'currency_unit', 'year', 'rgdpe', 'rgdpo',\n",
       "       'pop', 'emp', 'avh', 'hc', 'ccon', 'cda', 'cgdpe', 'cgdpo', 'cn', 'ck',\n",
       "       'ctfp', 'cwtfp', 'rgdpna', 'rconna', 'rdana', 'rnna', 'rkna', 'rtfpna',\n",
       "       'rwtfpna', 'labsh', 'irr', 'delta', 'xr', 'pl_con', 'pl_da', 'pl_gdpo',\n",
       "       'i_cig', 'i_xm', 'i_xr', 'i_outlier', 'i_irr', 'cor_exp', 'statcap',\n",
       "       'csh_c', 'csh_i', 'csh_g', 'csh_x', 'csh_m', 'csh_r', 'pl_c', 'pl_i',\n",
       "       'pl_g', 'pl_x', 'pl_m', 'pl_n', 'pl_k'],\n",
       "      dtype='object')"
      ]
     },
     "execution_count": 4,
     "metadata": {},
     "output_type": "execute_result"
    }
   ],
   "source": [
    "data.columns"
   ]
  },
  {
   "cell_type": "markdown",
   "metadata": {},
   "source": [
    "What do these variables mean? Let's go to the Excel file and investigate.\n",
    "\n",
    "We are interested in constructing \"real GDP per capita\". How should we do that? Hmm, it seems like we have a couple of choices. Sigh. Let's go to the documentation...\n",
    "\n",
    "Furthermore, what does Jones do? He is not necessarily right but it is always nice to compare, and since we are trying to replicate his figures... Let's go to his website and see if we can find some further details on what exactly he did...\n",
    "\n",
    "We are in luck, he posted a replication package!\n",
    "\n",
    "### Constructing real GDP per capita for the years 1960 an 2015"
   ]
  },
  {
   "cell_type": "code",
   "execution_count": 5,
   "metadata": {},
   "outputs": [],
   "source": [
    "data['rgdpc'] = data['rgdpo']/data['pop']\n",
    "\n",
    "data1960 = data[data['year']==1960].copy()\n",
    "data2015 = data[data['year']==2015].copy()"
   ]
  },
  {
   "cell_type": "markdown",
   "metadata": {},
   "source": [
    "In addition, we also want to show real GDP per capita relative to the US:"
   ]
  },
  {
   "cell_type": "code",
   "execution_count": 6,
   "metadata": {},
   "outputs": [],
   "source": [
    "data1960.index = data1960.country\n",
    "data1960['rgdpc1960'] = data1960['rgdpc']\n",
    "data1960['rgdpc1960_rel_us'] = data1960['rgdpc']/data1960['rgdpc'].loc['United States']\n",
    "data1960['pop1960'] = data1960['pop']\n",
    "\n",
    "data2015.index = data2015.country\n",
    "data2015['rgdpc2015'] = data2015['rgdpc']\n",
    "data2015['rgdpc2015_rel_us'] = data2015['rgdpc']/data2015['rgdpc'].loc['United States']\n"
   ]
  },
  {
   "cell_type": "markdown",
   "metadata": {},
   "source": [
    "Finally, we put 1960 and 2015 together in one dataset, and we compute the growth rate in the period.\n",
    "\n",
    "We also introduce a restriction to only show countries with more than 1 million inhabitants in 1960 (arbitrary)."
   ]
  },
  {
   "cell_type": "code",
   "execution_count": 7,
   "metadata": {},
   "outputs": [
    {
     "name": "stderr",
     "output_type": "stream",
     "text": [
      "/Users/kalle/opt/anaconda3/lib/python3.8/site-packages/pandas/core/arraylike.py:397: RuntimeWarning: invalid value encountered in log\n",
      "  result = getattr(ufunc, method)(*inputs, **kwargs)\n"
     ]
    }
   ],
   "source": [
    "data_for_plot = pd.concat([data1960[['rgdpc1960','rgdpc1960_rel_us', 'pop1960']], \n",
    "                       data2015[['rgdpc2015','rgdpc2015_rel_us']]], \n",
    "                       axis = 1)\n",
    "data_for_plot['rgdpc_growth'] = (np.log(data_for_plot['rgdpc2015'])-np.log(data_for_plot['rgdpc1960']))/(2015-1960)\n",
    "\n",
    "restriction = data_for_plot['pop1960']> 1.0"
   ]
  },
  {
   "cell_type": "markdown",
   "metadata": {},
   "source": [
    "## Replicating Figure 24"
   ]
  },
  {
   "cell_type": "code",
   "execution_count": 8,
   "metadata": {},
   "outputs": [
    {
     "data": {
      "application/vnd.plotly.v1+json": {
       "config": {
        "plotlyServerURL": "https://plot.ly"
       },
       "data": [
        {
         "hovertemplate": "rgdpc1960_rel_us=%{x}<br>rgdpc2015_rel_us=%{y}<br>text=%{text}<extra></extra>",
         "legendgroup": "",
         "marker": {
          "color": "#636efa",
          "symbol": "circle"
         },
         "mode": "text",
         "name": "",
         "orientation": "v",
         "showlegend": false,
         "text": [
          "Argentina",
          "Australia",
          "Austria",
          "Burundi",
          "Belgium",
          "Benin",
          "Burkina Faso",
          "Bangladesh",
          "Bolivia (Plurinational State of)",
          "Brazil",
          "Central African Republic",
          "Canada",
          "Switzerland",
          "Chile",
          "China",
          "Côte d'Ivoire",
          "Cameroon",
          "D.R. of the Congo",
          "Congo",
          "Colombia",
          "Costa Rica",
          "Germany",
          "Denmark",
          "Dominican Republic",
          "Algeria",
          "Ecuador",
          "Egypt",
          "Spain",
          "Ethiopia",
          "Finland",
          "France",
          "United Kingdom",
          "Ghana",
          "Guinea",
          "Greece",
          "Guatemala",
          "China, Hong Kong SAR",
          "Honduras",
          "Haiti",
          "Indonesia",
          "India",
          "Ireland",
          "Iran (Islamic Republic of)",
          "Israel",
          "Italy",
          "Jamaica",
          "Japan",
          "Kenya",
          "Republic of Korea",
          "Sri Lanka",
          "Morocco",
          "Madagascar",
          "Mexico",
          "Mali",
          "Mozambique",
          "Malawi",
          "Malaysia",
          "Niger",
          "Nigeria",
          "Nicaragua",
          "Netherlands",
          "Norway",
          "Nepal",
          "New Zealand",
          "Pakistan",
          "Panama",
          "Peru",
          "Philippines",
          "Portugal",
          "Paraguay",
          "Romania",
          "Rwanda",
          "Senegal",
          "Singapore",
          "El Salvador",
          "Sweden",
          "Syrian Arab Republic",
          "Chad",
          "Togo",
          "Thailand",
          "Tunisia",
          "Turkey",
          "Taiwan",
          "U.R. of Tanzania: Mainland",
          "Uganda",
          "Uruguay",
          "United States",
          "Venezuela (Bolivarian Republic of)",
          "South Africa",
          "Zambia",
          "Zimbabwe"
         ],
         "type": "scatter",
         "x": [
          0.168344379112127,
          0.8280800796398332,
          0.5352819453145763,
          0.03957080576252299,
          0.5570409850630907,
          0.0932944632730607,
          0.051231212524495716,
          0.08193355823011064,
          0.10265929562643467,
          0.12247946301496555,
          0.08125178799609258,
          0.806832102025707,
          1.2185370153894615,
          0.27139893960179484,
          0.05210689042148218,
          0.09360678614802928,
          0.08231869544446975,
          0.156388186581503,
          0.10783810775440521,
          0.20312672619181874,
          0.2717758489772417,
          0.5848590745345899,
          0.7111701776439209,
          0.16950739619670732,
          0.5678869721161723,
          0.2287433488951904,
          0.04019669855721004,
          0.3337665465599171,
          0.02811508619657404,
          0.5212506325738926,
          0.5835902152049627,
          0.6959180270570614,
          0.23777706059937098,
          0.17902655803936068,
          0.28730314734403695,
          0.12457845633279585,
          0.3147156158351567,
          0.11755095596305047,
          0.07753285606133278,
          0.07274255089652854,
          0.06122122806853601,
          0.35101211546384553,
          0.21237738574311732,
          0.48733303708645603,
          0.39743428321219343,
          0.2894775616919283,
          0.28688484051794627,
          0.0911447111096489,
          0.06583223901452508,
          0.15566337752906706,
          0.07332047847632064,
          0.08434059058440023,
          0.3499399955913373,
          0.04070320413461072,
          0.03455035086409294,
          0.04713755320658892,
          0.14100996559833356,
          0.10526230285467429,
          0.10491728932541598,
          0.2542882731250008,
          0.6872883368961127,
          0.6524747722690727,
          0.03992949946069027,
          0.7525456374413085,
          0.06860117254713805,
          0.15137456350960485,
          0.15217024620470654,
          0.10608285815033755,
          0.23986638945964034,
          0.12294060756200603,
          0.07951709189563358,
          0.054492503417167444,
          0.15032518121538851,
          0.14489516284295267,
          0.03904961072556899,
          0.7060070579342553,
          0.13617622671378102,
          0.07559190370114345,
          0.06489857581507233,
          0.06319369787894283,
          0.09811006708609675,
          0.26892010698704916,
          0.13661961312236967,
          0.06087512720413736,
          0.04549247780493585,
          0.3915286207316848,
          1,
          0.40091448173643524,
          0.35498997689770906,
          0.0963403894718403,
          0.1283059630911699
         ],
         "xaxis": "x",
         "y": [
          0.3620857328445397,
          0.8320674934848601,
          0.8475519272647183,
          0.01457790713638608,
          0.7326400277962721,
          0.05248219034731223,
          0.029321950763736202,
          0.06345362166778454,
          0.12531312819201904,
          0.2575446087058457,
          0.014905202798253806,
          0.8018901913774916,
          1.2205084327028328,
          0.39653628920047845,
          0.21837476247328597,
          0.07758159154311858,
          0.05752202038895363,
          0.016138270613130064,
          0.08032829816468115,
          0.23566797509383494,
          0.27900186039023184,
          0.821005275879403,
          0.8112405085778074,
          0.2589806728129494,
          0.2137213219248767,
          0.19395644748273652,
          0.21559302300764543,
          0.6110791025266711,
          0.030038583834927,
          0.7116158257069155,
          0.7003062703285817,
          0.7281626571385442,
          0.09146424430352744,
          0.03563563131174063,
          0.4497631640236768,
          0.1321743840501848,
          0.8811953695600258,
          0.08500484706761208,
          0.032678065864848144,
          0.17503904327045458,
          0.09624356395336904,
          1.298012378234648,
          0.23056061220474233,
          0.6368137992663959,
          0.6319270458810573,
          0.13816873143789687,
          0.6879357251869606,
          0.06043753458866542,
          0.6533446554605623,
          0.20574489497438878,
          0.12988865576403216,
          0.028073342149162676,
          0.31631811533169973,
          0.03394093799698732,
          0.022957212624295332,
          0.019200246458531325,
          0.397254993819287,
          0.02035797581454577,
          0.09525031580550536,
          0.09054390931980714,
          0.8825004527696408,
          1.208991163979638,
          0.04833751719178683,
          0.6330490886434278,
          0.07941998673213652,
          0.42338515176809405,
          0.1992063196201438,
          0.12108557317643674,
          0.48945070527080414,
          0.2003186075495494,
          0.3685033315380441,
          0.03444974237057122,
          0.05243341033152809,
          1.2871142339246693,
          0.1295544580729335,
          0.8558451721863355,
          0.09761825070768262,
          0.03318308641530009,
          0.03309793749802403,
          0.2660445488820156,
          0.18444921695690236,
          0.4400022730845377,
          0.7551022021201027,
          0.04216404465673073,
          0.03393007132809476,
          0.35090540786419183,
          1,
          0.09074959055185575,
          0.22090360434535158,
          0.055976329571166474,
          0.049209611968881725
         ],
         "yaxis": "y"
        }
       ],
       "layout": {
        "height": 600,
        "legend": {
         "tracegroupgap": 0
        },
        "margin": {
         "t": 60
        },
        "template": {
         "data": {
          "bar": [
           {
            "error_x": {
             "color": "rgb(36,36,36)"
            },
            "error_y": {
             "color": "rgb(36,36,36)"
            },
            "marker": {
             "line": {
              "color": "white",
              "width": 0.5
             },
             "pattern": {
              "fillmode": "overlay",
              "size": 10,
              "solidity": 0.2
             }
            },
            "type": "bar"
           }
          ],
          "barpolar": [
           {
            "marker": {
             "line": {
              "color": "white",
              "width": 0.5
             },
             "pattern": {
              "fillmode": "overlay",
              "size": 10,
              "solidity": 0.2
             }
            },
            "type": "barpolar"
           }
          ],
          "carpet": [
           {
            "aaxis": {
             "endlinecolor": "rgb(36,36,36)",
             "gridcolor": "white",
             "linecolor": "white",
             "minorgridcolor": "white",
             "startlinecolor": "rgb(36,36,36)"
            },
            "baxis": {
             "endlinecolor": "rgb(36,36,36)",
             "gridcolor": "white",
             "linecolor": "white",
             "minorgridcolor": "white",
             "startlinecolor": "rgb(36,36,36)"
            },
            "type": "carpet"
           }
          ],
          "choropleth": [
           {
            "colorbar": {
             "outlinewidth": 1,
             "tickcolor": "rgb(36,36,36)",
             "ticks": "outside"
            },
            "type": "choropleth"
           }
          ],
          "contour": [
           {
            "colorbar": {
             "outlinewidth": 1,
             "tickcolor": "rgb(36,36,36)",
             "ticks": "outside"
            },
            "colorscale": [
             [
              0,
              "#440154"
             ],
             [
              0.1111111111111111,
              "#482878"
             ],
             [
              0.2222222222222222,
              "#3e4989"
             ],
             [
              0.3333333333333333,
              "#31688e"
             ],
             [
              0.4444444444444444,
              "#26828e"
             ],
             [
              0.5555555555555556,
              "#1f9e89"
             ],
             [
              0.6666666666666666,
              "#35b779"
             ],
             [
              0.7777777777777778,
              "#6ece58"
             ],
             [
              0.8888888888888888,
              "#b5de2b"
             ],
             [
              1,
              "#fde725"
             ]
            ],
            "type": "contour"
           }
          ],
          "contourcarpet": [
           {
            "colorbar": {
             "outlinewidth": 1,
             "tickcolor": "rgb(36,36,36)",
             "ticks": "outside"
            },
            "type": "contourcarpet"
           }
          ],
          "heatmap": [
           {
            "colorbar": {
             "outlinewidth": 1,
             "tickcolor": "rgb(36,36,36)",
             "ticks": "outside"
            },
            "colorscale": [
             [
              0,
              "#440154"
             ],
             [
              0.1111111111111111,
              "#482878"
             ],
             [
              0.2222222222222222,
              "#3e4989"
             ],
             [
              0.3333333333333333,
              "#31688e"
             ],
             [
              0.4444444444444444,
              "#26828e"
             ],
             [
              0.5555555555555556,
              "#1f9e89"
             ],
             [
              0.6666666666666666,
              "#35b779"
             ],
             [
              0.7777777777777778,
              "#6ece58"
             ],
             [
              0.8888888888888888,
              "#b5de2b"
             ],
             [
              1,
              "#fde725"
             ]
            ],
            "type": "heatmap"
           }
          ],
          "heatmapgl": [
           {
            "colorbar": {
             "outlinewidth": 1,
             "tickcolor": "rgb(36,36,36)",
             "ticks": "outside"
            },
            "colorscale": [
             [
              0,
              "#440154"
             ],
             [
              0.1111111111111111,
              "#482878"
             ],
             [
              0.2222222222222222,
              "#3e4989"
             ],
             [
              0.3333333333333333,
              "#31688e"
             ],
             [
              0.4444444444444444,
              "#26828e"
             ],
             [
              0.5555555555555556,
              "#1f9e89"
             ],
             [
              0.6666666666666666,
              "#35b779"
             ],
             [
              0.7777777777777778,
              "#6ece58"
             ],
             [
              0.8888888888888888,
              "#b5de2b"
             ],
             [
              1,
              "#fde725"
             ]
            ],
            "type": "heatmapgl"
           }
          ],
          "histogram": [
           {
            "marker": {
             "line": {
              "color": "white",
              "width": 0.6
             }
            },
            "type": "histogram"
           }
          ],
          "histogram2d": [
           {
            "colorbar": {
             "outlinewidth": 1,
             "tickcolor": "rgb(36,36,36)",
             "ticks": "outside"
            },
            "colorscale": [
             [
              0,
              "#440154"
             ],
             [
              0.1111111111111111,
              "#482878"
             ],
             [
              0.2222222222222222,
              "#3e4989"
             ],
             [
              0.3333333333333333,
              "#31688e"
             ],
             [
              0.4444444444444444,
              "#26828e"
             ],
             [
              0.5555555555555556,
              "#1f9e89"
             ],
             [
              0.6666666666666666,
              "#35b779"
             ],
             [
              0.7777777777777778,
              "#6ece58"
             ],
             [
              0.8888888888888888,
              "#b5de2b"
             ],
             [
              1,
              "#fde725"
             ]
            ],
            "type": "histogram2d"
           }
          ],
          "histogram2dcontour": [
           {
            "colorbar": {
             "outlinewidth": 1,
             "tickcolor": "rgb(36,36,36)",
             "ticks": "outside"
            },
            "colorscale": [
             [
              0,
              "#440154"
             ],
             [
              0.1111111111111111,
              "#482878"
             ],
             [
              0.2222222222222222,
              "#3e4989"
             ],
             [
              0.3333333333333333,
              "#31688e"
             ],
             [
              0.4444444444444444,
              "#26828e"
             ],
             [
              0.5555555555555556,
              "#1f9e89"
             ],
             [
              0.6666666666666666,
              "#35b779"
             ],
             [
              0.7777777777777778,
              "#6ece58"
             ],
             [
              0.8888888888888888,
              "#b5de2b"
             ],
             [
              1,
              "#fde725"
             ]
            ],
            "type": "histogram2dcontour"
           }
          ],
          "mesh3d": [
           {
            "colorbar": {
             "outlinewidth": 1,
             "tickcolor": "rgb(36,36,36)",
             "ticks": "outside"
            },
            "type": "mesh3d"
           }
          ],
          "parcoords": [
           {
            "line": {
             "colorbar": {
              "outlinewidth": 1,
              "tickcolor": "rgb(36,36,36)",
              "ticks": "outside"
             }
            },
            "type": "parcoords"
           }
          ],
          "pie": [
           {
            "automargin": true,
            "type": "pie"
           }
          ],
          "scatter": [
           {
            "fillpattern": {
             "fillmode": "overlay",
             "size": 10,
             "solidity": 0.2
            },
            "type": "scatter"
           }
          ],
          "scatter3d": [
           {
            "line": {
             "colorbar": {
              "outlinewidth": 1,
              "tickcolor": "rgb(36,36,36)",
              "ticks": "outside"
             }
            },
            "marker": {
             "colorbar": {
              "outlinewidth": 1,
              "tickcolor": "rgb(36,36,36)",
              "ticks": "outside"
             }
            },
            "type": "scatter3d"
           }
          ],
          "scattercarpet": [
           {
            "marker": {
             "colorbar": {
              "outlinewidth": 1,
              "tickcolor": "rgb(36,36,36)",
              "ticks": "outside"
             }
            },
            "type": "scattercarpet"
           }
          ],
          "scattergeo": [
           {
            "marker": {
             "colorbar": {
              "outlinewidth": 1,
              "tickcolor": "rgb(36,36,36)",
              "ticks": "outside"
             }
            },
            "type": "scattergeo"
           }
          ],
          "scattergl": [
           {
            "marker": {
             "colorbar": {
              "outlinewidth": 1,
              "tickcolor": "rgb(36,36,36)",
              "ticks": "outside"
             }
            },
            "type": "scattergl"
           }
          ],
          "scattermapbox": [
           {
            "marker": {
             "colorbar": {
              "outlinewidth": 1,
              "tickcolor": "rgb(36,36,36)",
              "ticks": "outside"
             }
            },
            "type": "scattermapbox"
           }
          ],
          "scatterpolar": [
           {
            "marker": {
             "colorbar": {
              "outlinewidth": 1,
              "tickcolor": "rgb(36,36,36)",
              "ticks": "outside"
             }
            },
            "type": "scatterpolar"
           }
          ],
          "scatterpolargl": [
           {
            "marker": {
             "colorbar": {
              "outlinewidth": 1,
              "tickcolor": "rgb(36,36,36)",
              "ticks": "outside"
             }
            },
            "type": "scatterpolargl"
           }
          ],
          "scatterternary": [
           {
            "marker": {
             "colorbar": {
              "outlinewidth": 1,
              "tickcolor": "rgb(36,36,36)",
              "ticks": "outside"
             }
            },
            "type": "scatterternary"
           }
          ],
          "surface": [
           {
            "colorbar": {
             "outlinewidth": 1,
             "tickcolor": "rgb(36,36,36)",
             "ticks": "outside"
            },
            "colorscale": [
             [
              0,
              "#440154"
             ],
             [
              0.1111111111111111,
              "#482878"
             ],
             [
              0.2222222222222222,
              "#3e4989"
             ],
             [
              0.3333333333333333,
              "#31688e"
             ],
             [
              0.4444444444444444,
              "#26828e"
             ],
             [
              0.5555555555555556,
              "#1f9e89"
             ],
             [
              0.6666666666666666,
              "#35b779"
             ],
             [
              0.7777777777777778,
              "#6ece58"
             ],
             [
              0.8888888888888888,
              "#b5de2b"
             ],
             [
              1,
              "#fde725"
             ]
            ],
            "type": "surface"
           }
          ],
          "table": [
           {
            "cells": {
             "fill": {
              "color": "rgb(237,237,237)"
             },
             "line": {
              "color": "white"
             }
            },
            "header": {
             "fill": {
              "color": "rgb(217,217,217)"
             },
             "line": {
              "color": "white"
             }
            },
            "type": "table"
           }
          ]
         },
         "layout": {
          "annotationdefaults": {
           "arrowhead": 0,
           "arrowwidth": 1
          },
          "autotypenumbers": "strict",
          "coloraxis": {
           "colorbar": {
            "outlinewidth": 1,
            "tickcolor": "rgb(36,36,36)",
            "ticks": "outside"
           }
          },
          "colorscale": {
           "diverging": [
            [
             0,
             "rgb(103,0,31)"
            ],
            [
             0.1,
             "rgb(178,24,43)"
            ],
            [
             0.2,
             "rgb(214,96,77)"
            ],
            [
             0.3,
             "rgb(244,165,130)"
            ],
            [
             0.4,
             "rgb(253,219,199)"
            ],
            [
             0.5,
             "rgb(247,247,247)"
            ],
            [
             0.6,
             "rgb(209,229,240)"
            ],
            [
             0.7,
             "rgb(146,197,222)"
            ],
            [
             0.8,
             "rgb(67,147,195)"
            ],
            [
             0.9,
             "rgb(33,102,172)"
            ],
            [
             1,
             "rgb(5,48,97)"
            ]
           ],
           "sequential": [
            [
             0,
             "#440154"
            ],
            [
             0.1111111111111111,
             "#482878"
            ],
            [
             0.2222222222222222,
             "#3e4989"
            ],
            [
             0.3333333333333333,
             "#31688e"
            ],
            [
             0.4444444444444444,
             "#26828e"
            ],
            [
             0.5555555555555556,
             "#1f9e89"
            ],
            [
             0.6666666666666666,
             "#35b779"
            ],
            [
             0.7777777777777778,
             "#6ece58"
            ],
            [
             0.8888888888888888,
             "#b5de2b"
            ],
            [
             1,
             "#fde725"
            ]
           ],
           "sequentialminus": [
            [
             0,
             "#440154"
            ],
            [
             0.1111111111111111,
             "#482878"
            ],
            [
             0.2222222222222222,
             "#3e4989"
            ],
            [
             0.3333333333333333,
             "#31688e"
            ],
            [
             0.4444444444444444,
             "#26828e"
            ],
            [
             0.5555555555555556,
             "#1f9e89"
            ],
            [
             0.6666666666666666,
             "#35b779"
            ],
            [
             0.7777777777777778,
             "#6ece58"
            ],
            [
             0.8888888888888888,
             "#b5de2b"
            ],
            [
             1,
             "#fde725"
            ]
           ]
          },
          "colorway": [
           "#1F77B4",
           "#FF7F0E",
           "#2CA02C",
           "#D62728",
           "#9467BD",
           "#8C564B",
           "#E377C2",
           "#7F7F7F",
           "#BCBD22",
           "#17BECF"
          ],
          "font": {
           "color": "rgb(36,36,36)"
          },
          "geo": {
           "bgcolor": "white",
           "lakecolor": "white",
           "landcolor": "white",
           "showlakes": true,
           "showland": true,
           "subunitcolor": "white"
          },
          "hoverlabel": {
           "align": "left"
          },
          "hovermode": "closest",
          "mapbox": {
           "style": "light"
          },
          "paper_bgcolor": "white",
          "plot_bgcolor": "white",
          "polar": {
           "angularaxis": {
            "gridcolor": "rgb(232,232,232)",
            "linecolor": "rgb(36,36,36)",
            "showgrid": false,
            "showline": true,
            "ticks": "outside"
           },
           "bgcolor": "white",
           "radialaxis": {
            "gridcolor": "rgb(232,232,232)",
            "linecolor": "rgb(36,36,36)",
            "showgrid": false,
            "showline": true,
            "ticks": "outside"
           }
          },
          "scene": {
           "xaxis": {
            "backgroundcolor": "white",
            "gridcolor": "rgb(232,232,232)",
            "gridwidth": 2,
            "linecolor": "rgb(36,36,36)",
            "showbackground": true,
            "showgrid": false,
            "showline": true,
            "ticks": "outside",
            "zeroline": false,
            "zerolinecolor": "rgb(36,36,36)"
           },
           "yaxis": {
            "backgroundcolor": "white",
            "gridcolor": "rgb(232,232,232)",
            "gridwidth": 2,
            "linecolor": "rgb(36,36,36)",
            "showbackground": true,
            "showgrid": false,
            "showline": true,
            "ticks": "outside",
            "zeroline": false,
            "zerolinecolor": "rgb(36,36,36)"
           },
           "zaxis": {
            "backgroundcolor": "white",
            "gridcolor": "rgb(232,232,232)",
            "gridwidth": 2,
            "linecolor": "rgb(36,36,36)",
            "showbackground": true,
            "showgrid": false,
            "showline": true,
            "ticks": "outside",
            "zeroline": false,
            "zerolinecolor": "rgb(36,36,36)"
           }
          },
          "shapedefaults": {
           "fillcolor": "black",
           "line": {
            "width": 0
           },
           "opacity": 0.3
          },
          "ternary": {
           "aaxis": {
            "gridcolor": "rgb(232,232,232)",
            "linecolor": "rgb(36,36,36)",
            "showgrid": false,
            "showline": true,
            "ticks": "outside"
           },
           "baxis": {
            "gridcolor": "rgb(232,232,232)",
            "linecolor": "rgb(36,36,36)",
            "showgrid": false,
            "showline": true,
            "ticks": "outside"
           },
           "bgcolor": "white",
           "caxis": {
            "gridcolor": "rgb(232,232,232)",
            "linecolor": "rgb(36,36,36)",
            "showgrid": false,
            "showline": true,
            "ticks": "outside"
           }
          },
          "title": {
           "x": 0.05
          },
          "xaxis": {
           "automargin": true,
           "gridcolor": "rgb(232,232,232)",
           "linecolor": "rgb(36,36,36)",
           "showgrid": false,
           "showline": true,
           "ticks": "outside",
           "title": {
            "standoff": 15
           },
           "zeroline": false,
           "zerolinecolor": "rgb(36,36,36)"
          },
          "yaxis": {
           "automargin": true,
           "gridcolor": "rgb(232,232,232)",
           "linecolor": "rgb(36,36,36)",
           "showgrid": false,
           "showline": true,
           "ticks": "outside",
           "title": {
            "standoff": 15
           },
           "zeroline": false,
           "zerolinecolor": "rgb(36,36,36)"
          }
         }
        },
        "width": 800,
        "xaxis": {
         "anchor": "y",
         "domain": [
          0,
          1
         ],
         "ticktext": [
          "1/32",
          "1/16",
          "1/8",
          "1/4",
          "1/2",
          "1"
         ],
         "tickvals": [
          0.03125,
          0.0625,
          0.125,
          0.25,
          0.5,
          1
         ],
         "title": {
          "text": "GDP per person (US = 1) in 1960"
         },
         "type": "log"
        },
        "yaxis": {
         "anchor": "x",
         "domain": [
          0,
          1
         ],
         "ticktext": [
          "1/32",
          "1/16",
          "1/8",
          "1/4",
          "1/2",
          "1"
         ],
         "tickvals": [
          0.03125,
          0.0625,
          0.125,
          0.25,
          0.5,
          1
         ],
         "title": {
          "text": "GDP per person (US = 1) in 2015"
         },
         "type": "log"
        }
       }
      }
     },
     "metadata": {},
     "output_type": "display_data"
    }
   ],
   "source": [
    "fig = px.scatter(data_for_plot[restriction], 'rgdpc1960_rel_us', 'rgdpc2015_rel_us', \n",
    "                 text = data_for_plot[restriction].index, \n",
    "                 log_x = True, log_y=True)\n",
    "\n",
    "fig.update_layout(template = 'simple_white',\n",
    "                  width = 800, height = 600,\n",
    "                  xaxis_title = 'GDP per person (US = 1) in 1960',\n",
    "                  yaxis_title = 'GDP per person (US = 1) in 2015')\n",
    "fig.update_xaxes(tickvals = [1/32, 1/16, 1/8, 1/4, 1/2, 1],\n",
    "                 ticktext = [\"1/32\", \"1/16\", \"1/8\", \"1/4\", \"1/2\", \"1\"])\n",
    "fig.update_yaxes(tickvals = [1/32, 1/16, 1/8, 1/4, 1/2, 1],\n",
    "                 ticktext = [\"1/32\", \"1/16\", \"1/8\", \"1/4\", \"1/2\", \"1\"])\n",
    "fig.update_traces(mode='text')"
   ]
  },
  {
   "cell_type": "markdown",
   "metadata": {},
   "source": [
    "Does it look identical to Jones' figure? Look at Norway!\n",
    "\n",
    "## Replicating Figure 26"
   ]
  },
  {
   "cell_type": "code",
   "execution_count": 9,
   "metadata": {},
   "outputs": [
    {
     "data": {
      "application/vnd.plotly.v1+json": {
       "config": {
        "plotlyServerURL": "https://plot.ly"
       },
       "data": [
        {
         "hovertemplate": "rgdpc1960_rel_us=%{x}<br>rgdpc_growth=%{y}<br>country=%{text}<extra></extra>",
         "legendgroup": "",
         "marker": {
          "color": "#636efa",
          "symbol": "circle"
         },
         "mode": "text",
         "name": "",
         "orientation": "v",
         "showlegend": false,
         "text": [
          "Aruba",
          "Angola",
          "Anguilla",
          "Albania",
          "United Arab Emirates",
          "Argentina",
          "Armenia",
          "Antigua and Barbuda",
          "Australia",
          "Austria",
          "Azerbaijan",
          "Burundi",
          "Belgium",
          "Benin",
          "Burkina Faso",
          "Bangladesh",
          "Bulgaria",
          "Bahrain",
          "Bahamas",
          "Bosnia and Herzegovina",
          "Belarus",
          "Belize",
          "Bermuda",
          "Bolivia (Plurinational State of)",
          "Brazil",
          "Barbados",
          "Brunei Darussalam",
          "Bhutan",
          "Botswana",
          "Central African Republic",
          "Canada",
          "Switzerland",
          "Chile",
          "China",
          "Côte d'Ivoire",
          "Cameroon",
          "D.R. of the Congo",
          "Congo",
          "Colombia",
          "Comoros",
          "Cabo Verde",
          "Costa Rica",
          "Curaçao",
          "Cayman Islands",
          "Cyprus",
          "Czech Republic",
          "Germany",
          "Djibouti",
          "Dominica",
          "Denmark",
          "Dominican Republic",
          "Algeria",
          "Ecuador",
          "Egypt",
          "Spain",
          "Estonia",
          "Ethiopia",
          "Finland",
          "Fiji",
          "France",
          "Gabon",
          "United Kingdom",
          "Georgia",
          "Ghana",
          "Guinea",
          "Gambia",
          "Guinea-Bissau",
          "Equatorial Guinea",
          "Greece",
          "Grenada",
          "Guatemala",
          "Guyana",
          "China, Hong Kong SAR",
          "Honduras",
          "Croatia",
          "Haiti",
          "Hungary",
          "Indonesia",
          "India",
          "Ireland",
          "Iran (Islamic Republic of)",
          "Iraq",
          "Iceland",
          "Israel",
          "Italy",
          "Jamaica",
          "Jordan",
          "Japan",
          "Kazakhstan",
          "Kenya",
          "Kyrgyzstan",
          "Cambodia",
          "Saint Kitts and Nevis",
          "Republic of Korea",
          "Kuwait",
          "Lao People's DR",
          "Lebanon",
          "Liberia",
          "Saint Lucia",
          "Sri Lanka",
          "Lesotho",
          "Lithuania",
          "Luxembourg",
          "Latvia",
          "China, Macao SAR",
          "Morocco",
          "Republic of Moldova",
          "Madagascar",
          "Maldives",
          "Mexico",
          "North Macedonia",
          "Mali",
          "Malta",
          "Myanmar",
          "Montenegro",
          "Mongolia",
          "Mozambique",
          "Mauritania",
          "Montserrat",
          "Mauritius",
          "Malawi",
          "Malaysia",
          "Namibia",
          "Niger",
          "Nigeria",
          "Nicaragua",
          "Netherlands",
          "Norway",
          "Nepal",
          "New Zealand",
          "Oman",
          "Pakistan",
          "Panama",
          "Peru",
          "Philippines",
          "Poland",
          "Portugal",
          "Paraguay",
          "State of Palestine",
          "Qatar",
          "Romania",
          "Russian Federation",
          "Rwanda",
          "Saudi Arabia",
          "Sudan",
          "Senegal",
          "Singapore",
          "Sierra Leone",
          "El Salvador",
          "Serbia",
          "Sao Tome and Principe",
          "Suriname",
          "Slovakia",
          "Slovenia",
          "Sweden",
          "Eswatini",
          "Sint Maarten (Dutch part)",
          "Seychelles",
          "Syrian Arab Republic",
          "Turks and Caicos Islands",
          "Chad",
          "Togo",
          "Thailand",
          "Tajikistan",
          "Turkmenistan",
          "Trinidad and Tobago",
          "Tunisia",
          "Turkey",
          "Taiwan",
          "U.R. of Tanzania: Mainland",
          "Uganda",
          "Ukraine",
          "Uruguay",
          "United States",
          "Uzbekistan",
          "St. Vincent and the Grenadines",
          "Venezuela (Bolivarian Republic of)",
          "British Virgin Islands",
          "Viet Nam",
          "Yemen",
          "South Africa",
          "Zambia",
          "Zimbabwe"
         ],
         "type": "scatter",
         "x": [
          null,
          null,
          null,
          null,
          null,
          0.168344379112127,
          null,
          null,
          0.8280800796398332,
          0.5352819453145763,
          null,
          0.03957080576252299,
          0.5570409850630907,
          0.0932944632730607,
          0.051231212524495716,
          0.08193355823011064,
          null,
          null,
          null,
          null,
          null,
          null,
          null,
          0.10265929562643467,
          0.12247946301496555,
          0.49013815792230364,
          null,
          null,
          0.026903318881095928,
          0.08125178799609258,
          0.806832102025707,
          1.2185370153894615,
          0.27139893960179484,
          0.05210689042148218,
          0.09360678614802928,
          0.08231869544446975,
          0.156388186581503,
          0.10783810775440521,
          0.20312672619181874,
          0.10708416613364309,
          0.06592122526173982,
          0.2717758489772417,
          null,
          null,
          0.22298817381193559,
          null,
          0.5848590745345899,
          null,
          null,
          0.7111701776439209,
          0.16950739619670732,
          0.5678869721161723,
          0.2287433488951904,
          0.04019669855721004,
          0.3337665465599171,
          null,
          0.02811508619657404,
          0.5212506325738926,
          0.16364207337515188,
          0.5835902152049627,
          0.20239738124379628,
          0.6959180270570614,
          null,
          0.23777706059937098,
          0.17902655803936068,
          0.14758396549720695,
          0.044865501719697394,
          0.06162293901876936,
          0.28730314734403695,
          null,
          0.12457845633279585,
          null,
          0.3147156158351567,
          0.11755095596305047,
          null,
          0.07753285606133278,
          null,
          0.07274255089652854,
          0.06122122806853601,
          0.35101211546384553,
          0.21237738574311732,
          null,
          0.6669185118183787,
          0.48733303708645603,
          0.39743428321219343,
          0.2894775616919283,
          0.15873975852407216,
          0.28688484051794627,
          null,
          0.0911447111096489,
          null,
          null,
          null,
          0.06583223901452508,
          null,
          null,
          null,
          null,
          null,
          0.15566337752906706,
          0.05353541522896452,
          null,
          0.9679210860350247,
          null,
          null,
          0.07332047847632064,
          null,
          0.08434059058440023,
          null,
          0.3499399955913373,
          null,
          0.04070320413461072,
          0.044944091248129966,
          null,
          null,
          null,
          0.03455035086409294,
          0.10577489608253528,
          null,
          0.2156226848847138,
          0.04713755320658892,
          0.14100996559833356,
          0.22035733924455936,
          0.10526230285467429,
          0.10491728932541598,
          0.2542882731250008,
          0.6872883368961127,
          0.6524747722690727,
          0.03992949946069027,
          0.7525456374413085,
          null,
          0.06860117254713805,
          0.15137456350960485,
          0.15217024620470654,
          0.10608285815033755,
          null,
          0.23986638945964034,
          0.12294060756200603,
          null,
          null,
          0.07951709189563358,
          null,
          0.054492503417167444,
          null,
          null,
          0.15032518121538851,
          0.14489516284295267,
          null,
          0.03904961072556899,
          null,
          null,
          null,
          null,
          null,
          0.7060070579342553,
          null,
          null,
          0.34360844864880496,
          0.13617622671378102,
          null,
          0.07559190370114345,
          0.06489857581507233,
          0.06319369787894283,
          null,
          null,
          0.5727614370819291,
          0.09811006708609675,
          0.26892010698704916,
          0.13661961312236967,
          0.06087512720413736,
          0.04549247780493585,
          null,
          0.3915286207316848,
          1,
          null,
          null,
          0.40091448173643524,
          null,
          null,
          null,
          0.35498997689770906,
          0.0963403894718403,
          0.1283059630911699
         ],
         "xaxis": "x",
         "y": [
          null,
          null,
          null,
          null,
          null,
          0.034309537322761326,
          null,
          null,
          0.02047198163826626,
          0.028740250812085158,
          null,
          0.0022285609001942157,
          0.025366744775885925,
          0.009924880228872288,
          0.010238958859657482,
          0.01573738023863414,
          null,
          null,
          null,
          null,
          null,
          null,
          null,
          0.024010095081028787,
          0.03389827037392697,
          0.0055490635463497475,
          null,
          null,
          0.06159723358026275,
          -0.01044885816608193,
          0.020272934186277135,
          0.020414033517061756,
          0.027278782096658107,
          0.04643765057841817,
          0.01697059252862324,
          0.013867725247165745,
          -0.020908954346717433,
          0.015029930164257702,
          0.02308634859747323,
          0.006915574059006504,
          0.029907570341636373,
          0.02086174732366569,
          null,
          null,
          0.03440666188988518,
          null,
          0.026551162008377104,
          null,
          null,
          0.022778329312222664,
          0.028091130366731547,
          0.0026164694738617295,
          0.017385241878720755,
          0.05092296192235471,
          0.03138072588149153,
          null,
          0.021587848552521972,
          0.026044772787598737,
          0.02589823840233504,
          0.02369952750916782,
          0.024939817209787146,
          0.021208143128003634,
          null,
          0.0030139982475067095,
          -0.008964233673975159,
          -0.003912112761778307,
          0.012100619775304125,
          0.05714346670975352,
          0.028533427564831435,
          null,
          0.02146075905582976,
          null,
          0.03910482237972633,
          0.014490757576134477,
          null,
          0.004675592424139568,
          null,
          0.03634977892098272,
          0.028609880082209427,
          0.04416225433807151,
          0.021878259433184315,
          null,
          0.023916432423836717,
          0.025248815547202985,
          0.028816357334968564,
          0.006937329778247562,
          0.022531097070193244,
          0.03628672405520826,
          null,
          0.012914857544604402,
          null,
          null,
          null,
          0.06211182572851558,
          null,
          null,
          null,
          null,
          null,
          0.02545629968895454,
          0.021770798094972642,
          null,
          0.02718838554652992,
          null,
          null,
          0.030781689733899643,
          null,
          0.0003838634949638572,
          null,
          0.018548036318654128,
          null,
          0.017081279566766677,
          0.06680589084868761,
          null,
          null,
          null,
          0.012952177311434858,
          0.014141522340850943,
          null,
          0.028873220987433095,
          0.004054698524412585,
          0.03921642009590422,
          0.017555788669454488,
          -0.009487769010795866,
          0.018627114642885138,
          0.0016094846674620104,
          0.02493019433044898,
          0.031598624757050525,
          0.023859053124803995,
          0.01724075673885046,
          null,
          0.023047195025094457,
          0.03908509573683506,
          0.025281753265550013,
          0.022789678861729213,
          null,
          0.033351945268398124,
          0.029261146512681677,
          null,
          null,
          0.04826605556896199,
          null,
          0.012047157703464961,
          null,
          null,
          0.0012345174967764226,
          0.06009641440561049,
          null,
          0.042189521920523276,
          null,
          null,
          null,
          null,
          null,
          0.023883991754490484,
          null,
          null,
          0.023499510559316213,
          0.014332180620870247,
          null,
          0.005415389310631126,
          0.008141828815971084,
          0.04652026340963413,
          null,
          null,
          0.017888692572870565,
          0.03186253621152401,
          0.02933674277101743,
          0.0514692342629024,
          0.013707244715676884,
          0.015052908846041145,
          null,
          0.018392970375488073,
          0.020384641724476765,
          null,
          null,
          -0.006627070652809246,
          null,
          null,
          null,
          0.01175985757802529,
          0.010512664838559664,
          0.002960482113185589
         ],
         "yaxis": "y"
        }
       ],
       "layout": {
        "height": 600,
        "legend": {
         "tracegroupgap": 0
        },
        "margin": {
         "t": 60
        },
        "template": {
         "data": {
          "bar": [
           {
            "error_x": {
             "color": "rgb(36,36,36)"
            },
            "error_y": {
             "color": "rgb(36,36,36)"
            },
            "marker": {
             "line": {
              "color": "white",
              "width": 0.5
             },
             "pattern": {
              "fillmode": "overlay",
              "size": 10,
              "solidity": 0.2
             }
            },
            "type": "bar"
           }
          ],
          "barpolar": [
           {
            "marker": {
             "line": {
              "color": "white",
              "width": 0.5
             },
             "pattern": {
              "fillmode": "overlay",
              "size": 10,
              "solidity": 0.2
             }
            },
            "type": "barpolar"
           }
          ],
          "carpet": [
           {
            "aaxis": {
             "endlinecolor": "rgb(36,36,36)",
             "gridcolor": "white",
             "linecolor": "white",
             "minorgridcolor": "white",
             "startlinecolor": "rgb(36,36,36)"
            },
            "baxis": {
             "endlinecolor": "rgb(36,36,36)",
             "gridcolor": "white",
             "linecolor": "white",
             "minorgridcolor": "white",
             "startlinecolor": "rgb(36,36,36)"
            },
            "type": "carpet"
           }
          ],
          "choropleth": [
           {
            "colorbar": {
             "outlinewidth": 1,
             "tickcolor": "rgb(36,36,36)",
             "ticks": "outside"
            },
            "type": "choropleth"
           }
          ],
          "contour": [
           {
            "colorbar": {
             "outlinewidth": 1,
             "tickcolor": "rgb(36,36,36)",
             "ticks": "outside"
            },
            "colorscale": [
             [
              0,
              "#440154"
             ],
             [
              0.1111111111111111,
              "#482878"
             ],
             [
              0.2222222222222222,
              "#3e4989"
             ],
             [
              0.3333333333333333,
              "#31688e"
             ],
             [
              0.4444444444444444,
              "#26828e"
             ],
             [
              0.5555555555555556,
              "#1f9e89"
             ],
             [
              0.6666666666666666,
              "#35b779"
             ],
             [
              0.7777777777777778,
              "#6ece58"
             ],
             [
              0.8888888888888888,
              "#b5de2b"
             ],
             [
              1,
              "#fde725"
             ]
            ],
            "type": "contour"
           }
          ],
          "contourcarpet": [
           {
            "colorbar": {
             "outlinewidth": 1,
             "tickcolor": "rgb(36,36,36)",
             "ticks": "outside"
            },
            "type": "contourcarpet"
           }
          ],
          "heatmap": [
           {
            "colorbar": {
             "outlinewidth": 1,
             "tickcolor": "rgb(36,36,36)",
             "ticks": "outside"
            },
            "colorscale": [
             [
              0,
              "#440154"
             ],
             [
              0.1111111111111111,
              "#482878"
             ],
             [
              0.2222222222222222,
              "#3e4989"
             ],
             [
              0.3333333333333333,
              "#31688e"
             ],
             [
              0.4444444444444444,
              "#26828e"
             ],
             [
              0.5555555555555556,
              "#1f9e89"
             ],
             [
              0.6666666666666666,
              "#35b779"
             ],
             [
              0.7777777777777778,
              "#6ece58"
             ],
             [
              0.8888888888888888,
              "#b5de2b"
             ],
             [
              1,
              "#fde725"
             ]
            ],
            "type": "heatmap"
           }
          ],
          "heatmapgl": [
           {
            "colorbar": {
             "outlinewidth": 1,
             "tickcolor": "rgb(36,36,36)",
             "ticks": "outside"
            },
            "colorscale": [
             [
              0,
              "#440154"
             ],
             [
              0.1111111111111111,
              "#482878"
             ],
             [
              0.2222222222222222,
              "#3e4989"
             ],
             [
              0.3333333333333333,
              "#31688e"
             ],
             [
              0.4444444444444444,
              "#26828e"
             ],
             [
              0.5555555555555556,
              "#1f9e89"
             ],
             [
              0.6666666666666666,
              "#35b779"
             ],
             [
              0.7777777777777778,
              "#6ece58"
             ],
             [
              0.8888888888888888,
              "#b5de2b"
             ],
             [
              1,
              "#fde725"
             ]
            ],
            "type": "heatmapgl"
           }
          ],
          "histogram": [
           {
            "marker": {
             "line": {
              "color": "white",
              "width": 0.6
             }
            },
            "type": "histogram"
           }
          ],
          "histogram2d": [
           {
            "colorbar": {
             "outlinewidth": 1,
             "tickcolor": "rgb(36,36,36)",
             "ticks": "outside"
            },
            "colorscale": [
             [
              0,
              "#440154"
             ],
             [
              0.1111111111111111,
              "#482878"
             ],
             [
              0.2222222222222222,
              "#3e4989"
             ],
             [
              0.3333333333333333,
              "#31688e"
             ],
             [
              0.4444444444444444,
              "#26828e"
             ],
             [
              0.5555555555555556,
              "#1f9e89"
             ],
             [
              0.6666666666666666,
              "#35b779"
             ],
             [
              0.7777777777777778,
              "#6ece58"
             ],
             [
              0.8888888888888888,
              "#b5de2b"
             ],
             [
              1,
              "#fde725"
             ]
            ],
            "type": "histogram2d"
           }
          ],
          "histogram2dcontour": [
           {
            "colorbar": {
             "outlinewidth": 1,
             "tickcolor": "rgb(36,36,36)",
             "ticks": "outside"
            },
            "colorscale": [
             [
              0,
              "#440154"
             ],
             [
              0.1111111111111111,
              "#482878"
             ],
             [
              0.2222222222222222,
              "#3e4989"
             ],
             [
              0.3333333333333333,
              "#31688e"
             ],
             [
              0.4444444444444444,
              "#26828e"
             ],
             [
              0.5555555555555556,
              "#1f9e89"
             ],
             [
              0.6666666666666666,
              "#35b779"
             ],
             [
              0.7777777777777778,
              "#6ece58"
             ],
             [
              0.8888888888888888,
              "#b5de2b"
             ],
             [
              1,
              "#fde725"
             ]
            ],
            "type": "histogram2dcontour"
           }
          ],
          "mesh3d": [
           {
            "colorbar": {
             "outlinewidth": 1,
             "tickcolor": "rgb(36,36,36)",
             "ticks": "outside"
            },
            "type": "mesh3d"
           }
          ],
          "parcoords": [
           {
            "line": {
             "colorbar": {
              "outlinewidth": 1,
              "tickcolor": "rgb(36,36,36)",
              "ticks": "outside"
             }
            },
            "type": "parcoords"
           }
          ],
          "pie": [
           {
            "automargin": true,
            "type": "pie"
           }
          ],
          "scatter": [
           {
            "fillpattern": {
             "fillmode": "overlay",
             "size": 10,
             "solidity": 0.2
            },
            "type": "scatter"
           }
          ],
          "scatter3d": [
           {
            "line": {
             "colorbar": {
              "outlinewidth": 1,
              "tickcolor": "rgb(36,36,36)",
              "ticks": "outside"
             }
            },
            "marker": {
             "colorbar": {
              "outlinewidth": 1,
              "tickcolor": "rgb(36,36,36)",
              "ticks": "outside"
             }
            },
            "type": "scatter3d"
           }
          ],
          "scattercarpet": [
           {
            "marker": {
             "colorbar": {
              "outlinewidth": 1,
              "tickcolor": "rgb(36,36,36)",
              "ticks": "outside"
             }
            },
            "type": "scattercarpet"
           }
          ],
          "scattergeo": [
           {
            "marker": {
             "colorbar": {
              "outlinewidth": 1,
              "tickcolor": "rgb(36,36,36)",
              "ticks": "outside"
             }
            },
            "type": "scattergeo"
           }
          ],
          "scattergl": [
           {
            "marker": {
             "colorbar": {
              "outlinewidth": 1,
              "tickcolor": "rgb(36,36,36)",
              "ticks": "outside"
             }
            },
            "type": "scattergl"
           }
          ],
          "scattermapbox": [
           {
            "marker": {
             "colorbar": {
              "outlinewidth": 1,
              "tickcolor": "rgb(36,36,36)",
              "ticks": "outside"
             }
            },
            "type": "scattermapbox"
           }
          ],
          "scatterpolar": [
           {
            "marker": {
             "colorbar": {
              "outlinewidth": 1,
              "tickcolor": "rgb(36,36,36)",
              "ticks": "outside"
             }
            },
            "type": "scatterpolar"
           }
          ],
          "scatterpolargl": [
           {
            "marker": {
             "colorbar": {
              "outlinewidth": 1,
              "tickcolor": "rgb(36,36,36)",
              "ticks": "outside"
             }
            },
            "type": "scatterpolargl"
           }
          ],
          "scatterternary": [
           {
            "marker": {
             "colorbar": {
              "outlinewidth": 1,
              "tickcolor": "rgb(36,36,36)",
              "ticks": "outside"
             }
            },
            "type": "scatterternary"
           }
          ],
          "surface": [
           {
            "colorbar": {
             "outlinewidth": 1,
             "tickcolor": "rgb(36,36,36)",
             "ticks": "outside"
            },
            "colorscale": [
             [
              0,
              "#440154"
             ],
             [
              0.1111111111111111,
              "#482878"
             ],
             [
              0.2222222222222222,
              "#3e4989"
             ],
             [
              0.3333333333333333,
              "#31688e"
             ],
             [
              0.4444444444444444,
              "#26828e"
             ],
             [
              0.5555555555555556,
              "#1f9e89"
             ],
             [
              0.6666666666666666,
              "#35b779"
             ],
             [
              0.7777777777777778,
              "#6ece58"
             ],
             [
              0.8888888888888888,
              "#b5de2b"
             ],
             [
              1,
              "#fde725"
             ]
            ],
            "type": "surface"
           }
          ],
          "table": [
           {
            "cells": {
             "fill": {
              "color": "rgb(237,237,237)"
             },
             "line": {
              "color": "white"
             }
            },
            "header": {
             "fill": {
              "color": "rgb(217,217,217)"
             },
             "line": {
              "color": "white"
             }
            },
            "type": "table"
           }
          ]
         },
         "layout": {
          "annotationdefaults": {
           "arrowhead": 0,
           "arrowwidth": 1
          },
          "autotypenumbers": "strict",
          "coloraxis": {
           "colorbar": {
            "outlinewidth": 1,
            "tickcolor": "rgb(36,36,36)",
            "ticks": "outside"
           }
          },
          "colorscale": {
           "diverging": [
            [
             0,
             "rgb(103,0,31)"
            ],
            [
             0.1,
             "rgb(178,24,43)"
            ],
            [
             0.2,
             "rgb(214,96,77)"
            ],
            [
             0.3,
             "rgb(244,165,130)"
            ],
            [
             0.4,
             "rgb(253,219,199)"
            ],
            [
             0.5,
             "rgb(247,247,247)"
            ],
            [
             0.6,
             "rgb(209,229,240)"
            ],
            [
             0.7,
             "rgb(146,197,222)"
            ],
            [
             0.8,
             "rgb(67,147,195)"
            ],
            [
             0.9,
             "rgb(33,102,172)"
            ],
            [
             1,
             "rgb(5,48,97)"
            ]
           ],
           "sequential": [
            [
             0,
             "#440154"
            ],
            [
             0.1111111111111111,
             "#482878"
            ],
            [
             0.2222222222222222,
             "#3e4989"
            ],
            [
             0.3333333333333333,
             "#31688e"
            ],
            [
             0.4444444444444444,
             "#26828e"
            ],
            [
             0.5555555555555556,
             "#1f9e89"
            ],
            [
             0.6666666666666666,
             "#35b779"
            ],
            [
             0.7777777777777778,
             "#6ece58"
            ],
            [
             0.8888888888888888,
             "#b5de2b"
            ],
            [
             1,
             "#fde725"
            ]
           ],
           "sequentialminus": [
            [
             0,
             "#440154"
            ],
            [
             0.1111111111111111,
             "#482878"
            ],
            [
             0.2222222222222222,
             "#3e4989"
            ],
            [
             0.3333333333333333,
             "#31688e"
            ],
            [
             0.4444444444444444,
             "#26828e"
            ],
            [
             0.5555555555555556,
             "#1f9e89"
            ],
            [
             0.6666666666666666,
             "#35b779"
            ],
            [
             0.7777777777777778,
             "#6ece58"
            ],
            [
             0.8888888888888888,
             "#b5de2b"
            ],
            [
             1,
             "#fde725"
            ]
           ]
          },
          "colorway": [
           "#1F77B4",
           "#FF7F0E",
           "#2CA02C",
           "#D62728",
           "#9467BD",
           "#8C564B",
           "#E377C2",
           "#7F7F7F",
           "#BCBD22",
           "#17BECF"
          ],
          "font": {
           "color": "rgb(36,36,36)"
          },
          "geo": {
           "bgcolor": "white",
           "lakecolor": "white",
           "landcolor": "white",
           "showlakes": true,
           "showland": true,
           "subunitcolor": "white"
          },
          "hoverlabel": {
           "align": "left"
          },
          "hovermode": "closest",
          "mapbox": {
           "style": "light"
          },
          "paper_bgcolor": "white",
          "plot_bgcolor": "white",
          "polar": {
           "angularaxis": {
            "gridcolor": "rgb(232,232,232)",
            "linecolor": "rgb(36,36,36)",
            "showgrid": false,
            "showline": true,
            "ticks": "outside"
           },
           "bgcolor": "white",
           "radialaxis": {
            "gridcolor": "rgb(232,232,232)",
            "linecolor": "rgb(36,36,36)",
            "showgrid": false,
            "showline": true,
            "ticks": "outside"
           }
          },
          "scene": {
           "xaxis": {
            "backgroundcolor": "white",
            "gridcolor": "rgb(232,232,232)",
            "gridwidth": 2,
            "linecolor": "rgb(36,36,36)",
            "showbackground": true,
            "showgrid": false,
            "showline": true,
            "ticks": "outside",
            "zeroline": false,
            "zerolinecolor": "rgb(36,36,36)"
           },
           "yaxis": {
            "backgroundcolor": "white",
            "gridcolor": "rgb(232,232,232)",
            "gridwidth": 2,
            "linecolor": "rgb(36,36,36)",
            "showbackground": true,
            "showgrid": false,
            "showline": true,
            "ticks": "outside",
            "zeroline": false,
            "zerolinecolor": "rgb(36,36,36)"
           },
           "zaxis": {
            "backgroundcolor": "white",
            "gridcolor": "rgb(232,232,232)",
            "gridwidth": 2,
            "linecolor": "rgb(36,36,36)",
            "showbackground": true,
            "showgrid": false,
            "showline": true,
            "ticks": "outside",
            "zeroline": false,
            "zerolinecolor": "rgb(36,36,36)"
           }
          },
          "shapedefaults": {
           "fillcolor": "black",
           "line": {
            "width": 0
           },
           "opacity": 0.3
          },
          "ternary": {
           "aaxis": {
            "gridcolor": "rgb(232,232,232)",
            "linecolor": "rgb(36,36,36)",
            "showgrid": false,
            "showline": true,
            "ticks": "outside"
           },
           "baxis": {
            "gridcolor": "rgb(232,232,232)",
            "linecolor": "rgb(36,36,36)",
            "showgrid": false,
            "showline": true,
            "ticks": "outside"
           },
           "bgcolor": "white",
           "caxis": {
            "gridcolor": "rgb(232,232,232)",
            "linecolor": "rgb(36,36,36)",
            "showgrid": false,
            "showline": true,
            "ticks": "outside"
           }
          },
          "title": {
           "x": 0.05
          },
          "xaxis": {
           "automargin": true,
           "gridcolor": "rgb(232,232,232)",
           "linecolor": "rgb(36,36,36)",
           "showgrid": false,
           "showline": true,
           "ticks": "outside",
           "title": {
            "standoff": 15
           },
           "zeroline": false,
           "zerolinecolor": "rgb(36,36,36)"
          },
          "yaxis": {
           "automargin": true,
           "gridcolor": "rgb(232,232,232)",
           "linecolor": "rgb(36,36,36)",
           "showgrid": false,
           "showline": true,
           "ticks": "outside",
           "title": {
            "standoff": 15
           },
           "zeroline": false,
           "zerolinecolor": "rgb(36,36,36)"
          }
         }
        },
        "width": 800,
        "xaxis": {
         "anchor": "y",
         "domain": [
          0,
          1
         ],
         "ticktext": [
          "1/32",
          "1/16",
          "1/8",
          "1/4",
          "1/2",
          "1"
         ],
         "tickvals": [
          0.03125,
          0.0625,
          0.125,
          0.25,
          0.5,
          1
         ],
         "title": {
          "text": "GDP per person (US = 1) in 1960"
         },
         "type": "log"
        },
        "yaxis": {
         "anchor": "x",
         "domain": [
          0,
          1
         ],
         "title": {
          "text": "Growth rate, 1960-2015"
         }
        }
       }
      }
     },
     "metadata": {},
     "output_type": "display_data"
    }
   ],
   "source": [
    "fig = px.scatter(data_for_plot, 'rgdpc1960_rel_us', 'rgdpc_growth', \n",
    "                 text = data_for_plot.index, \n",
    "                 log_x = True)\n",
    "\n",
    "fig.update_layout(template = 'simple_white',\n",
    "                  width = 800, height = 600,\n",
    "                  xaxis_title = 'GDP per person (US = 1) in 1960',\n",
    "                  yaxis_title = 'Growth rate, 1960-2015')\n",
    "fig.update_xaxes(tickvals = [1/32, 1/16, 1/8, 1/4, 1/2, 1],\n",
    "                 ticktext = [\"1/32\", \"1/16\", \"1/8\", \"1/4\", \"1/2\", \"1\"])\n",
    "fig.update_traces(mode='text')"
   ]
  },
  {
   "cell_type": "markdown",
   "metadata": {},
   "source": [
    "## Replicating Figure 25"
   ]
  },
  {
   "cell_type": "code",
   "execution_count": 10,
   "metadata": {},
   "outputs": [
    {
     "data": {
      "application/vnd.plotly.v1+json": {
       "config": {
        "plotlyServerURL": "https://plot.ly"
       },
       "data": [
        {
         "hovertemplate": "rgdpc1960_rel_us=%{x}<br>rgdpc_growth=%{y}<br>text=%{text}<extra></extra>",
         "legendgroup": "",
         "marker": {
          "color": "#636efa",
          "symbol": "circle"
         },
         "mode": "text",
         "name": "",
         "orientation": "v",
         "showlegend": false,
         "text": [
          "Austria",
          "Belgium",
          "Canada",
          "Denmark",
          "Finland",
          "France",
          "Germany",
          "Greece",
          "Iceland",
          "Ireland",
          "Italy",
          "Japan",
          "Luxembourg",
          "Netherlands",
          "Norway",
          "Portugal",
          "Spain",
          "Sweden",
          "Switzerland",
          "Turkey",
          "United Kingdom",
          "United States"
         ],
         "type": "scatter",
         "x": [
          0.5352819453145763,
          0.5570409850630907,
          0.806832102025707,
          0.7111701776439209,
          0.5212506325738926,
          0.5835902152049627,
          0.5848590745345899,
          0.28730314734403695,
          0.6669185118183787,
          0.35101211546384553,
          0.39743428321219343,
          0.28688484051794627,
          0.9679210860350247,
          0.6872883368961127,
          0.6524747722690727,
          0.23986638945964034,
          0.3337665465599171,
          0.7060070579342553,
          1.2185370153894615,
          0.26892010698704916,
          0.6959180270570614,
          1
         ],
         "xaxis": "x",
         "y": [
          0.028740250812085158,
          0.025366744775885925,
          0.020272934186277135,
          0.022778329312222664,
          0.026044772787598737,
          0.02369952750916782,
          0.026551162008377104,
          0.028533427564831435,
          0.023916432423836717,
          0.04416225433807151,
          0.028816357334968564,
          0.03628672405520826,
          0.02718838554652992,
          0.02493019433044898,
          0.031598624757050525,
          0.033351945268398124,
          0.03138072588149153,
          0.023883991754490484,
          0.020414033517061756,
          0.02933674277101743,
          0.021208143128003634,
          0.020384641724476765
         ],
         "yaxis": "y"
        }
       ],
       "layout": {
        "height": 600,
        "legend": {
         "tracegroupgap": 0
        },
        "margin": {
         "t": 60
        },
        "template": {
         "data": {
          "bar": [
           {
            "error_x": {
             "color": "rgb(36,36,36)"
            },
            "error_y": {
             "color": "rgb(36,36,36)"
            },
            "marker": {
             "line": {
              "color": "white",
              "width": 0.5
             },
             "pattern": {
              "fillmode": "overlay",
              "size": 10,
              "solidity": 0.2
             }
            },
            "type": "bar"
           }
          ],
          "barpolar": [
           {
            "marker": {
             "line": {
              "color": "white",
              "width": 0.5
             },
             "pattern": {
              "fillmode": "overlay",
              "size": 10,
              "solidity": 0.2
             }
            },
            "type": "barpolar"
           }
          ],
          "carpet": [
           {
            "aaxis": {
             "endlinecolor": "rgb(36,36,36)",
             "gridcolor": "white",
             "linecolor": "white",
             "minorgridcolor": "white",
             "startlinecolor": "rgb(36,36,36)"
            },
            "baxis": {
             "endlinecolor": "rgb(36,36,36)",
             "gridcolor": "white",
             "linecolor": "white",
             "minorgridcolor": "white",
             "startlinecolor": "rgb(36,36,36)"
            },
            "type": "carpet"
           }
          ],
          "choropleth": [
           {
            "colorbar": {
             "outlinewidth": 1,
             "tickcolor": "rgb(36,36,36)",
             "ticks": "outside"
            },
            "type": "choropleth"
           }
          ],
          "contour": [
           {
            "colorbar": {
             "outlinewidth": 1,
             "tickcolor": "rgb(36,36,36)",
             "ticks": "outside"
            },
            "colorscale": [
             [
              0,
              "#440154"
             ],
             [
              0.1111111111111111,
              "#482878"
             ],
             [
              0.2222222222222222,
              "#3e4989"
             ],
             [
              0.3333333333333333,
              "#31688e"
             ],
             [
              0.4444444444444444,
              "#26828e"
             ],
             [
              0.5555555555555556,
              "#1f9e89"
             ],
             [
              0.6666666666666666,
              "#35b779"
             ],
             [
              0.7777777777777778,
              "#6ece58"
             ],
             [
              0.8888888888888888,
              "#b5de2b"
             ],
             [
              1,
              "#fde725"
             ]
            ],
            "type": "contour"
           }
          ],
          "contourcarpet": [
           {
            "colorbar": {
             "outlinewidth": 1,
             "tickcolor": "rgb(36,36,36)",
             "ticks": "outside"
            },
            "type": "contourcarpet"
           }
          ],
          "heatmap": [
           {
            "colorbar": {
             "outlinewidth": 1,
             "tickcolor": "rgb(36,36,36)",
             "ticks": "outside"
            },
            "colorscale": [
             [
              0,
              "#440154"
             ],
             [
              0.1111111111111111,
              "#482878"
             ],
             [
              0.2222222222222222,
              "#3e4989"
             ],
             [
              0.3333333333333333,
              "#31688e"
             ],
             [
              0.4444444444444444,
              "#26828e"
             ],
             [
              0.5555555555555556,
              "#1f9e89"
             ],
             [
              0.6666666666666666,
              "#35b779"
             ],
             [
              0.7777777777777778,
              "#6ece58"
             ],
             [
              0.8888888888888888,
              "#b5de2b"
             ],
             [
              1,
              "#fde725"
             ]
            ],
            "type": "heatmap"
           }
          ],
          "heatmapgl": [
           {
            "colorbar": {
             "outlinewidth": 1,
             "tickcolor": "rgb(36,36,36)",
             "ticks": "outside"
            },
            "colorscale": [
             [
              0,
              "#440154"
             ],
             [
              0.1111111111111111,
              "#482878"
             ],
             [
              0.2222222222222222,
              "#3e4989"
             ],
             [
              0.3333333333333333,
              "#31688e"
             ],
             [
              0.4444444444444444,
              "#26828e"
             ],
             [
              0.5555555555555556,
              "#1f9e89"
             ],
             [
              0.6666666666666666,
              "#35b779"
             ],
             [
              0.7777777777777778,
              "#6ece58"
             ],
             [
              0.8888888888888888,
              "#b5de2b"
             ],
             [
              1,
              "#fde725"
             ]
            ],
            "type": "heatmapgl"
           }
          ],
          "histogram": [
           {
            "marker": {
             "line": {
              "color": "white",
              "width": 0.6
             }
            },
            "type": "histogram"
           }
          ],
          "histogram2d": [
           {
            "colorbar": {
             "outlinewidth": 1,
             "tickcolor": "rgb(36,36,36)",
             "ticks": "outside"
            },
            "colorscale": [
             [
              0,
              "#440154"
             ],
             [
              0.1111111111111111,
              "#482878"
             ],
             [
              0.2222222222222222,
              "#3e4989"
             ],
             [
              0.3333333333333333,
              "#31688e"
             ],
             [
              0.4444444444444444,
              "#26828e"
             ],
             [
              0.5555555555555556,
              "#1f9e89"
             ],
             [
              0.6666666666666666,
              "#35b779"
             ],
             [
              0.7777777777777778,
              "#6ece58"
             ],
             [
              0.8888888888888888,
              "#b5de2b"
             ],
             [
              1,
              "#fde725"
             ]
            ],
            "type": "histogram2d"
           }
          ],
          "histogram2dcontour": [
           {
            "colorbar": {
             "outlinewidth": 1,
             "tickcolor": "rgb(36,36,36)",
             "ticks": "outside"
            },
            "colorscale": [
             [
              0,
              "#440154"
             ],
             [
              0.1111111111111111,
              "#482878"
             ],
             [
              0.2222222222222222,
              "#3e4989"
             ],
             [
              0.3333333333333333,
              "#31688e"
             ],
             [
              0.4444444444444444,
              "#26828e"
             ],
             [
              0.5555555555555556,
              "#1f9e89"
             ],
             [
              0.6666666666666666,
              "#35b779"
             ],
             [
              0.7777777777777778,
              "#6ece58"
             ],
             [
              0.8888888888888888,
              "#b5de2b"
             ],
             [
              1,
              "#fde725"
             ]
            ],
            "type": "histogram2dcontour"
           }
          ],
          "mesh3d": [
           {
            "colorbar": {
             "outlinewidth": 1,
             "tickcolor": "rgb(36,36,36)",
             "ticks": "outside"
            },
            "type": "mesh3d"
           }
          ],
          "parcoords": [
           {
            "line": {
             "colorbar": {
              "outlinewidth": 1,
              "tickcolor": "rgb(36,36,36)",
              "ticks": "outside"
             }
            },
            "type": "parcoords"
           }
          ],
          "pie": [
           {
            "automargin": true,
            "type": "pie"
           }
          ],
          "scatter": [
           {
            "fillpattern": {
             "fillmode": "overlay",
             "size": 10,
             "solidity": 0.2
            },
            "type": "scatter"
           }
          ],
          "scatter3d": [
           {
            "line": {
             "colorbar": {
              "outlinewidth": 1,
              "tickcolor": "rgb(36,36,36)",
              "ticks": "outside"
             }
            },
            "marker": {
             "colorbar": {
              "outlinewidth": 1,
              "tickcolor": "rgb(36,36,36)",
              "ticks": "outside"
             }
            },
            "type": "scatter3d"
           }
          ],
          "scattercarpet": [
           {
            "marker": {
             "colorbar": {
              "outlinewidth": 1,
              "tickcolor": "rgb(36,36,36)",
              "ticks": "outside"
             }
            },
            "type": "scattercarpet"
           }
          ],
          "scattergeo": [
           {
            "marker": {
             "colorbar": {
              "outlinewidth": 1,
              "tickcolor": "rgb(36,36,36)",
              "ticks": "outside"
             }
            },
            "type": "scattergeo"
           }
          ],
          "scattergl": [
           {
            "marker": {
             "colorbar": {
              "outlinewidth": 1,
              "tickcolor": "rgb(36,36,36)",
              "ticks": "outside"
             }
            },
            "type": "scattergl"
           }
          ],
          "scattermapbox": [
           {
            "marker": {
             "colorbar": {
              "outlinewidth": 1,
              "tickcolor": "rgb(36,36,36)",
              "ticks": "outside"
             }
            },
            "type": "scattermapbox"
           }
          ],
          "scatterpolar": [
           {
            "marker": {
             "colorbar": {
              "outlinewidth": 1,
              "tickcolor": "rgb(36,36,36)",
              "ticks": "outside"
             }
            },
            "type": "scatterpolar"
           }
          ],
          "scatterpolargl": [
           {
            "marker": {
             "colorbar": {
              "outlinewidth": 1,
              "tickcolor": "rgb(36,36,36)",
              "ticks": "outside"
             }
            },
            "type": "scatterpolargl"
           }
          ],
          "scatterternary": [
           {
            "marker": {
             "colorbar": {
              "outlinewidth": 1,
              "tickcolor": "rgb(36,36,36)",
              "ticks": "outside"
             }
            },
            "type": "scatterternary"
           }
          ],
          "surface": [
           {
            "colorbar": {
             "outlinewidth": 1,
             "tickcolor": "rgb(36,36,36)",
             "ticks": "outside"
            },
            "colorscale": [
             [
              0,
              "#440154"
             ],
             [
              0.1111111111111111,
              "#482878"
             ],
             [
              0.2222222222222222,
              "#3e4989"
             ],
             [
              0.3333333333333333,
              "#31688e"
             ],
             [
              0.4444444444444444,
              "#26828e"
             ],
             [
              0.5555555555555556,
              "#1f9e89"
             ],
             [
              0.6666666666666666,
              "#35b779"
             ],
             [
              0.7777777777777778,
              "#6ece58"
             ],
             [
              0.8888888888888888,
              "#b5de2b"
             ],
             [
              1,
              "#fde725"
             ]
            ],
            "type": "surface"
           }
          ],
          "table": [
           {
            "cells": {
             "fill": {
              "color": "rgb(237,237,237)"
             },
             "line": {
              "color": "white"
             }
            },
            "header": {
             "fill": {
              "color": "rgb(217,217,217)"
             },
             "line": {
              "color": "white"
             }
            },
            "type": "table"
           }
          ]
         },
         "layout": {
          "annotationdefaults": {
           "arrowhead": 0,
           "arrowwidth": 1
          },
          "autotypenumbers": "strict",
          "coloraxis": {
           "colorbar": {
            "outlinewidth": 1,
            "tickcolor": "rgb(36,36,36)",
            "ticks": "outside"
           }
          },
          "colorscale": {
           "diverging": [
            [
             0,
             "rgb(103,0,31)"
            ],
            [
             0.1,
             "rgb(178,24,43)"
            ],
            [
             0.2,
             "rgb(214,96,77)"
            ],
            [
             0.3,
             "rgb(244,165,130)"
            ],
            [
             0.4,
             "rgb(253,219,199)"
            ],
            [
             0.5,
             "rgb(247,247,247)"
            ],
            [
             0.6,
             "rgb(209,229,240)"
            ],
            [
             0.7,
             "rgb(146,197,222)"
            ],
            [
             0.8,
             "rgb(67,147,195)"
            ],
            [
             0.9,
             "rgb(33,102,172)"
            ],
            [
             1,
             "rgb(5,48,97)"
            ]
           ],
           "sequential": [
            [
             0,
             "#440154"
            ],
            [
             0.1111111111111111,
             "#482878"
            ],
            [
             0.2222222222222222,
             "#3e4989"
            ],
            [
             0.3333333333333333,
             "#31688e"
            ],
            [
             0.4444444444444444,
             "#26828e"
            ],
            [
             0.5555555555555556,
             "#1f9e89"
            ],
            [
             0.6666666666666666,
             "#35b779"
            ],
            [
             0.7777777777777778,
             "#6ece58"
            ],
            [
             0.8888888888888888,
             "#b5de2b"
            ],
            [
             1,
             "#fde725"
            ]
           ],
           "sequentialminus": [
            [
             0,
             "#440154"
            ],
            [
             0.1111111111111111,
             "#482878"
            ],
            [
             0.2222222222222222,
             "#3e4989"
            ],
            [
             0.3333333333333333,
             "#31688e"
            ],
            [
             0.4444444444444444,
             "#26828e"
            ],
            [
             0.5555555555555556,
             "#1f9e89"
            ],
            [
             0.6666666666666666,
             "#35b779"
            ],
            [
             0.7777777777777778,
             "#6ece58"
            ],
            [
             0.8888888888888888,
             "#b5de2b"
            ],
            [
             1,
             "#fde725"
            ]
           ]
          },
          "colorway": [
           "#1F77B4",
           "#FF7F0E",
           "#2CA02C",
           "#D62728",
           "#9467BD",
           "#8C564B",
           "#E377C2",
           "#7F7F7F",
           "#BCBD22",
           "#17BECF"
          ],
          "font": {
           "color": "rgb(36,36,36)"
          },
          "geo": {
           "bgcolor": "white",
           "lakecolor": "white",
           "landcolor": "white",
           "showlakes": true,
           "showland": true,
           "subunitcolor": "white"
          },
          "hoverlabel": {
           "align": "left"
          },
          "hovermode": "closest",
          "mapbox": {
           "style": "light"
          },
          "paper_bgcolor": "white",
          "plot_bgcolor": "white",
          "polar": {
           "angularaxis": {
            "gridcolor": "rgb(232,232,232)",
            "linecolor": "rgb(36,36,36)",
            "showgrid": false,
            "showline": true,
            "ticks": "outside"
           },
           "bgcolor": "white",
           "radialaxis": {
            "gridcolor": "rgb(232,232,232)",
            "linecolor": "rgb(36,36,36)",
            "showgrid": false,
            "showline": true,
            "ticks": "outside"
           }
          },
          "scene": {
           "xaxis": {
            "backgroundcolor": "white",
            "gridcolor": "rgb(232,232,232)",
            "gridwidth": 2,
            "linecolor": "rgb(36,36,36)",
            "showbackground": true,
            "showgrid": false,
            "showline": true,
            "ticks": "outside",
            "zeroline": false,
            "zerolinecolor": "rgb(36,36,36)"
           },
           "yaxis": {
            "backgroundcolor": "white",
            "gridcolor": "rgb(232,232,232)",
            "gridwidth": 2,
            "linecolor": "rgb(36,36,36)",
            "showbackground": true,
            "showgrid": false,
            "showline": true,
            "ticks": "outside",
            "zeroline": false,
            "zerolinecolor": "rgb(36,36,36)"
           },
           "zaxis": {
            "backgroundcolor": "white",
            "gridcolor": "rgb(232,232,232)",
            "gridwidth": 2,
            "linecolor": "rgb(36,36,36)",
            "showbackground": true,
            "showgrid": false,
            "showline": true,
            "ticks": "outside",
            "zeroline": false,
            "zerolinecolor": "rgb(36,36,36)"
           }
          },
          "shapedefaults": {
           "fillcolor": "black",
           "line": {
            "width": 0
           },
           "opacity": 0.3
          },
          "ternary": {
           "aaxis": {
            "gridcolor": "rgb(232,232,232)",
            "linecolor": "rgb(36,36,36)",
            "showgrid": false,
            "showline": true,
            "ticks": "outside"
           },
           "baxis": {
            "gridcolor": "rgb(232,232,232)",
            "linecolor": "rgb(36,36,36)",
            "showgrid": false,
            "showline": true,
            "ticks": "outside"
           },
           "bgcolor": "white",
           "caxis": {
            "gridcolor": "rgb(232,232,232)",
            "linecolor": "rgb(36,36,36)",
            "showgrid": false,
            "showline": true,
            "ticks": "outside"
           }
          },
          "title": {
           "x": 0.05
          },
          "xaxis": {
           "automargin": true,
           "gridcolor": "rgb(232,232,232)",
           "linecolor": "rgb(36,36,36)",
           "showgrid": false,
           "showline": true,
           "ticks": "outside",
           "title": {
            "standoff": 15
           },
           "zeroline": false,
           "zerolinecolor": "rgb(36,36,36)"
          },
          "yaxis": {
           "automargin": true,
           "gridcolor": "rgb(232,232,232)",
           "linecolor": "rgb(36,36,36)",
           "showgrid": false,
           "showline": true,
           "ticks": "outside",
           "title": {
            "standoff": 15
           },
           "zeroline": false,
           "zerolinecolor": "rgb(36,36,36)"
          }
         }
        },
        "width": 800,
        "xaxis": {
         "anchor": "y",
         "domain": [
          0,
          1
         ],
         "ticktext": [
          "1/32",
          "1/16",
          "1/8",
          "1/4",
          "1/2",
          "1"
         ],
         "tickvals": [
          0.03125,
          0.0625,
          0.125,
          0.25,
          0.5,
          1
         ],
         "title": {
          "text": "GDP per person (US = 1) in 1960"
         },
         "type": "log"
        },
        "yaxis": {
         "anchor": "x",
         "domain": [
          0,
          1
         ],
         "title": {
          "text": "Growth rate, 1960-2015"
         }
        }
       }
      }
     },
     "metadata": {},
     "output_type": "display_data"
    }
   ],
   "source": [
    "oecd = ['Austria', 'Belgium', 'Canada', 'Denmark', 'Finland', 'France',\n",
    "        'Germany', 'Greece', 'Iceland', 'Ireland', 'Italy', 'Japan',\n",
    "        'Luxembourg', 'Netherlands', 'Norway', 'Portugal', 'Spain', \n",
    "        'Sweden', 'Switzerland', 'Turkey', 'United Kingdom', 'United States'] \n",
    "#https://www.oecd.org/about/document/ratification-oecd-convention.htm OECD countries by 1970\n",
    "\n",
    "fig = px.scatter(data_for_plot.loc[oecd], 'rgdpc1960_rel_us', 'rgdpc_growth', \n",
    "                 text = data_for_plot.loc[oecd].index, \n",
    "                 log_x = True)\n",
    "\n",
    "fig.update_layout(template = 'simple_white',\n",
    "                  width = 800, height = 600,\n",
    "                  xaxis_title = 'GDP per person (US = 1) in 1960',\n",
    "                  yaxis_title = 'Growth rate, 1960-2015')\n",
    "fig.update_xaxes(tickvals = [1/32, 1/16, 1/8, 1/4, 1/2, 1],\n",
    "                 ticktext = [\"1/32\", \"1/16\", \"1/8\", \"1/4\", \"1/2\", \"1\"])\n",
    "fig.update_traces(mode='text')"
   ]
  }
 ],
 "metadata": {
  "kernelspec": {
   "display_name": "base",
   "language": "python",
   "name": "python3"
  },
  "language_info": {
   "codemirror_mode": {
    "name": "ipython",
    "version": 3
   },
   "file_extension": ".py",
   "mimetype": "text/x-python",
   "name": "python",
   "nbconvert_exporter": "python",
   "pygments_lexer": "ipython3",
   "version": "3.8.15"
  },
  "orig_nbformat": 4
 },
 "nbformat": 4,
 "nbformat_minor": 2
}
